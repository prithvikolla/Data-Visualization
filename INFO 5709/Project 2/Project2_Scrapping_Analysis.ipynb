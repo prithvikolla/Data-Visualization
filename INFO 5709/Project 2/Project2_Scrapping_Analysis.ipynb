{
  "nbformat": 4,
  "nbformat_minor": 0,
  "metadata": {
    "colab": {
      "name": "Project2_Scrapping_Analysis.ipynb",
      "provenance": [],
      "collapsed_sections": []
    },
    "kernelspec": {
      "name": "python3",
      "display_name": "Python 3"
    }
  },
  "cells": [
    {
      "cell_type": "code",
      "metadata": {
        "id": "s7KJWsq30u5X"
      },
      "source": [
        "#https://www.boxofficemojo.com/chart/top_lifetime_gross/?area=XWW\n",
        "#https://www.imdb.com/chart/top"
      ],
      "execution_count": 1,
      "outputs": []
    },
    {
      "cell_type": "code",
      "metadata": {
        "id": "0rhlhWIe1caV",
        "outputId": "ef7dd32f-47a0-4976-f458-d7261f988a70",
        "colab": {
          "base_uri": "https://localhost:8080/"
        }
      },
      "source": [
        "!pip install beautifulsoup4"
      ],
      "execution_count": 2,
      "outputs": [
        {
          "output_type": "stream",
          "text": [
            "Requirement already satisfied: beautifulsoup4 in /usr/local/lib/python3.6/dist-packages (4.6.3)\n"
          ],
          "name": "stdout"
        }
      ]
    },
    {
      "cell_type": "code",
      "metadata": {
        "id": "JangldGO1GLU"
      },
      "source": [
        "import requests\n",
        "import pandas as pd\n",
        "from bs4 import BeautifulSoup\n",
        "ID_Top = [ ]\n",
        "Title_Top = [ ]\n",
        "LTG_Top = [ ]\n",
        "Year_Top = [ ]\n",
        "i = [0,200,400,600,800]\n",
        "for j in i:\n",
        " page = requests.get('https://www.boxofficemojo.com/chart/top_lifetime_gross/?area=XWW&offset='+ str (j))\n",
        " soup = BeautifulSoup(page.content,'html.parser')\n",
        " ID = soup.find_all('td',class_ = 'a-text-right mojo-header-column mojo-truncate mojo-field-type-rank')\n",
        " Title = soup.find_all('td', class_ = 'a-text-left mojo-field-type-title')\n",
        " LTG = soup.find_all('td', class_ = 'a-text-right mojo-field-type-money')\n",
        " Year = soup.find_all('td', class_ = 'a-text-left mojo-field-type-year')\n",
        " for i in ID:\n",
        "   ID_Top.append(i.text)\n",
        " for i in Title:\n",
        "   Title_Top.append(i.text)\n",
        " for i in LTG:\n",
        "   LTG_Top.append(i.text)\n",
        " for i in Year:\n",
        "   Year_Top.append(i.text)"
      ],
      "execution_count": 3,
      "outputs": []
    },
    {
      "cell_type": "code",
      "metadata": {
        "id": "IIFCuoUt1iPI"
      },
      "source": [
        "df_Top_Movies_1000 = pd.DataFrame({'ID': ID_Top,'Title': Title_Top,'Life_Time_Gross': LTG_Top,'Year': Year_Top})"
      ],
      "execution_count": 4,
      "outputs": []
    },
    {
      "cell_type": "code",
      "metadata": {
        "id": "uaJPDODpJUBZ",
        "outputId": "ac6df651-64c3-4e83-ee27-3e0838cebeb1",
        "colab": {
          "base_uri": "https://localhost:8080/",
          "height": 204
        }
      },
      "source": [
        "df_Top_Movies_1000.head()"
      ],
      "execution_count": 5,
      "outputs": [
        {
          "output_type": "execute_result",
          "data": {
            "text/html": [
              "<div>\n",
              "<style scoped>\n",
              "    .dataframe tbody tr th:only-of-type {\n",
              "        vertical-align: middle;\n",
              "    }\n",
              "\n",
              "    .dataframe tbody tr th {\n",
              "        vertical-align: top;\n",
              "    }\n",
              "\n",
              "    .dataframe thead th {\n",
              "        text-align: right;\n",
              "    }\n",
              "</style>\n",
              "<table border=\"1\" class=\"dataframe\">\n",
              "  <thead>\n",
              "    <tr style=\"text-align: right;\">\n",
              "      <th></th>\n",
              "      <th>ID</th>\n",
              "      <th>Title</th>\n",
              "      <th>Life_Time_Gross</th>\n",
              "      <th>Year</th>\n",
              "    </tr>\n",
              "  </thead>\n",
              "  <tbody>\n",
              "    <tr>\n",
              "      <th>0</th>\n",
              "      <td>1</td>\n",
              "      <td>Avengers: Endgame</td>\n",
              "      <td>$2,797,800,564</td>\n",
              "      <td>2019</td>\n",
              "    </tr>\n",
              "    <tr>\n",
              "      <th>1</th>\n",
              "      <td>2</td>\n",
              "      <td>Avatar</td>\n",
              "      <td>$2,790,439,092</td>\n",
              "      <td>2009</td>\n",
              "    </tr>\n",
              "    <tr>\n",
              "      <th>2</th>\n",
              "      <td>3</td>\n",
              "      <td>Titanic</td>\n",
              "      <td>$2,195,170,133</td>\n",
              "      <td>1997</td>\n",
              "    </tr>\n",
              "    <tr>\n",
              "      <th>3</th>\n",
              "      <td>4</td>\n",
              "      <td>Star Wars: Episode VII - The Force Awakens</td>\n",
              "      <td>$2,068,455,512</td>\n",
              "      <td>2015</td>\n",
              "    </tr>\n",
              "    <tr>\n",
              "      <th>4</th>\n",
              "      <td>5</td>\n",
              "      <td>Avengers: Infinity War</td>\n",
              "      <td>$2,048,359,754</td>\n",
              "      <td>2018</td>\n",
              "    </tr>\n",
              "  </tbody>\n",
              "</table>\n",
              "</div>"
            ],
            "text/plain": [
              "  ID                                       Title Life_Time_Gross  Year\n",
              "0  1                           Avengers: Endgame  $2,797,800,564  2019\n",
              "1  2                                      Avatar  $2,790,439,092  2009\n",
              "2  3                                     Titanic  $2,195,170,133  1997\n",
              "3  4  Star Wars: Episode VII - The Force Awakens  $2,068,455,512  2015\n",
              "4  5                      Avengers: Infinity War  $2,048,359,754  2018"
            ]
          },
          "metadata": {
            "tags": []
          },
          "execution_count": 5
        }
      ]
    },
    {
      "cell_type": "code",
      "metadata": {
        "id": "SFwl-u_JKAcd"
      },
      "source": [
        "Title_Top = [ ]\n",
        "Rating_Top = [ ]\n",
        "Year_Top = [ ]\n",
        "page1 = requests.get('https://www.imdb.com/chart/top')\n",
        "soup = BeautifulSoup(page1.content,'html.parser')\n",
        "Title = soup.find_all('td',class_='titleColumn')\n",
        "Year = soup.find_all('span',class_ = 'secondaryInfo')\n",
        "Rating = soup.find_all('td',class_='ratingColumn imdbRating')\n",
        "for i in Title:\n",
        "  Title_Top.append(i.text)\n",
        "for i in Year:\n",
        "  Year_Top.append(i.text)\n",
        "for i in Rating:\n",
        "  Rating_Top.append(i.text)"
      ],
      "execution_count": 6,
      "outputs": []
    },
    {
      "cell_type": "code",
      "metadata": {
        "id": "J9lFUG6QOEbI"
      },
      "source": [
        "df_Top_250_Movies = pd.DataFrame({'Title':Title_Top,'Year':Year_Top,'IMDB_Rating':Rating_Top})"
      ],
      "execution_count": 7,
      "outputs": []
    },
    {
      "cell_type": "code",
      "metadata": {
        "id": "uSzCgM90OXWt"
      },
      "source": [
        "data_1000 = pd.read_excel('/content/Top_1000_Movies_Data.xlsx')"
      ],
      "execution_count": 8,
      "outputs": []
    },
    {
      "cell_type": "code",
      "metadata": {
        "id": "xwp2hiUtOY-e"
      },
      "source": [
        "data_250 = pd.read_excel('/content/Top_250_Movies_IMDB_R_Data.xlsx')"
      ],
      "execution_count": 9,
      "outputs": []
    },
    {
      "cell_type": "code",
      "metadata": {
        "id": "joYOCtkhb5aU",
        "outputId": "484e1720-1463-452b-b5cd-37f486a39361",
        "colab": {
          "base_uri": "https://localhost:8080/",
          "height": 204
        }
      },
      "source": [
        "data_1000.head()"
      ],
      "execution_count": 10,
      "outputs": [
        {
          "output_type": "execute_result",
          "data": {
            "text/html": [
              "<div>\n",
              "<style scoped>\n",
              "    .dataframe tbody tr th:only-of-type {\n",
              "        vertical-align: middle;\n",
              "    }\n",
              "\n",
              "    .dataframe tbody tr th {\n",
              "        vertical-align: top;\n",
              "    }\n",
              "\n",
              "    .dataframe thead th {\n",
              "        text-align: right;\n",
              "    }\n",
              "</style>\n",
              "<table border=\"1\" class=\"dataframe\">\n",
              "  <thead>\n",
              "    <tr style=\"text-align: right;\">\n",
              "      <th></th>\n",
              "      <th>ID</th>\n",
              "      <th>Title</th>\n",
              "      <th>Life_Time_Gross</th>\n",
              "      <th>Year</th>\n",
              "    </tr>\n",
              "  </thead>\n",
              "  <tbody>\n",
              "    <tr>\n",
              "      <th>0</th>\n",
              "      <td>1</td>\n",
              "      <td>Avengers: Endgame</td>\n",
              "      <td>$2,797,800,564</td>\n",
              "      <td>2019</td>\n",
              "    </tr>\n",
              "    <tr>\n",
              "      <th>1</th>\n",
              "      <td>2</td>\n",
              "      <td>Avatar</td>\n",
              "      <td>$2,790,439,092</td>\n",
              "      <td>2009</td>\n",
              "    </tr>\n",
              "    <tr>\n",
              "      <th>2</th>\n",
              "      <td>3</td>\n",
              "      <td>Titanic</td>\n",
              "      <td>$2,195,170,133</td>\n",
              "      <td>1997</td>\n",
              "    </tr>\n",
              "    <tr>\n",
              "      <th>3</th>\n",
              "      <td>4</td>\n",
              "      <td>Star Wars: Episode VII - The Force Awakens</td>\n",
              "      <td>$2,068,455,512</td>\n",
              "      <td>2015</td>\n",
              "    </tr>\n",
              "    <tr>\n",
              "      <th>4</th>\n",
              "      <td>5</td>\n",
              "      <td>Avengers: Infinity War</td>\n",
              "      <td>$2,048,359,754</td>\n",
              "      <td>2018</td>\n",
              "    </tr>\n",
              "  </tbody>\n",
              "</table>\n",
              "</div>"
            ],
            "text/plain": [
              "  ID                                       Title Life_Time_Gross  Year\n",
              "0  1                           Avengers: Endgame  $2,797,800,564  2019\n",
              "1  2                                      Avatar  $2,790,439,092  2009\n",
              "2  3                                     Titanic  $2,195,170,133  1997\n",
              "3  4  Star Wars: Episode VII - The Force Awakens  $2,068,455,512  2015\n",
              "4  5                      Avengers: Infinity War  $2,048,359,754  2018"
            ]
          },
          "metadata": {
            "tags": []
          },
          "execution_count": 10
        }
      ]
    },
    {
      "cell_type": "code",
      "metadata": {
        "id": "cF717WqHb65M",
        "outputId": "058314c2-05f1-4fb9-e174-e90445cff909",
        "colab": {
          "base_uri": "https://localhost:8080/",
          "height": 204
        }
      },
      "source": [
        "data_250.head()"
      ],
      "execution_count": 11,
      "outputs": [
        {
          "output_type": "execute_result",
          "data": {
            "text/html": [
              "<div>\n",
              "<style scoped>\n",
              "    .dataframe tbody tr th:only-of-type {\n",
              "        vertical-align: middle;\n",
              "    }\n",
              "\n",
              "    .dataframe tbody tr th {\n",
              "        vertical-align: top;\n",
              "    }\n",
              "\n",
              "    .dataframe thead th {\n",
              "        text-align: right;\n",
              "    }\n",
              "</style>\n",
              "<table border=\"1\" class=\"dataframe\">\n",
              "  <thead>\n",
              "    <tr style=\"text-align: right;\">\n",
              "      <th></th>\n",
              "      <th>Unnamed: 0</th>\n",
              "      <th>Title</th>\n",
              "      <th>Year</th>\n",
              "      <th>IMDB_Rating</th>\n",
              "    </tr>\n",
              "  </thead>\n",
              "  <tbody>\n",
              "    <tr>\n",
              "      <th>0</th>\n",
              "      <td>1.0</td>\n",
              "      <td>The Shawshank Redemption</td>\n",
              "      <td>1994</td>\n",
              "      <td>9.2</td>\n",
              "    </tr>\n",
              "    <tr>\n",
              "      <th>1</th>\n",
              "      <td>2.0</td>\n",
              "      <td>The Godfather</td>\n",
              "      <td>1972</td>\n",
              "      <td>9.1</td>\n",
              "    </tr>\n",
              "    <tr>\n",
              "      <th>2</th>\n",
              "      <td>3.0</td>\n",
              "      <td>The Godfather: Part II</td>\n",
              "      <td>1974</td>\n",
              "      <td>9.0</td>\n",
              "    </tr>\n",
              "    <tr>\n",
              "      <th>3</th>\n",
              "      <td>4.0</td>\n",
              "      <td>The Dark Knight</td>\n",
              "      <td>2008</td>\n",
              "      <td>9.0</td>\n",
              "    </tr>\n",
              "    <tr>\n",
              "      <th>4</th>\n",
              "      <td>5.0</td>\n",
              "      <td>12 Angry Men</td>\n",
              "      <td>1957</td>\n",
              "      <td>8.9</td>\n",
              "    </tr>\n",
              "  </tbody>\n",
              "</table>\n",
              "</div>"
            ],
            "text/plain": [
              "   Unnamed: 0                     Title  Year  IMDB_Rating\n",
              "0         1.0  The Shawshank Redemption  1994          9.2\n",
              "1         2.0             The Godfather  1972          9.1\n",
              "2         3.0    The Godfather: Part II  1974          9.0\n",
              "3         4.0           The Dark Knight  2008          9.0\n",
              "4         5.0              12 Angry Men  1957          8.9"
            ]
          },
          "metadata": {
            "tags": []
          },
          "execution_count": 11
        }
      ]
    },
    {
      "cell_type": "code",
      "metadata": {
        "id": "1mAWtw7Rb88P",
        "outputId": "27d7d05b-c57c-4095-eadb-8d86816a9c78",
        "colab": {
          "base_uri": "https://localhost:8080/"
        }
      },
      "source": [
        "data_250.pop('Unnamed: 0')"
      ],
      "execution_count": 12,
      "outputs": [
        {
          "output_type": "execute_result",
          "data": {
            "text/plain": [
              "0        1.0\n",
              "1        2.0\n",
              "2        3.0\n",
              "3        4.0\n",
              "4        5.0\n",
              "       ...  \n",
              "245    246.0\n",
              "246    247.0\n",
              "247    248.0\n",
              "248    249.0\n",
              "249    250.0\n",
              "Name: Unnamed: 0, Length: 250, dtype: float64"
            ]
          },
          "metadata": {
            "tags": []
          },
          "execution_count": 12
        }
      ]
    },
    {
      "cell_type": "code",
      "metadata": {
        "id": "iEzCn6owcI41",
        "outputId": "0d3fdc86-a4da-483f-d3c1-0b86a78f6ee2",
        "colab": {
          "base_uri": "https://localhost:8080/",
          "height": 419
        }
      },
      "source": [
        "data_250"
      ],
      "execution_count": 13,
      "outputs": [
        {
          "output_type": "execute_result",
          "data": {
            "text/html": [
              "<div>\n",
              "<style scoped>\n",
              "    .dataframe tbody tr th:only-of-type {\n",
              "        vertical-align: middle;\n",
              "    }\n",
              "\n",
              "    .dataframe tbody tr th {\n",
              "        vertical-align: top;\n",
              "    }\n",
              "\n",
              "    .dataframe thead th {\n",
              "        text-align: right;\n",
              "    }\n",
              "</style>\n",
              "<table border=\"1\" class=\"dataframe\">\n",
              "  <thead>\n",
              "    <tr style=\"text-align: right;\">\n",
              "      <th></th>\n",
              "      <th>Title</th>\n",
              "      <th>Year</th>\n",
              "      <th>IMDB_Rating</th>\n",
              "    </tr>\n",
              "  </thead>\n",
              "  <tbody>\n",
              "    <tr>\n",
              "      <th>0</th>\n",
              "      <td>The Shawshank Redemption</td>\n",
              "      <td>1994</td>\n",
              "      <td>9.2</td>\n",
              "    </tr>\n",
              "    <tr>\n",
              "      <th>1</th>\n",
              "      <td>The Godfather</td>\n",
              "      <td>1972</td>\n",
              "      <td>9.1</td>\n",
              "    </tr>\n",
              "    <tr>\n",
              "      <th>2</th>\n",
              "      <td>The Godfather: Part II</td>\n",
              "      <td>1974</td>\n",
              "      <td>9.0</td>\n",
              "    </tr>\n",
              "    <tr>\n",
              "      <th>3</th>\n",
              "      <td>The Dark Knight</td>\n",
              "      <td>2008</td>\n",
              "      <td>9.0</td>\n",
              "    </tr>\n",
              "    <tr>\n",
              "      <th>4</th>\n",
              "      <td>12 Angry Men</td>\n",
              "      <td>1957</td>\n",
              "      <td>8.9</td>\n",
              "    </tr>\n",
              "    <tr>\n",
              "      <th>...</th>\n",
              "      <td>...</td>\n",
              "      <td>...</td>\n",
              "      <td>...</td>\n",
              "    </tr>\n",
              "    <tr>\n",
              "      <th>245</th>\n",
              "      <td>The Battle of Algiers</td>\n",
              "      <td>1966</td>\n",
              "      <td>8.0</td>\n",
              "    </tr>\n",
              "    <tr>\n",
              "      <th>246</th>\n",
              "      <td>The Terminator</td>\n",
              "      <td>1984</td>\n",
              "      <td>8.0</td>\n",
              "    </tr>\n",
              "    <tr>\n",
              "      <th>247</th>\n",
              "      <td>Aladdin</td>\n",
              "      <td>1992</td>\n",
              "      <td>8.0</td>\n",
              "    </tr>\n",
              "    <tr>\n",
              "      <th>248</th>\n",
              "      <td>Tangerines</td>\n",
              "      <td>2013</td>\n",
              "      <td>8.0</td>\n",
              "    </tr>\n",
              "    <tr>\n",
              "      <th>249</th>\n",
              "      <td>Fanny and Alexander</td>\n",
              "      <td>1982</td>\n",
              "      <td>8.0</td>\n",
              "    </tr>\n",
              "  </tbody>\n",
              "</table>\n",
              "<p>250 rows × 3 columns</p>\n",
              "</div>"
            ],
            "text/plain": [
              "                        Title  Year  IMDB_Rating\n",
              "0    The Shawshank Redemption  1994          9.2\n",
              "1               The Godfather  1972          9.1\n",
              "2      The Godfather: Part II  1974          9.0\n",
              "3             The Dark Knight  2008          9.0\n",
              "4                12 Angry Men  1957          8.9\n",
              "..                        ...   ...          ...\n",
              "245     The Battle of Algiers  1966          8.0\n",
              "246            The Terminator  1984          8.0\n",
              "247                   Aladdin  1992          8.0\n",
              "248                Tangerines  2013          8.0\n",
              "249       Fanny and Alexander  1982          8.0\n",
              "\n",
              "[250 rows x 3 columns]"
            ]
          },
          "metadata": {
            "tags": []
          },
          "execution_count": 13
        }
      ]
    },
    {
      "cell_type": "code",
      "metadata": {
        "id": "U7lOuONzcXpX"
      },
      "source": [
        "result_data = pd.merge(data_1000,data_250)"
      ],
      "execution_count": 14,
      "outputs": []
    },
    {
      "cell_type": "code",
      "metadata": {
        "id": "RHJtSLpJYHkf"
      },
      "source": [
        "result_data.to_excel('merged_MovieData.xlsx')"
      ],
      "execution_count": 15,
      "outputs": []
    },
    {
      "cell_type": "code",
      "metadata": {
        "id": "EHrSrDXoI841"
      },
      "source": [
        "result = pd.read_excel('/content/final_Merged_MovieData.xlsx')"
      ],
      "execution_count": 16,
      "outputs": []
    },
    {
      "cell_type": "code",
      "metadata": {
        "id": "uS5Q2CUYYQ0S"
      },
      "source": [
        "import io\n",
        "\n",
        "urlfile=\"https://raw.githubusercontent.com/thechaudharysab/imdb-data-pandas-visualization/master/data/imdb_1000.csv\"\n",
        "\n",
        "url=requests.get(urlfile).content\n",
        "\n",
        "df_Duration =pd.read_csv(io.StringIO(url.decode('utf-8')))"
      ],
      "execution_count": 17,
      "outputs": []
    },
    {
      "cell_type": "code",
      "metadata": {
        "id": "zsgRsN5K7uXt",
        "outputId": "f53ac7d2-b81b-49f7-86af-9a32768b8779",
        "colab": {
          "base_uri": "https://localhost:8080/"
        }
      },
      "source": [
        "df_Duration.pop('star_rating')"
      ],
      "execution_count": 18,
      "outputs": [
        {
          "output_type": "execute_result",
          "data": {
            "text/plain": [
              "0      9.3\n",
              "1      9.2\n",
              "2      9.1\n",
              "3      9.0\n",
              "4      8.9\n",
              "      ... \n",
              "974    7.4\n",
              "975    7.4\n",
              "976    7.4\n",
              "977    7.4\n",
              "978    7.4\n",
              "Name: star_rating, Length: 979, dtype: float64"
            ]
          },
          "metadata": {
            "tags": []
          },
          "execution_count": 18
        }
      ]
    },
    {
      "cell_type": "code",
      "metadata": {
        "id": "yBYDGiF9_FnT",
        "outputId": "c9856f36-9245-4bb6-bcc2-0be9c0fb14d3",
        "colab": {
          "base_uri": "https://localhost:8080/"
        }
      },
      "source": [
        "df_Duration.pop('content_rating')"
      ],
      "execution_count": 19,
      "outputs": [
        {
          "output_type": "execute_result",
          "data": {
            "text/plain": [
              "0          R\n",
              "1          R\n",
              "2          R\n",
              "3      PG-13\n",
              "4          R\n",
              "       ...  \n",
              "974       PG\n",
              "975       PG\n",
              "976    PG-13\n",
              "977       PG\n",
              "978        R\n",
              "Name: content_rating, Length: 979, dtype: object"
            ]
          },
          "metadata": {
            "tags": []
          },
          "execution_count": 19
        }
      ]
    },
    {
      "cell_type": "code",
      "metadata": {
        "id": "R_fATIP5_IPc",
        "outputId": "0548abac-c1ae-45fc-d3f1-1f534616a459",
        "colab": {
          "base_uri": "https://localhost:8080/"
        }
      },
      "source": [
        "df_Duration.pop('genre')"
      ],
      "execution_count": 20,
      "outputs": [
        {
          "output_type": "execute_result",
          "data": {
            "text/plain": [
              "0          Crime\n",
              "1          Crime\n",
              "2          Crime\n",
              "3         Action\n",
              "4          Crime\n",
              "         ...    \n",
              "974       Comedy\n",
              "975    Adventure\n",
              "976       Action\n",
              "977       Horror\n",
              "978        Crime\n",
              "Name: genre, Length: 979, dtype: object"
            ]
          },
          "metadata": {
            "tags": []
          },
          "execution_count": 20
        }
      ]
    },
    {
      "cell_type": "code",
      "metadata": {
        "id": "UoaWGjrw_Id2",
        "outputId": "46308c39-f673-4a51-f4d1-d7d7431b0560",
        "colab": {
          "base_uri": "https://localhost:8080/"
        }
      },
      "source": [
        "df_Duration.pop('actors_list')"
      ],
      "execution_count": 21,
      "outputs": [
        {
          "output_type": "execute_result",
          "data": {
            "text/plain": [
              "0      [u'Tim Robbins', u'Morgan Freeman', u'Bob Gunt...\n",
              "1        [u'Marlon Brando', u'Al Pacino', u'James Caan']\n",
              "2      [u'Al Pacino', u'Robert De Niro', u'Robert Duv...\n",
              "3      [u'Christian Bale', u'Heath Ledger', u'Aaron E...\n",
              "4      [u'John Travolta', u'Uma Thurman', u'Samuel L....\n",
              "                             ...                        \n",
              "974    [u'Dustin Hoffman', u'Jessica Lange', u'Teri G...\n",
              "975    [u'Michael J. Fox', u'Christopher Lloyd', u'Ma...\n",
              "976    [u'Russell Crowe', u'Paul Bettany', u'Billy Bo...\n",
              "977    [u'JoBeth Williams', u\"Heather O'Rourke\", u'Cr...\n",
              "978    [u'Charlie Sheen', u'Michael Douglas', u'Tamar...\n",
              "Name: actors_list, Length: 979, dtype: object"
            ]
          },
          "metadata": {
            "tags": []
          },
          "execution_count": 21
        }
      ]
    },
    {
      "cell_type": "code",
      "metadata": {
        "id": "-xLp1PpU7zDG"
      },
      "source": [
        "df_Duration.columns = ['Title','Duration']"
      ],
      "execution_count": 22,
      "outputs": []
    },
    {
      "cell_type": "code",
      "metadata": {
        "id": "tr6i44lu9F8j",
        "outputId": "3dde6ea1-5265-4eef-f3b4-2346feb1890c",
        "colab": {
          "base_uri": "https://localhost:8080/",
          "height": 204
        }
      },
      "source": [
        "df_Duration.head()"
      ],
      "execution_count": 23,
      "outputs": [
        {
          "output_type": "execute_result",
          "data": {
            "text/html": [
              "<div>\n",
              "<style scoped>\n",
              "    .dataframe tbody tr th:only-of-type {\n",
              "        vertical-align: middle;\n",
              "    }\n",
              "\n",
              "    .dataframe tbody tr th {\n",
              "        vertical-align: top;\n",
              "    }\n",
              "\n",
              "    .dataframe thead th {\n",
              "        text-align: right;\n",
              "    }\n",
              "</style>\n",
              "<table border=\"1\" class=\"dataframe\">\n",
              "  <thead>\n",
              "    <tr style=\"text-align: right;\">\n",
              "      <th></th>\n",
              "      <th>Title</th>\n",
              "      <th>Duration</th>\n",
              "    </tr>\n",
              "  </thead>\n",
              "  <tbody>\n",
              "    <tr>\n",
              "      <th>0</th>\n",
              "      <td>The Shawshank Redemption</td>\n",
              "      <td>142</td>\n",
              "    </tr>\n",
              "    <tr>\n",
              "      <th>1</th>\n",
              "      <td>The Godfather</td>\n",
              "      <td>175</td>\n",
              "    </tr>\n",
              "    <tr>\n",
              "      <th>2</th>\n",
              "      <td>The Godfather: Part II</td>\n",
              "      <td>200</td>\n",
              "    </tr>\n",
              "    <tr>\n",
              "      <th>3</th>\n",
              "      <td>The Dark Knight</td>\n",
              "      <td>152</td>\n",
              "    </tr>\n",
              "    <tr>\n",
              "      <th>4</th>\n",
              "      <td>Pulp Fiction</td>\n",
              "      <td>154</td>\n",
              "    </tr>\n",
              "  </tbody>\n",
              "</table>\n",
              "</div>"
            ],
            "text/plain": [
              "                      Title  Duration\n",
              "0  The Shawshank Redemption       142\n",
              "1             The Godfather       175\n",
              "2    The Godfather: Part II       200\n",
              "3           The Dark Knight       152\n",
              "4              Pulp Fiction       154"
            ]
          },
          "metadata": {
            "tags": []
          },
          "execution_count": 23
        }
      ]
    },
    {
      "cell_type": "code",
      "metadata": {
        "id": "2RdI-r5I_aty"
      },
      "source": [
        "final_Movie_Data = pd.merge(result,df_Duration)"
      ],
      "execution_count": 24,
      "outputs": []
    },
    {
      "cell_type": "code",
      "metadata": {
        "id": "tsIGYapV_oVm",
        "outputId": "3a9c069f-91df-4870-fa9f-8280f176366d",
        "colab": {
          "base_uri": "https://localhost:8080/",
          "height": 204
        }
      },
      "source": [
        "final_Movie_Data.head()"
      ],
      "execution_count": 25,
      "outputs": [
        {
          "output_type": "execute_result",
          "data": {
            "text/html": [
              "<div>\n",
              "<style scoped>\n",
              "    .dataframe tbody tr th:only-of-type {\n",
              "        vertical-align: middle;\n",
              "    }\n",
              "\n",
              "    .dataframe tbody tr th {\n",
              "        vertical-align: top;\n",
              "    }\n",
              "\n",
              "    .dataframe thead th {\n",
              "        text-align: right;\n",
              "    }\n",
              "</style>\n",
              "<table border=\"1\" class=\"dataframe\">\n",
              "  <thead>\n",
              "    <tr style=\"text-align: right;\">\n",
              "      <th></th>\n",
              "      <th>ID</th>\n",
              "      <th>Title</th>\n",
              "      <th>Life_Time_Gross</th>\n",
              "      <th>Year</th>\n",
              "      <th>IMDB_Rating</th>\n",
              "      <th>Genre</th>\n",
              "      <th>Rating</th>\n",
              "      <th>Duration</th>\n",
              "    </tr>\n",
              "  </thead>\n",
              "  <tbody>\n",
              "    <tr>\n",
              "      <th>0</th>\n",
              "      <td>3</td>\n",
              "      <td>Harry Potter and the Deathly Hallows: Part 2</td>\n",
              "      <td>$1,342,206,619</td>\n",
              "      <td>2011</td>\n",
              "      <td>8.1</td>\n",
              "      <td>Adventure, Drama, Fantasy</td>\n",
              "      <td>PG-13</td>\n",
              "      <td>130</td>\n",
              "    </tr>\n",
              "    <tr>\n",
              "      <th>1</th>\n",
              "      <td>4</td>\n",
              "      <td>The Lord of the Rings: The Return of the King</td>\n",
              "      <td>$1,142,270,989</td>\n",
              "      <td>2003</td>\n",
              "      <td>8.9</td>\n",
              "      <td>Action, Adventure, Drama</td>\n",
              "      <td>PG-13</td>\n",
              "      <td>201</td>\n",
              "    </tr>\n",
              "    <tr>\n",
              "      <th>2</th>\n",
              "      <td>5</td>\n",
              "      <td>The Dark Knight Rises</td>\n",
              "      <td>$1,081,141,368</td>\n",
              "      <td>2012</td>\n",
              "      <td>8.3</td>\n",
              "      <td>Action, Adventure</td>\n",
              "      <td>PG-13</td>\n",
              "      <td>165</td>\n",
              "    </tr>\n",
              "    <tr>\n",
              "      <th>3</th>\n",
              "      <td>7</td>\n",
              "      <td>Toy Story 3</td>\n",
              "      <td>$1,066,969,703</td>\n",
              "      <td>2010</td>\n",
              "      <td>8.2</td>\n",
              "      <td>Animation, Adventure, Comedy</td>\n",
              "      <td>G</td>\n",
              "      <td>103</td>\n",
              "    </tr>\n",
              "    <tr>\n",
              "      <th>4</th>\n",
              "      <td>8</td>\n",
              "      <td>Jurassic Park</td>\n",
              "      <td>$1,033,920,013</td>\n",
              "      <td>1993</td>\n",
              "      <td>8.1</td>\n",
              "      <td>Action, Adventure, Sci-Fi</td>\n",
              "      <td>PG-13</td>\n",
              "      <td>127</td>\n",
              "    </tr>\n",
              "  </tbody>\n",
              "</table>\n",
              "</div>"
            ],
            "text/plain": [
              "   ID                                          Title  ... Rating  Duration\n",
              "0   3   Harry Potter and the Deathly Hallows: Part 2  ...  PG-13       130\n",
              "1   4  The Lord of the Rings: The Return of the King  ...  PG-13       201\n",
              "2   5                          The Dark Knight Rises  ...  PG-13       165\n",
              "3   7                                    Toy Story 3  ...     G        103\n",
              "4   8                                  Jurassic Park  ...  PG-13       127\n",
              "\n",
              "[5 rows x 8 columns]"
            ]
          },
          "metadata": {
            "tags": []
          },
          "execution_count": 25
        }
      ]
    },
    {
      "cell_type": "code",
      "metadata": {
        "id": "jXQ2IV7c_qB6",
        "outputId": "ed701282-5e24-40bc-f647-2f5531c367e2",
        "colab": {
          "base_uri": "https://localhost:8080/"
        }
      },
      "source": [
        "len(final_Movie_Data)"
      ],
      "execution_count": 26,
      "outputs": [
        {
          "output_type": "execute_result",
          "data": {
            "text/plain": [
              "60"
            ]
          },
          "metadata": {
            "tags": []
          },
          "execution_count": 26
        }
      ]
    },
    {
      "cell_type": "code",
      "metadata": {
        "id": "qB_aI8Bm_tA1",
        "outputId": "609ca18d-a2bf-46c3-f27a-75ac5eef2df2",
        "colab": {
          "base_uri": "https://localhost:8080/"
        }
      },
      "source": [
        "final_Movie_Data.pop('ID')"
      ],
      "execution_count": 27,
      "outputs": [
        {
          "output_type": "execute_result",
          "data": {
            "text/plain": [
              "0      3\n",
              "1      4\n",
              "2      5\n",
              "3      7\n",
              "4      8\n",
              "5      9\n",
              "6     10\n",
              "7     11\n",
              "8     12\n",
              "9     13\n",
              "10    15\n",
              "11    18\n",
              "12    19\n",
              "13    20\n",
              "14    21\n",
              "15    23\n",
              "16    24\n",
              "17    26\n",
              "18    27\n",
              "19    28\n",
              "20    29\n",
              "21    30\n",
              "22    31\n",
              "23    32\n",
              "24    33\n",
              "25    34\n",
              "26    35\n",
              "27    36\n",
              "28    37\n",
              "29    38\n",
              "30    39\n",
              "31    40\n",
              "32    43\n",
              "33    44\n",
              "34    46\n",
              "35    47\n",
              "36    48\n",
              "37    49\n",
              "38    50\n",
              "39    52\n",
              "40    53\n",
              "41    55\n",
              "42    56\n",
              "43    57\n",
              "44    58\n",
              "45    59\n",
              "46    60\n",
              "47    62\n",
              "48    63\n",
              "49    64\n",
              "50    65\n",
              "51    67\n",
              "52    68\n",
              "53    69\n",
              "54    70\n",
              "55    71\n",
              "56    72\n",
              "57    73\n",
              "58    76\n",
              "59    77\n",
              "Name: ID, dtype: int64"
            ]
          },
          "metadata": {
            "tags": []
          },
          "execution_count": 27
        }
      ]
    },
    {
      "cell_type": "code",
      "metadata": {
        "id": "n8bRvotcB-gn"
      },
      "source": [
        "import numpy as np\n"
      ],
      "execution_count": 28,
      "outputs": []
    },
    {
      "cell_type": "code",
      "metadata": {
        "id": "ShbnoW73CAwZ",
        "outputId": "4b320f0a-185f-424b-df3a-e3175d7cbb12",
        "colab": {
          "base_uri": "https://localhost:8080/",
          "height": 204
        }
      },
      "source": [
        "final_Movie_Data.insert(0,'ID',np.arange(1,61,1))\n",
        "final_Movie_Data.head()"
      ],
      "execution_count": 29,
      "outputs": [
        {
          "output_type": "execute_result",
          "data": {
            "text/html": [
              "<div>\n",
              "<style scoped>\n",
              "    .dataframe tbody tr th:only-of-type {\n",
              "        vertical-align: middle;\n",
              "    }\n",
              "\n",
              "    .dataframe tbody tr th {\n",
              "        vertical-align: top;\n",
              "    }\n",
              "\n",
              "    .dataframe thead th {\n",
              "        text-align: right;\n",
              "    }\n",
              "</style>\n",
              "<table border=\"1\" class=\"dataframe\">\n",
              "  <thead>\n",
              "    <tr style=\"text-align: right;\">\n",
              "      <th></th>\n",
              "      <th>ID</th>\n",
              "      <th>Title</th>\n",
              "      <th>Life_Time_Gross</th>\n",
              "      <th>Year</th>\n",
              "      <th>IMDB_Rating</th>\n",
              "      <th>Genre</th>\n",
              "      <th>Rating</th>\n",
              "      <th>Duration</th>\n",
              "    </tr>\n",
              "  </thead>\n",
              "  <tbody>\n",
              "    <tr>\n",
              "      <th>0</th>\n",
              "      <td>1</td>\n",
              "      <td>Harry Potter and the Deathly Hallows: Part 2</td>\n",
              "      <td>$1,342,206,619</td>\n",
              "      <td>2011</td>\n",
              "      <td>8.1</td>\n",
              "      <td>Adventure, Drama, Fantasy</td>\n",
              "      <td>PG-13</td>\n",
              "      <td>130</td>\n",
              "    </tr>\n",
              "    <tr>\n",
              "      <th>1</th>\n",
              "      <td>2</td>\n",
              "      <td>The Lord of the Rings: The Return of the King</td>\n",
              "      <td>$1,142,270,989</td>\n",
              "      <td>2003</td>\n",
              "      <td>8.9</td>\n",
              "      <td>Action, Adventure, Drama</td>\n",
              "      <td>PG-13</td>\n",
              "      <td>201</td>\n",
              "    </tr>\n",
              "    <tr>\n",
              "      <th>2</th>\n",
              "      <td>3</td>\n",
              "      <td>The Dark Knight Rises</td>\n",
              "      <td>$1,081,141,368</td>\n",
              "      <td>2012</td>\n",
              "      <td>8.3</td>\n",
              "      <td>Action, Adventure</td>\n",
              "      <td>PG-13</td>\n",
              "      <td>165</td>\n",
              "    </tr>\n",
              "    <tr>\n",
              "      <th>3</th>\n",
              "      <td>4</td>\n",
              "      <td>Toy Story 3</td>\n",
              "      <td>$1,066,969,703</td>\n",
              "      <td>2010</td>\n",
              "      <td>8.2</td>\n",
              "      <td>Animation, Adventure, Comedy</td>\n",
              "      <td>G</td>\n",
              "      <td>103</td>\n",
              "    </tr>\n",
              "    <tr>\n",
              "      <th>4</th>\n",
              "      <td>5</td>\n",
              "      <td>Jurassic Park</td>\n",
              "      <td>$1,033,920,013</td>\n",
              "      <td>1993</td>\n",
              "      <td>8.1</td>\n",
              "      <td>Action, Adventure, Sci-Fi</td>\n",
              "      <td>PG-13</td>\n",
              "      <td>127</td>\n",
              "    </tr>\n",
              "  </tbody>\n",
              "</table>\n",
              "</div>"
            ],
            "text/plain": [
              "   ID                                          Title  ... Rating  Duration\n",
              "0   1   Harry Potter and the Deathly Hallows: Part 2  ...  PG-13       130\n",
              "1   2  The Lord of the Rings: The Return of the King  ...  PG-13       201\n",
              "2   3                          The Dark Knight Rises  ...  PG-13       165\n",
              "3   4                                    Toy Story 3  ...     G        103\n",
              "4   5                                  Jurassic Park  ...  PG-13       127\n",
              "\n",
              "[5 rows x 8 columns]"
            ]
          },
          "metadata": {
            "tags": []
          },
          "execution_count": 29
        }
      ]
    },
    {
      "cell_type": "code",
      "metadata": {
        "id": "dHXk_WusHf0V"
      },
      "source": [
        "import matplotlib.pyplot as plt"
      ],
      "execution_count": 30,
      "outputs": []
    },
    {
      "cell_type": "code",
      "metadata": {
        "id": "NuBSmcD0CbcD",
        "outputId": "7af644ac-40a4-4e3c-a28c-8335c277d3f6",
        "colab": {
          "base_uri": "https://localhost:8080/",
          "height": 298
        }
      },
      "source": [
        "# Box Plot\n",
        "plt.boxplot(final_Movie_Data['Duration'])\n",
        "plt.title('Movie Duration Distribution using \"Box Plot\"')\n",
        "plt.ylabel('Duration')"
      ],
      "execution_count": 44,
      "outputs": [
        {
          "output_type": "execute_result",
          "data": {
            "text/plain": [
              "Text(0, 0.5, 'Duration')"
            ]
          },
          "metadata": {
            "tags": []
          },
          "execution_count": 44
        },
        {
          "output_type": "display_data",
          "data": {
            "image/png": "[encoded data removed]",
            "text/plain": [
              "<Figure size 432x288 with 1 Axes>"
            ]
          },
          "metadata": {
            "tags": [],
            "needs_background": "light"
          }
        }
      ]
    },
    {
      "cell_type": "code",
      "metadata": {
        "id": "kI9hdv9lEsKU",
        "outputId": "e6719af8-8f2f-48f8-fba5-1a962161a25f",
        "colab": {
          "base_uri": "https://localhost:8080/"
        }
      },
      "source": [
        "final_Movie_Data['Rating'] = final_Movie_Data['Rating'].str.replace(' ','')\n",
        "final_Movie_Data['Rating']"
      ],
      "execution_count": 32,
      "outputs": [
        {
          "output_type": "execute_result",
          "data": {
            "text/plain": [
              "0      PG-13\n",
              "1      PG-13\n",
              "2      PG-13\n",
              "3          G\n",
              "4      PG-13\n",
              "5      PG-13\n",
              "6          G\n",
              "7      PG-13\n",
              "8          G\n",
              "9      PG-13\n",
              "10     PG-13\n",
              "11        PG\n",
              "12     PG-13\n",
              "13     PG-13\n",
              "14     PG-13\n",
              "15         G\n",
              "16        PG\n",
              "17         R\n",
              "18         G\n",
              "19        PG\n",
              "20         R\n",
              "21        PG\n",
              "22     PG-13\n",
              "23         R\n",
              "24         R\n",
              "25         R\n",
              "26         R\n",
              "27         G\n",
              "28    Passed\n",
              "29         R\n",
              "30        PG\n",
              "31        PG\n",
              "32     PG-13\n",
              "33         R\n",
              "34         R\n",
              "35        PG\n",
              "36     PG-13\n",
              "37         R\n",
              "38         R\n",
              "39         R\n",
              "40     PG-13\n",
              "41         R\n",
              "42         R\n",
              "43         R\n",
              "44         R\n",
              "45         R\n",
              "46        PG\n",
              "47         R\n",
              "48        PG\n",
              "49        PG\n",
              "50         R\n",
              "51     PG-13\n",
              "52     PG-13\n",
              "53         R\n",
              "54         R\n",
              "55         R\n",
              "56         R\n",
              "57         R\n",
              "58         R\n",
              "59         R\n",
              "Name: Rating, dtype: object"
            ]
          },
          "metadata": {
            "tags": []
          },
          "execution_count": 32
        }
      ]
    },
    {
      "cell_type": "code",
      "metadata": {
        "id": "lakWCunQE3n6",
        "outputId": "6dc0880c-d59f-4ca4-91b8-e210fcee3b98",
        "colab": {
          "base_uri": "https://localhost:8080/",
          "height": 337
        }
      },
      "source": [
        "# Bar Plot\n",
        "final_Movie_Data[['Rating','Title']].groupby('Rating').count().plot(kind='bar', title='Top Movie Rating Visualization using \"Bar Plot\"')\n",
        "plt.xlabel('Movie Rating')\n",
        "plt.ylabel('Title Count')"
      ],
      "execution_count": 51,
      "outputs": [
        {
          "output_type": "execute_result",
          "data": {
            "text/plain": [
              "Text(0, 0.5, 'Title Count')"
            ]
          },
          "metadata": {
            "tags": []
          },
          "execution_count": 51
        },
        {
          "output_type": "display_data",
          "data": {
            "image/png": "[encoded data removed]",
            "text/plain": [
              "<Figure size 432x288 with 1 Axes>"
            ]
          },
          "metadata": {
            "tags": [],
            "needs_background": "light"
          }
        }
      ]
    },
    {
      "cell_type": "code",
      "metadata": {
        "id": "uQwAJNH8NXZV"
      },
      "source": [
        "final_Movie_Data['Life_Time_Gross'] = final_Movie_Data['Life_Time_Gross'].str.replace(',','')"
      ],
      "execution_count": 35,
      "outputs": []
    },
    {
      "cell_type": "code",
      "metadata": {
        "id": "D53gldH5PVYf"
      },
      "source": [
        "final_Movie_Data['Life_Time_Gross'] = final_Movie_Data['Life_Time_Gross'].str.replace('$','')"
      ],
      "execution_count": 36,
      "outputs": []
    },
    {
      "cell_type": "code",
      "metadata": {
        "id": "0x9dO3MdPafX",
        "outputId": "ac09f0f2-cb7f-48f8-9b17-1955eeb52f29",
        "colab": {
          "base_uri": "https://localhost:8080/",
          "height": 204
        }
      },
      "source": [
        "final_Movie_Data.head()"
      ],
      "execution_count": 37,
      "outputs": [
        {
          "output_type": "execute_result",
          "data": {
            "text/html": [
              "<div>\n",
              "<style scoped>\n",
              "    .dataframe tbody tr th:only-of-type {\n",
              "        vertical-align: middle;\n",
              "    }\n",
              "\n",
              "    .dataframe tbody tr th {\n",
              "        vertical-align: top;\n",
              "    }\n",
              "\n",
              "    .dataframe thead th {\n",
              "        text-align: right;\n",
              "    }\n",
              "</style>\n",
              "<table border=\"1\" class=\"dataframe\">\n",
              "  <thead>\n",
              "    <tr style=\"text-align: right;\">\n",
              "      <th></th>\n",
              "      <th>ID</th>\n",
              "      <th>Title</th>\n",
              "      <th>Life_Time_Gross</th>\n",
              "      <th>Year</th>\n",
              "      <th>IMDB_Rating</th>\n",
              "      <th>Genre</th>\n",
              "      <th>Rating</th>\n",
              "      <th>Duration</th>\n",
              "    </tr>\n",
              "  </thead>\n",
              "  <tbody>\n",
              "    <tr>\n",
              "      <th>0</th>\n",
              "      <td>1</td>\n",
              "      <td>Harry Potter and the Deathly Hallows: Part 2</td>\n",
              "      <td>1342206619</td>\n",
              "      <td>2011</td>\n",
              "      <td>8.1</td>\n",
              "      <td>Adventure, Drama, Fantasy</td>\n",
              "      <td>PG-13</td>\n",
              "      <td>130</td>\n",
              "    </tr>\n",
              "    <tr>\n",
              "      <th>1</th>\n",
              "      <td>2</td>\n",
              "      <td>The Lord of the Rings: The Return of the King</td>\n",
              "      <td>1142270989</td>\n",
              "      <td>2003</td>\n",
              "      <td>8.9</td>\n",
              "      <td>Action, Adventure, Drama</td>\n",
              "      <td>PG-13</td>\n",
              "      <td>201</td>\n",
              "    </tr>\n",
              "    <tr>\n",
              "      <th>2</th>\n",
              "      <td>3</td>\n",
              "      <td>The Dark Knight Rises</td>\n",
              "      <td>1081141368</td>\n",
              "      <td>2012</td>\n",
              "      <td>8.3</td>\n",
              "      <td>Action, Adventure</td>\n",
              "      <td>PG-13</td>\n",
              "      <td>165</td>\n",
              "    </tr>\n",
              "    <tr>\n",
              "      <th>3</th>\n",
              "      <td>4</td>\n",
              "      <td>Toy Story 3</td>\n",
              "      <td>1066969703</td>\n",
              "      <td>2010</td>\n",
              "      <td>8.2</td>\n",
              "      <td>Animation, Adventure, Comedy</td>\n",
              "      <td>G</td>\n",
              "      <td>103</td>\n",
              "    </tr>\n",
              "    <tr>\n",
              "      <th>4</th>\n",
              "      <td>5</td>\n",
              "      <td>Jurassic Park</td>\n",
              "      <td>1033920013</td>\n",
              "      <td>1993</td>\n",
              "      <td>8.1</td>\n",
              "      <td>Action, Adventure, Sci-Fi</td>\n",
              "      <td>PG-13</td>\n",
              "      <td>127</td>\n",
              "    </tr>\n",
              "  </tbody>\n",
              "</table>\n",
              "</div>"
            ],
            "text/plain": [
              "   ID                                          Title  ... Rating  Duration\n",
              "0   1   Harry Potter and the Deathly Hallows: Part 2  ...  PG-13       130\n",
              "1   2  The Lord of the Rings: The Return of the King  ...  PG-13       201\n",
              "2   3                          The Dark Knight Rises  ...  PG-13       165\n",
              "3   4                                    Toy Story 3  ...      G       103\n",
              "4   5                                  Jurassic Park  ...  PG-13       127\n",
              "\n",
              "[5 rows x 8 columns]"
            ]
          },
          "metadata": {
            "tags": []
          },
          "execution_count": 37
        }
      ]
    },
    {
      "cell_type": "code",
      "metadata": {
        "id": "lKe1hshLLJ_a",
        "outputId": "ae6341dd-9564-4803-c136-c1ca4c70971d",
        "colab": {
          "base_uri": "https://localhost:8080/",
          "height": 312
        }
      },
      "source": [
        "# Scatter Plot\n",
        "plt.scatter(x = final_Movie_Data['IMDB_Rating'][:9],y= final_Movie_Data['Life_Time_Gross'][:9])\n",
        "plt.title('Gross and IMDB Score relation using \"Scatter Plot\"')\n",
        "plt.xlabel('IMDB Score')\n",
        "plt.ylabel('Life Time Gross in \"$\"')\n",
        "plt.show()\n",
        "plt.savefig('scatter.pdf')"
      ],
      "execution_count": 54,
      "outputs": [
        {
          "output_type": "display_data",
          "data": {
            "image/png": "[encoded data removed]",
            "text/plain": [
              "<Figure size 432x288 with 1 Axes>"
            ]
          },
          "metadata": {
            "tags": [],
            "needs_background": "light"
          }
        },
        {
          "output_type": "display_data",
          "data": {
            "text/plain": [
              "<Figure size 432x288 with 0 Axes>"
            ]
          },
          "metadata": {
            "tags": []
          }
        }
      ]
    },
    {
      "cell_type": "code",
      "metadata": {
        "id": "u0TCg25QPjU7",
        "outputId": "ed2af9e8-4717-4ede-f9d8-fa3075546bb3",
        "colab": {
          "base_uri": "https://localhost:8080/",
          "height": 34
        }
      },
      "source": [
        "plt.savefig('scatt.png', bbox_inches = 'tight')"
      ],
      "execution_count": 55,
      "outputs": [
        {
          "output_type": "display_data",
          "data": {
            "text/plain": [
              "<Figure size 432x288 with 0 Axes>"
            ]
          },
          "metadata": {
            "tags": []
          }
        }
      ]
    },
    {
      "cell_type": "code",
      "metadata": {
        "id": "SkrwJexrWCm-"
      },
      "source": [
        ""
      ],
      "execution_count": null,
      "outputs": []
    }
  ]
}