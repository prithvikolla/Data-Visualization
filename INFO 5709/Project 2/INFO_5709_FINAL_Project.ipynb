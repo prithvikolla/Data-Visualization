{
  "nbformat": 4,
  "nbformat_minor": 0,
  "metadata": {
    "colab": {
      "name": "INFO_5709_FINAL_Project.ipynb",
      "provenance": [],
      "authorship_tag": "ABX9TyP6RG0UmjhVeWWQlofj8Lvs",
      "include_colab_link": true
    },
    "kernelspec": {
      "name": "python3",
      "display_name": "Python 3"
    }
  },
  "cells": [
    {
      "cell_type": "markdown",
      "metadata": {
        "id": "view-in-github",
        "colab_type": "text"
      },
      "source": [
        "<a href=\"https://colab.research.google.com/github/prithvikolla/Data-Visualization/blob/main/INFO%205709/Project%202/INFO_5709_FINAL_Project.ipynb\" target=\"_parent\"><img src=\"https://colab.research.google.com/assets/colab-badge.svg\" alt=\"Open In Colab\"/></a>"
      ]
    },
    {
      "cell_type": "code",
      "metadata": {
        "id": "gpkiXpBacrbv"
      },
      "source": [
        "#Food Analysis\n",
        "#"
      ],
      "execution_count": 1,
      "outputs": []
    },
    {
      "cell_type": "code",
      "metadata": {
        "id": "Kj9qZsfYdTKN"
      },
      "source": [
        "# import requests\n",
        "# import pandas as pd\n",
        "# from bs4 import BeautifulSoup\n",
        "# ID_Top = [ ]\n",
        "# Title_Top = [ ]\n",
        "# LTG_Top = [ ]\n",
        "# Year_Top = [ ]\n",
        "# i = [0,200,400,600,800]\n",
        "# for j in i:\n",
        "#  page = requests.get('https://www.boxofficemojo.com/chart/top_lifetime_gross/?area=XWW&offset='+ str (j))\n",
        "#  soup = BeautifulSoup(page.content,'html.parser')\n",
        "#  ID = soup.find_all('td',class_ = 'a-text-right mojo-header-column mojo-truncate mojo-field-type-rank')\n",
        "#  Title = soup.find_all('td', class_ = 'a-text-left mojo-field-type-title')\n",
        "#  LTG = soup.find_all('td', class_ = 'a-text-right mojo-field-type-money')\n",
        "#  Year = soup.find_all('td', class_ = 'a-text-left mojo-field-type-year')\n",
        "#  for i in ID:\n",
        "#    ID_Top.append(i.text)\n",
        "#  for i in Title:\n",
        "#    Title_Top.append(i.text)\n",
        "#  for i in LTG:\n",
        "#    LTG_Top.append(i.text)\n",
        "#  for i in Year:\n",
        "#    Year_Top.append(i.text)"
      ],
      "execution_count": null,
      "outputs": []
    }
  ]
}