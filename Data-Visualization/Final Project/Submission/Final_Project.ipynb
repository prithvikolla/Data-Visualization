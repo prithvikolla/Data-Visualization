{
  "nbformat": 4,
  "nbformat_minor": 0,
  "metadata": {
    "colab": {
      "name": "Final_Project.ipynb",
      "provenance": [],
      "collapsed_sections": []
    },
    "kernelspec": {
      "name": "python3",
      "display_name": "Python 3"
    }
  },
  "cells": [
    {
      "cell_type": "markdown",
      "metadata": {
        "id": "txHakdoEKUih"
      },
      "source": [
        "Problem Statement:\n",
        "\n",
        "1. Is Trump liked more or Biden?\n",
        "2. Is Trump or Biden, who is more popular in India?\n",
        "3. How are the sentiments for each leader among the people?"
      ]
    },
    {
      "cell_type": "code",
      "metadata": {
        "id": "dGHBXhRTzNX4"
      },
      "source": [
        "#Twitter 2020 US Election data\n",
        "import pandas as pd\n",
        "import numpy as np\n",
        "import matplotlib.pyplot as plt\n",
        "%matplotlib inline"
      ],
      "execution_count": null,
      "outputs": []
    },
    {
      "cell_type": "code",
      "metadata": {
        "id": "DYZz3Z1S8Db_"
      },
      "source": [
        "df_Trump = pd.read_csv('/content/hashtag_donaldtrump.csv',lineterminator='\\n')\n",
        "df_Biden = pd.read_csv('/content/hashtag_joebiden.csv',lineterminator='\\n')"
      ],
      "execution_count": null,
      "outputs": []
    },
    {
      "cell_type": "code",
      "metadata": {
        "colab": {
          "base_uri": "https://localhost:8080/",
          "height": 462
        },
        "id": "lkW-_xLv8UGY",
        "outputId": "785d2cce-4cf7-4ded-80aa-323da669f242"
      },
      "source": [
        "df_Trump.head()"
      ],
      "execution_count": null,
      "outputs": [
        {
          "output_type": "execute_result",
          "data": {
            "text/html": [
              "<div>\n",
              "<style scoped>\n",
              "    .dataframe tbody tr th:only-of-type {\n",
              "        vertical-align: middle;\n",
              "    }\n",
              "\n",
              "    .dataframe tbody tr th {\n",
              "        vertical-align: top;\n",
              "    }\n",
              "\n",
              "    .dataframe thead th {\n",
              "        text-align: right;\n",
              "    }\n",
              "</style>\n",
              "<table border=\"1\" class=\"dataframe\">\n",
              "  <thead>\n",
              "    <tr style=\"text-align: right;\">\n",
              "      <th></th>\n",
              "      <th>created_at</th>\n",
              "      <th>tweet_id</th>\n",
              "      <th>tweet</th>\n",
              "      <th>likes</th>\n",
              "      <th>retweet_count</th>\n",
              "      <th>source</th>\n",
              "      <th>user_id</th>\n",
              "      <th>user_name</th>\n",
              "      <th>user_screen_name</th>\n",
              "      <th>user_description</th>\n",
              "      <th>user_join_date</th>\n",
              "      <th>user_followers_count</th>\n",
              "      <th>user_location</th>\n",
              "      <th>lat</th>\n",
              "      <th>long</th>\n",
              "      <th>city</th>\n",
              "      <th>country</th>\n",
              "      <th>continent</th>\n",
              "      <th>state</th>\n",
              "      <th>state_code</th>\n",
              "      <th>collected_at</th>\n",
              "    </tr>\n",
              "  </thead>\n",
              "  <tbody>\n",
              "    <tr>\n",
              "      <th>0</th>\n",
              "      <td>2020-10-15 00:00:01</td>\n",
              "      <td>1.316529e+18</td>\n",
              "      <td>#Elecciones2020 | En #Florida: #JoeBiden dice ...</td>\n",
              "      <td>0.0</td>\n",
              "      <td>0.0</td>\n",
              "      <td>TweetDeck</td>\n",
              "      <td>3.606665e+08</td>\n",
              "      <td>El Sol Latino News</td>\n",
              "      <td>elsollatinonews</td>\n",
              "      <td>🌐 Noticias de interés para latinos de la costa...</td>\n",
              "      <td>2011-08-23 15:33:45</td>\n",
              "      <td>1860.0</td>\n",
              "      <td>Philadelphia, PA / Miami, FL</td>\n",
              "      <td>25.774270</td>\n",
              "      <td>-80.193660</td>\n",
              "      <td>NaN</td>\n",
              "      <td>United States of America</td>\n",
              "      <td>North America</td>\n",
              "      <td>Florida</td>\n",
              "      <td>FL</td>\n",
              "      <td>2020-10-21 00:00:00</td>\n",
              "    </tr>\n",
              "    <tr>\n",
              "      <th>1</th>\n",
              "      <td>2020-10-15 00:00:01</td>\n",
              "      <td>1.316529e+18</td>\n",
              "      <td>Usa 2020, Trump contro Facebook e Twitter: cop...</td>\n",
              "      <td>26.0</td>\n",
              "      <td>9.0</td>\n",
              "      <td>Social Mediaset</td>\n",
              "      <td>3.316176e+08</td>\n",
              "      <td>Tgcom24</td>\n",
              "      <td>MediasetTgcom24</td>\n",
              "      <td>Profilo ufficiale di Tgcom24: tutte le notizie...</td>\n",
              "      <td>2011-07-08 13:12:20</td>\n",
              "      <td>1067661.0</td>\n",
              "      <td>NaN</td>\n",
              "      <td>NaN</td>\n",
              "      <td>NaN</td>\n",
              "      <td>NaN</td>\n",
              "      <td>NaN</td>\n",
              "      <td>NaN</td>\n",
              "      <td>NaN</td>\n",
              "      <td>NaN</td>\n",
              "      <td>2020-10-21 00:00:00.373216530</td>\n",
              "    </tr>\n",
              "    <tr>\n",
              "      <th>2</th>\n",
              "      <td>2020-10-15 00:00:02</td>\n",
              "      <td>1.316529e+18</td>\n",
              "      <td>#Trump: As a student I used to hear for years,...</td>\n",
              "      <td>2.0</td>\n",
              "      <td>1.0</td>\n",
              "      <td>Twitter Web App</td>\n",
              "      <td>8.436472e+06</td>\n",
              "      <td>snarke</td>\n",
              "      <td>snarke</td>\n",
              "      <td>Will mock for food! Freelance writer, blogger,...</td>\n",
              "      <td>2007-08-26 05:56:11</td>\n",
              "      <td>1185.0</td>\n",
              "      <td>Portland</td>\n",
              "      <td>45.520247</td>\n",
              "      <td>-122.674195</td>\n",
              "      <td>Portland</td>\n",
              "      <td>United States of America</td>\n",
              "      <td>North America</td>\n",
              "      <td>Oregon</td>\n",
              "      <td>OR</td>\n",
              "      <td>2020-10-21 00:00:00.746433060</td>\n",
              "    </tr>\n",
              "    <tr>\n",
              "      <th>3</th>\n",
              "      <td>2020-10-15 00:00:02</td>\n",
              "      <td>1.316529e+18</td>\n",
              "      <td>2 hours since last tweet from #Trump! Maybe he...</td>\n",
              "      <td>0.0</td>\n",
              "      <td>0.0</td>\n",
              "      <td>Trumpytweeter</td>\n",
              "      <td>8.283556e+17</td>\n",
              "      <td>Trumpytweeter</td>\n",
              "      <td>trumpytweeter</td>\n",
              "      <td>If he doesn't tweet for some time, should we b...</td>\n",
              "      <td>2017-02-05 21:32:17</td>\n",
              "      <td>32.0</td>\n",
              "      <td>NaN</td>\n",
              "      <td>NaN</td>\n",
              "      <td>NaN</td>\n",
              "      <td>NaN</td>\n",
              "      <td>NaN</td>\n",
              "      <td>NaN</td>\n",
              "      <td>NaN</td>\n",
              "      <td>NaN</td>\n",
              "      <td>2020-10-21 00:00:01.119649591</td>\n",
              "    </tr>\n",
              "    <tr>\n",
              "      <th>4</th>\n",
              "      <td>2020-10-15 00:00:08</td>\n",
              "      <td>1.316529e+18</td>\n",
              "      <td>You get a tie! And you get a tie! #Trump ‘s ra...</td>\n",
              "      <td>4.0</td>\n",
              "      <td>3.0</td>\n",
              "      <td>Twitter for iPhone</td>\n",
              "      <td>4.741380e+07</td>\n",
              "      <td>Rana Abtar - رنا أبتر</td>\n",
              "      <td>Ranaabtar</td>\n",
              "      <td>Washington Correspondent, Lebanese-American ,c...</td>\n",
              "      <td>2009-06-15 19:05:35</td>\n",
              "      <td>5393.0</td>\n",
              "      <td>Washington DC</td>\n",
              "      <td>38.894992</td>\n",
              "      <td>-77.036558</td>\n",
              "      <td>Washington</td>\n",
              "      <td>United States of America</td>\n",
              "      <td>North America</td>\n",
              "      <td>District of Columbia</td>\n",
              "      <td>DC</td>\n",
              "      <td>2020-10-21 00:00:01.492866121</td>\n",
              "    </tr>\n",
              "  </tbody>\n",
              "</table>\n",
              "</div>"
            ],
            "text/plain": [
              "            created_at      tweet_id  ... state_code                   collected_at\n",
              "0  2020-10-15 00:00:01  1.316529e+18  ...         FL            2020-10-21 00:00:00\n",
              "1  2020-10-15 00:00:01  1.316529e+18  ...        NaN  2020-10-21 00:00:00.373216530\n",
              "2  2020-10-15 00:00:02  1.316529e+18  ...         OR  2020-10-21 00:00:00.746433060\n",
              "3  2020-10-15 00:00:02  1.316529e+18  ...        NaN  2020-10-21 00:00:01.119649591\n",
              "4  2020-10-15 00:00:08  1.316529e+18  ...         DC  2020-10-21 00:00:01.492866121\n",
              "\n",
              "[5 rows x 21 columns]"
            ]
          },
          "metadata": {
            "tags": []
          },
          "execution_count": 3
        }
      ]
    },
    {
      "cell_type": "code",
      "metadata": {
        "colab": {
          "base_uri": "https://localhost:8080/",
          "height": 411
        },
        "id": "1yCL288MBSrB",
        "outputId": "1a65d810-4d06-4691-ab8f-9fbf7b0c3f21"
      },
      "source": [
        "df_Biden.head()"
      ],
      "execution_count": null,
      "outputs": [
        {
          "output_type": "execute_result",
          "data": {
            "text/html": [
              "<div>\n",
              "<style scoped>\n",
              "    .dataframe tbody tr th:only-of-type {\n",
              "        vertical-align: middle;\n",
              "    }\n",
              "\n",
              "    .dataframe tbody tr th {\n",
              "        vertical-align: top;\n",
              "    }\n",
              "\n",
              "    .dataframe thead th {\n",
              "        text-align: right;\n",
              "    }\n",
              "</style>\n",
              "<table border=\"1\" class=\"dataframe\">\n",
              "  <thead>\n",
              "    <tr style=\"text-align: right;\">\n",
              "      <th></th>\n",
              "      <th>created_at</th>\n",
              "      <th>tweet_id</th>\n",
              "      <th>tweet</th>\n",
              "      <th>likes</th>\n",
              "      <th>retweet_count</th>\n",
              "      <th>source</th>\n",
              "      <th>user_id</th>\n",
              "      <th>user_name</th>\n",
              "      <th>user_screen_name</th>\n",
              "      <th>user_description</th>\n",
              "      <th>user_join_date</th>\n",
              "      <th>user_followers_count</th>\n",
              "      <th>user_location</th>\n",
              "      <th>lat</th>\n",
              "      <th>long</th>\n",
              "      <th>city</th>\n",
              "      <th>country</th>\n",
              "      <th>continent</th>\n",
              "      <th>state</th>\n",
              "      <th>state_code</th>\n",
              "      <th>collected_at</th>\n",
              "    </tr>\n",
              "  </thead>\n",
              "  <tbody>\n",
              "    <tr>\n",
              "      <th>0</th>\n",
              "      <td>2020-10-15 00:00:01</td>\n",
              "      <td>1.316529e+18</td>\n",
              "      <td>#Elecciones2020 | En #Florida: #JoeBiden dice ...</td>\n",
              "      <td>0.0</td>\n",
              "      <td>0.0</td>\n",
              "      <td>TweetDeck</td>\n",
              "      <td>3.606665e+08</td>\n",
              "      <td>El Sol Latino News</td>\n",
              "      <td>elsollatinonews</td>\n",
              "      <td>🌐 Noticias de interés para latinos de la costa...</td>\n",
              "      <td>2011-08-23 15:33:45</td>\n",
              "      <td>1860.0</td>\n",
              "      <td>Philadelphia, PA / Miami, FL</td>\n",
              "      <td>25.774270</td>\n",
              "      <td>-80.193660</td>\n",
              "      <td>NaN</td>\n",
              "      <td>United States of America</td>\n",
              "      <td>North America</td>\n",
              "      <td>Florida</td>\n",
              "      <td>FL</td>\n",
              "      <td>2020-10-21 00:00:00</td>\n",
              "    </tr>\n",
              "    <tr>\n",
              "      <th>1</th>\n",
              "      <td>2020-10-15 00:00:18</td>\n",
              "      <td>1.316529e+18</td>\n",
              "      <td>#HunterBiden #HunterBidenEmails #JoeBiden #Joe...</td>\n",
              "      <td>0.0</td>\n",
              "      <td>0.0</td>\n",
              "      <td>Twitter for iPad</td>\n",
              "      <td>8.099044e+08</td>\n",
              "      <td>Cheri A. 🇺🇸</td>\n",
              "      <td>Biloximeemaw</td>\n",
              "      <td>Locked and loaded Meemaw. Love God, my family ...</td>\n",
              "      <td>2012-09-08 01:03:57</td>\n",
              "      <td>6628.0</td>\n",
              "      <td>NaN</td>\n",
              "      <td>NaN</td>\n",
              "      <td>NaN</td>\n",
              "      <td>NaN</td>\n",
              "      <td>NaN</td>\n",
              "      <td>NaN</td>\n",
              "      <td>NaN</td>\n",
              "      <td>NaN</td>\n",
              "      <td>2020-10-21 00:00:00.517827283</td>\n",
              "    </tr>\n",
              "    <tr>\n",
              "      <th>2</th>\n",
              "      <td>2020-10-15 00:00:20</td>\n",
              "      <td>1.316529e+18</td>\n",
              "      <td>@IslandGirlPRV @BradBeauregardJ @MeidasTouch T...</td>\n",
              "      <td>0.0</td>\n",
              "      <td>0.0</td>\n",
              "      <td>Twitter Web App</td>\n",
              "      <td>3.494182e+09</td>\n",
              "      <td>Flag Waver</td>\n",
              "      <td>Flag_Wavers</td>\n",
              "      <td>NaN</td>\n",
              "      <td>2015-08-30 19:38:21</td>\n",
              "      <td>1536.0</td>\n",
              "      <td>Golden Valley Arizona</td>\n",
              "      <td>46.304036</td>\n",
              "      <td>-109.171431</td>\n",
              "      <td>NaN</td>\n",
              "      <td>United States of America</td>\n",
              "      <td>North America</td>\n",
              "      <td>Montana</td>\n",
              "      <td>MT</td>\n",
              "      <td>2020-10-21 00:00:01.035654566</td>\n",
              "    </tr>\n",
              "    <tr>\n",
              "      <th>3</th>\n",
              "      <td>2020-10-15 00:00:21</td>\n",
              "      <td>1.316529e+18</td>\n",
              "      <td>@chrislongview Watching and setting dvr. Let’s...</td>\n",
              "      <td>0.0</td>\n",
              "      <td>0.0</td>\n",
              "      <td>Twitter for iPhone</td>\n",
              "      <td>8.242596e+17</td>\n",
              "      <td>Michelle Ferg</td>\n",
              "      <td>MichelleFerg4</td>\n",
              "      <td>NaN</td>\n",
              "      <td>2017-01-25 14:16:17</td>\n",
              "      <td>27.0</td>\n",
              "      <td>NaN</td>\n",
              "      <td>NaN</td>\n",
              "      <td>NaN</td>\n",
              "      <td>NaN</td>\n",
              "      <td>NaN</td>\n",
              "      <td>NaN</td>\n",
              "      <td>NaN</td>\n",
              "      <td>NaN</td>\n",
              "      <td>2020-10-21 00:00:01.553481849</td>\n",
              "    </tr>\n",
              "    <tr>\n",
              "      <th>4</th>\n",
              "      <td>2020-10-15 00:00:22</td>\n",
              "      <td>1.316529e+18</td>\n",
              "      <td>#censorship #HunterBiden #Biden #BidenEmails #...</td>\n",
              "      <td>1.0</td>\n",
              "      <td>0.0</td>\n",
              "      <td>Twitter Web App</td>\n",
              "      <td>1.032807e+18</td>\n",
              "      <td>the Gold State</td>\n",
              "      <td>theegoldstate</td>\n",
              "      <td>A Silicon Valley #independent #News #Media #St...</td>\n",
              "      <td>2018-08-24 01:49:01</td>\n",
              "      <td>390.0</td>\n",
              "      <td>California, USA</td>\n",
              "      <td>36.701463</td>\n",
              "      <td>-118.755997</td>\n",
              "      <td>NaN</td>\n",
              "      <td>United States of America</td>\n",
              "      <td>North America</td>\n",
              "      <td>California</td>\n",
              "      <td>CA</td>\n",
              "      <td>2020-10-21 00:00:02.071309132</td>\n",
              "    </tr>\n",
              "  </tbody>\n",
              "</table>\n",
              "</div>"
            ],
            "text/plain": [
              "            created_at      tweet_id  ... state_code                   collected_at\n",
              "0  2020-10-15 00:00:01  1.316529e+18  ...         FL            2020-10-21 00:00:00\n",
              "1  2020-10-15 00:00:18  1.316529e+18  ...        NaN  2020-10-21 00:00:00.517827283\n",
              "2  2020-10-15 00:00:20  1.316529e+18  ...         MT  2020-10-21 00:00:01.035654566\n",
              "3  2020-10-15 00:00:21  1.316529e+18  ...        NaN  2020-10-21 00:00:01.553481849\n",
              "4  2020-10-15 00:00:22  1.316529e+18  ...         CA  2020-10-21 00:00:02.071309132\n",
              "\n",
              "[5 rows x 21 columns]"
            ]
          },
          "metadata": {
            "tags": []
          },
          "execution_count": 4
        }
      ]
    },
    {
      "cell_type": "code",
      "metadata": {
        "id": "EIUYpU8XBVQt"
      },
      "source": [
        "# df_Biden1 = df_Biden[:10000]\n",
        "# df_Biden1.head(2)"
      ],
      "execution_count": null,
      "outputs": []
    },
    {
      "cell_type": "code",
      "metadata": {
        "id": "xefpz6Z4Bu_T"
      },
      "source": [
        "# df_Trump1 = df_Trump[:10000]\n",
        "# df_Trump1.head(2)"
      ],
      "execution_count": null,
      "outputs": []
    },
    {
      "cell_type": "code",
      "metadata": {
        "id": "TP9bpKu0IB7r"
      },
      "source": [
        "#Remove the columns not used\n",
        "df_Trump = df_Trump.drop(columns = ['tweet_id','collected_at','user_description','collected_at'])\n",
        "df_Biden = df_Biden.drop(columns = ['tweet_id','collected_at','user_description','collected_at'])"
      ],
      "execution_count": null,
      "outputs": []
    },
    {
      "cell_type": "code",
      "metadata": {
        "id": "uDD8xiE_GN0C"
      },
      "source": [
        "df_Trump.loc[:,'condidat'] = 'Trump'\n",
        "df_Biden.loc[:,'condidat'] = 'Biden'"
      ],
      "execution_count": null,
      "outputs": []
    },
    {
      "cell_type": "code",
      "metadata": {
        "colab": {
          "base_uri": "https://localhost:8080/",
          "height": 462
        },
        "id": "2YudKlCYJMiu",
        "outputId": "d43f1102-e986-4117-b395-c7fb8fd6c0e2"
      },
      "source": [
        "df_Mix = pd.concat([df_Trump,df_Biden])\n",
        "df_Mix.sort_values(by='created_at')\n",
        "df_Mix.head()"
      ],
      "execution_count": null,
      "outputs": [
        {
          "output_type": "execute_result",
          "data": {
            "text/html": [
              "<div>\n",
              "<style scoped>\n",
              "    .dataframe tbody tr th:only-of-type {\n",
              "        vertical-align: middle;\n",
              "    }\n",
              "\n",
              "    .dataframe tbody tr th {\n",
              "        vertical-align: top;\n",
              "    }\n",
              "\n",
              "    .dataframe thead th {\n",
              "        text-align: right;\n",
              "    }\n",
              "</style>\n",
              "<table border=\"1\" class=\"dataframe\">\n",
              "  <thead>\n",
              "    <tr style=\"text-align: right;\">\n",
              "      <th></th>\n",
              "      <th>created_at</th>\n",
              "      <th>tweet</th>\n",
              "      <th>likes</th>\n",
              "      <th>retweet_count</th>\n",
              "      <th>source</th>\n",
              "      <th>user_id</th>\n",
              "      <th>user_name</th>\n",
              "      <th>user_screen_name</th>\n",
              "      <th>user_join_date</th>\n",
              "      <th>user_followers_count</th>\n",
              "      <th>user_location</th>\n",
              "      <th>lat</th>\n",
              "      <th>long</th>\n",
              "      <th>city</th>\n",
              "      <th>country</th>\n",
              "      <th>continent</th>\n",
              "      <th>state</th>\n",
              "      <th>state_code</th>\n",
              "      <th>condidat</th>\n",
              "    </tr>\n",
              "  </thead>\n",
              "  <tbody>\n",
              "    <tr>\n",
              "      <th>0</th>\n",
              "      <td>2020-10-15 00:00:01</td>\n",
              "      <td>#Elecciones2020 | En #Florida: #JoeBiden dice ...</td>\n",
              "      <td>0.0</td>\n",
              "      <td>0.0</td>\n",
              "      <td>TweetDeck</td>\n",
              "      <td>3.606665e+08</td>\n",
              "      <td>El Sol Latino News</td>\n",
              "      <td>elsollatinonews</td>\n",
              "      <td>2011-08-23 15:33:45</td>\n",
              "      <td>1860.0</td>\n",
              "      <td>Philadelphia, PA / Miami, FL</td>\n",
              "      <td>25.774270</td>\n",
              "      <td>-80.193660</td>\n",
              "      <td>NaN</td>\n",
              "      <td>United States of America</td>\n",
              "      <td>North America</td>\n",
              "      <td>Florida</td>\n",
              "      <td>FL</td>\n",
              "      <td>Trump</td>\n",
              "    </tr>\n",
              "    <tr>\n",
              "      <th>1</th>\n",
              "      <td>2020-10-15 00:00:01</td>\n",
              "      <td>Usa 2020, Trump contro Facebook e Twitter: cop...</td>\n",
              "      <td>26.0</td>\n",
              "      <td>9.0</td>\n",
              "      <td>Social Mediaset</td>\n",
              "      <td>3.316176e+08</td>\n",
              "      <td>Tgcom24</td>\n",
              "      <td>MediasetTgcom24</td>\n",
              "      <td>2011-07-08 13:12:20</td>\n",
              "      <td>1067661.0</td>\n",
              "      <td>NaN</td>\n",
              "      <td>NaN</td>\n",
              "      <td>NaN</td>\n",
              "      <td>NaN</td>\n",
              "      <td>NaN</td>\n",
              "      <td>NaN</td>\n",
              "      <td>NaN</td>\n",
              "      <td>NaN</td>\n",
              "      <td>Trump</td>\n",
              "    </tr>\n",
              "    <tr>\n",
              "      <th>2</th>\n",
              "      <td>2020-10-15 00:00:02</td>\n",
              "      <td>#Trump: As a student I used to hear for years,...</td>\n",
              "      <td>2.0</td>\n",
              "      <td>1.0</td>\n",
              "      <td>Twitter Web App</td>\n",
              "      <td>8.436472e+06</td>\n",
              "      <td>snarke</td>\n",
              "      <td>snarke</td>\n",
              "      <td>2007-08-26 05:56:11</td>\n",
              "      <td>1185.0</td>\n",
              "      <td>Portland</td>\n",
              "      <td>45.520247</td>\n",
              "      <td>-122.674195</td>\n",
              "      <td>Portland</td>\n",
              "      <td>United States of America</td>\n",
              "      <td>North America</td>\n",
              "      <td>Oregon</td>\n",
              "      <td>OR</td>\n",
              "      <td>Trump</td>\n",
              "    </tr>\n",
              "    <tr>\n",
              "      <th>3</th>\n",
              "      <td>2020-10-15 00:00:02</td>\n",
              "      <td>2 hours since last tweet from #Trump! Maybe he...</td>\n",
              "      <td>0.0</td>\n",
              "      <td>0.0</td>\n",
              "      <td>Trumpytweeter</td>\n",
              "      <td>8.283556e+17</td>\n",
              "      <td>Trumpytweeter</td>\n",
              "      <td>trumpytweeter</td>\n",
              "      <td>2017-02-05 21:32:17</td>\n",
              "      <td>32.0</td>\n",
              "      <td>NaN</td>\n",
              "      <td>NaN</td>\n",
              "      <td>NaN</td>\n",
              "      <td>NaN</td>\n",
              "      <td>NaN</td>\n",
              "      <td>NaN</td>\n",
              "      <td>NaN</td>\n",
              "      <td>NaN</td>\n",
              "      <td>Trump</td>\n",
              "    </tr>\n",
              "    <tr>\n",
              "      <th>4</th>\n",
              "      <td>2020-10-15 00:00:08</td>\n",
              "      <td>You get a tie! And you get a tie! #Trump ‘s ra...</td>\n",
              "      <td>4.0</td>\n",
              "      <td>3.0</td>\n",
              "      <td>Twitter for iPhone</td>\n",
              "      <td>4.741380e+07</td>\n",
              "      <td>Rana Abtar - رنا أبتر</td>\n",
              "      <td>Ranaabtar</td>\n",
              "      <td>2009-06-15 19:05:35</td>\n",
              "      <td>5393.0</td>\n",
              "      <td>Washington DC</td>\n",
              "      <td>38.894992</td>\n",
              "      <td>-77.036558</td>\n",
              "      <td>Washington</td>\n",
              "      <td>United States of America</td>\n",
              "      <td>North America</td>\n",
              "      <td>District of Columbia</td>\n",
              "      <td>DC</td>\n",
              "      <td>Trump</td>\n",
              "    </tr>\n",
              "  </tbody>\n",
              "</table>\n",
              "</div>"
            ],
            "text/plain": [
              "            created_at  ... condidat\n",
              "0  2020-10-15 00:00:01  ...    Trump\n",
              "1  2020-10-15 00:00:01  ...    Trump\n",
              "2  2020-10-15 00:00:02  ...    Trump\n",
              "3  2020-10-15 00:00:02  ...    Trump\n",
              "4  2020-10-15 00:00:08  ...    Trump\n",
              "\n",
              "[5 rows x 19 columns]"
            ]
          },
          "metadata": {
            "tags": []
          },
          "execution_count": 9
        }
      ]
    },
    {
      "cell_type": "code",
      "metadata": {
        "colab": {
          "base_uri": "https://localhost:8080/",
          "height": 281
        },
        "id": "pVO1GZ5wJbiS",
        "outputId": "312e0d67-531a-4cde-eb82-626ea0c880ff"
      },
      "source": [
        "Trump_tweets = df_Mix.query('(condidat == \"Trump\")').tweet.sort_values(ascending=False).count()\n",
        "Biden_tweets = df_Mix.query('(condidat == \"Biden\")').tweet.sort_values(ascending=False).count()\n",
        "\n",
        "objects = ('Donald Trump','Joe Biden')\n",
        "y_pos = np.arange(len(objects))\n",
        "performance = [Trump_tweets,Biden_tweets]\n",
        "\n",
        "plt.bar(y_pos, performance, align='center', alpha=0.5)\n",
        "plt.xticks(y_pos, objects)\n",
        "plt.ylabel('Number of tweets')\n",
        "plt.title('Donald vs Biden')\n",
        "\n",
        "plt.show()"
      ],
      "execution_count": null,
      "outputs": [
        {
          "output_type": "display_data",
          "data": {
            "image/png": "[encoded data removed]",
            "text/plain": [
              "<Figure size 432x288 with 1 Axes>"
            ]
          },
          "metadata": {
            "tags": [],
            "needs_background": "light"
          }
        }
      ]
    },
    {
      "cell_type": "markdown",
      "metadata": {
        "id": "r16aJH_Rnpuf"
      },
      "source": [
        "less number of tweets for Trump compared to Joe biden.\n"
      ]
    },
    {
      "cell_type": "code",
      "metadata": {
        "colab": {
          "base_uri": "https://localhost:8080/",
          "height": 281
        },
        "id": "TUqLoe5zmo7O",
        "outputId": "aab92d1f-1d4b-4a03-e96c-a812023d3fd9"
      },
      "source": [
        "Trump_tweets = df_Mix.query('(condidat == \"Trump\")').likes.count()\n",
        "Biden_tweets = df_Mix.query('(condidat == \"Biden\")').likes.count()\n",
        "\n",
        "objects = ('Donald Trump','Joe Biden')\n",
        "y_pos = np.arange(len(objects))\n",
        "performance = [Trump_tweets,Biden_tweets]\n",
        "\n",
        "plt.bar(y_pos, performance, align='center', alpha = 0.5)\n",
        "plt.xticks(y_pos, objects)\n",
        "plt.ylabel('Number of Likes')\n",
        "plt.title('Donald vs Biden')\n",
        "\n",
        "plt.show()"
      ],
      "execution_count": null,
      "outputs": [
        {
          "output_type": "display_data",
          "data": {
            "image/png": "[encoded data removed]",
            "text/plain": [
              "<Figure size 432x288 with 1 Axes>"
            ]
          },
          "metadata": {
            "tags": [],
            "needs_background": "light"
          }
        }
      ]
    },
    {
      "cell_type": "code",
      "metadata": {
        "colab": {
          "base_uri": "https://localhost:8080/",
          "height": 264
        },
        "id": "cxudMYveoCSf",
        "outputId": "d3e4f563-e068-414f-e1dc-28b79f095835"
      },
      "source": [
        "def Country_tweets(country,kind):\n",
        "    Data=df_Mix[df_Mix.country == country].groupby('condidat').tweet.count()\n",
        "    Data.plot(x = 'condidate',y = \"tweet\",kind = kind, title=\"tweets count in country \" + str(country))\n",
        "    \n",
        "Country_tweets('India','pie')"
      ],
      "execution_count": null,
      "outputs": [
        {
          "output_type": "display_data",
          "data": {
            "image/png": "[encoded data removed]",
            "text/plain": [
              "<Figure size 432x288 with 1 Axes>"
            ]
          },
          "metadata": {
            "tags": []
          }
        }
      ]
    },
    {
      "cell_type": "code",
      "metadata": {
        "id": "bKfoG_IvoSGC"
      },
      "source": [
        "def clean(text):\n",
        "    '''Make text lowercase, remove text in square brackets,remove links,remove punctuation\n",
        "    and remove words containing numbers.'''\n",
        "    text = str(text).lower()\n",
        "    text = re.sub('\\[.*?\\]', '', text)\n",
        "    text = re.sub('https?://\\S+|www\\.\\S+', '', text)\n",
        "    text = re.sub('<.*?>+', '', text)\n",
        "    text = re.sub('\\n', '', text)\n",
        "    text = re.sub('\\w*\\d\\w*', '', text)\n",
        "    text=re.sub(r'@[A-Za-z0-9]+','',text)\n",
        "    text=re.sub(r'#','',text)\n",
        "    text=re.sub(r'RT[\\s]+','',text)\n",
        "    text=re.sub(r'[^\\w]', ' ', text)\n",
        "    return text\n",
        "    "
      ],
      "execution_count": null,
      "outputs": []
    },
    {
      "cell_type": "code",
      "metadata": {
        "id": "eVVIsdeC67CW"
      },
      "source": [
        "# create fuction to get the subjectivity and polarity\n",
        "def getSubjectivity(text):\n",
        "    return TextBlob(text).sentiment.subjectivity\n",
        "\n",
        "def getPolarity(text):\n",
        "    return TextBlob(text).sentiment.polarity\n",
        "\n",
        "def getAnalysis(score):\n",
        "    if score < 0:\n",
        "        return 'negative'\n",
        "    elif score==0:\n",
        "        return 'neutral'\n",
        "    else:\n",
        "        return 'positive'"
      ],
      "execution_count": null,
      "outputs": []
    },
    {
      "cell_type": "code",
      "metadata": {
        "colab": {
          "base_uri": "https://localhost:8080/",
          "height": 289
        },
        "id": "gi3pIdiAsHvo",
        "outputId": "6619b507-04f3-458a-f9ff-583e01e8a3d3"
      },
      "source": [
        "import re\n",
        "from nltk.corpus import subjectivity\n",
        "from textblob import TextBlob\n",
        "\n",
        "Trump_Tweets = df_Mix.query('(condidat == \"Trump\")').sort_values('user_followers_count',ascending = False).drop_duplicates(['user_name'])[['tweet','country']]\n",
        "Trump_Tweets = Trump_Tweets.dropna().loc[Trump_Tweets.country == 'United States of America'][:1000]\n",
        "\n",
        "\n",
        "Trump_Tweets.reset_index(inplace = True, drop = True)\n",
        "\n",
        "Trump_Tweets['ClearTweet'] = Trump_Tweets['tweet'].apply(clean)\n",
        "\n",
        "Trump_Tweets['subjectivity']= Trump_Tweets['ClearTweet'].apply(getSubjectivity)\n",
        "Trump_Tweets['polarity']    = Trump_Tweets['ClearTweet'].apply(getPolarity)\n",
        "Trump_Tweets['analysis']    = Trump_Tweets['polarity'].apply(getAnalysis)\n",
        "Trump_Tweets.head()\n",
        "\n",
        "\n",
        "Trump_Tweets.head()"
      ],
      "execution_count": null,
      "outputs": [
        {
          "output_type": "execute_result",
          "data": {
            "text/html": [
              "<div>\n",
              "<style scoped>\n",
              "    .dataframe tbody tr th:only-of-type {\n",
              "        vertical-align: middle;\n",
              "    }\n",
              "\n",
              "    .dataframe tbody tr th {\n",
              "        vertical-align: top;\n",
              "    }\n",
              "\n",
              "    .dataframe thead th {\n",
              "        text-align: right;\n",
              "    }\n",
              "</style>\n",
              "<table border=\"1\" class=\"dataframe\">\n",
              "  <thead>\n",
              "    <tr style=\"text-align: right;\">\n",
              "      <th></th>\n",
              "      <th>tweet</th>\n",
              "      <th>country</th>\n",
              "      <th>ClearTweet</th>\n",
              "      <th>subjectivity</th>\n",
              "      <th>polarity</th>\n",
              "      <th>analysis</th>\n",
              "    </tr>\n",
              "  </thead>\n",
              "  <tbody>\n",
              "    <tr>\n",
              "      <th>0</th>\n",
              "      <td>Without a doubt, the #FourSeasons debacle is t...</td>\n",
              "      <td>United States of America</td>\n",
              "      <td>without a doubt  the fourseasons debacle is th...</td>\n",
              "      <td>0.483333</td>\n",
              "      <td>0.333333</td>\n",
              "      <td>positive</td>\n",
              "    </tr>\n",
              "    <tr>\n",
              "      <th>1</th>\n",
              "      <td>President Donald #Trump’s youngest daughter, T...</td>\n",
              "      <td>United States of America</td>\n",
              "      <td>president donald trump s youngest daughter  ti...</td>\n",
              "      <td>0.000000</td>\n",
              "      <td>0.000000</td>\n",
              "      <td>neutral</td>\n",
              "    </tr>\n",
              "    <tr>\n",
              "      <th>2</th>\n",
              "      <td>Woah. Have you read this article?\\n\\nAll the p...</td>\n",
              "      <td>United States of America</td>\n",
              "      <td>woah  have you read this article all the presi...</td>\n",
              "      <td>0.000000</td>\n",
              "      <td>0.000000</td>\n",
              "      <td>neutral</td>\n",
              "    </tr>\n",
              "    <tr>\n",
              "      <th>3</th>\n",
              "      <td>The latest episode of #SNL tackled #DonaldTrum...</td>\n",
              "      <td>United States of America</td>\n",
              "      <td>the latest episode of snl tackled donaldtrump ...</td>\n",
              "      <td>0.800000</td>\n",
              "      <td>-0.033333</td>\n",
              "      <td>negative</td>\n",
              "    </tr>\n",
              "    <tr>\n",
              "      <th>4</th>\n",
              "      <td>🇺🇸 #Decision2020: @JoeBiden firmará una serie ...</td>\n",
              "      <td>United States of America</td>\n",
              "      <td>firmará una serie de órdenes ejecutivas ...</td>\n",
              "      <td>0.000000</td>\n",
              "      <td>0.000000</td>\n",
              "      <td>neutral</td>\n",
              "    </tr>\n",
              "  </tbody>\n",
              "</table>\n",
              "</div>"
            ],
            "text/plain": [
              "                                               tweet  ...  analysis\n",
              "0  Without a doubt, the #FourSeasons debacle is t...  ...  positive\n",
              "1  President Donald #Trump’s youngest daughter, T...  ...   neutral\n",
              "2  Woah. Have you read this article?\\n\\nAll the p...  ...   neutral\n",
              "3  The latest episode of #SNL tackled #DonaldTrum...  ...  negative\n",
              "4  🇺🇸 #Decision2020: @JoeBiden firmará una serie ...  ...   neutral\n",
              "\n",
              "[5 rows x 6 columns]"
            ]
          },
          "metadata": {
            "tags": []
          },
          "execution_count": 15
        }
      ]
    },
    {
      "cell_type": "code",
      "metadata": {
        "colab": {
          "base_uri": "https://localhost:8080/"
        },
        "id": "HBowcKpu6Mod",
        "outputId": "76d3a71b-6d3b-4a53-d243-d0c31126cf1f"
      },
      "source": [
        "%%time\n",
        "Trump_Tweets.polarity = Trump_Tweets.polarity.apply(lambda x: getAnalysis(x))"
      ],
      "execution_count": null,
      "outputs": [
        {
          "output_type": "stream",
          "text": [
            "CPU times: user 1.68 ms, sys: 80 µs, total: 1.76 ms\n",
            "Wall time: 1.77 ms\n"
          ],
          "name": "stdout"
        }
      ]
    },
    {
      "cell_type": "code",
      "metadata": {
        "colab": {
          "base_uri": "https://localhost:8080/",
          "height": 516
        },
        "id": "bqARDyHU-S8C",
        "outputId": "121d4422-780a-4b7a-dac8-ab4e9e308303"
      },
      "source": [
        "from collections import Counter\n",
        "\n",
        "target_cnt = Counter(Trump_Tweets.polarity)\n",
        "\n",
        "plt.figure(figsize=(16,8))\n",
        "plt.bar(target_cnt.keys(), target_cnt.values())\n",
        "plt.title(\"Dataset labels distribuition\")"
      ],
      "execution_count": null,
      "outputs": [
        {
          "output_type": "execute_result",
          "data": {
            "text/plain": [
              "Text(0.5, 1.0, 'Dataset labels distribuition')"
            ]
          },
          "metadata": {
            "tags": []
          },
          "execution_count": 17
        },
        {
          "output_type": "display_data",
          "data": {
            "image/png": "[encoded data removed]",
            "text/plain": [
              "<Figure size 1152x576 with 1 Axes>"
            ]
          },
          "metadata": {
            "tags": [],
            "needs_background": "light"
          }
        }
      ]
    },
    {
      "cell_type": "code",
      "metadata": {
        "colab": {
          "base_uri": "https://localhost:8080/",
          "height": 542
        },
        "id": "VGoSaV7n-bGE",
        "outputId": "d07e0a16-0645-4b5c-d413-1f68734ca1c7"
      },
      "source": [
        "import plotly.graph_objects as go\n",
        "general  = Trump_Tweets.groupby('analysis').analysis.count()\n",
        "neutral  = Trump_Tweets[Trump_Tweets['analysis'] == 'neutral'].ClearTweet.count()\n",
        "positive = Trump_Tweets[Trump_Tweets['analysis'] == 'positive'].ClearTweet.count()\n",
        "negative = Trump_Tweets[Trump_Tweets['analysis'] == 'negative'].ClearTweet.count()\n",
        "\n",
        "fig = go.Figure(data = [go.Funnelarea(labels = [\"positivity\",\"negativity\",\"neutrality\"], values = [positive,negative,neutral])])\n",
        "fig.update_layout(title_text ='sentimat analysis tweets Donald Trump')\n",
        "# fig.show()\n",
        "display(fig)"
      ],
      "execution_count": null,
      "outputs": [
        {
          "output_type": "display_data",
          "data": {
            "text/html": [
              "<html>\n",
              "<head><meta charset=\"utf-8\" /></head>\n",
              "<body>\n",
              "    <div>\n",
              "            <script src=\"https://cdnjs.cloudflare.com/ajax/libs/mathjax/2.7.5/MathJax.js?config=TeX-AMS-MML_SVG\"></script><script type=\"text/javascript\">if (window.MathJax) {MathJax.Hub.Config({SVG: {font: \"STIX-Web\"}});}</script>\n",
              "                <script type=\"text/javascript\">window.PlotlyConfig = {MathJaxConfig: 'local'};</script>\n",
              "        <script src=\"https://cdn.plot.ly/plotly-latest.min.js\"></script>    \n",
              "            <div id=\"1fa85788-c1f8-4f76-af87-22c18cf5514a\" class=\"plotly-graph-div\" style=\"height:525px; width:100%;\"></div>\n",
              "            <script type=\"text/javascript\">\n",
              "                \n",
              "                    window.PLOTLYENV=window.PLOTLYENV || {};\n",
              "                    \n",
              "                if (document.getElementById(\"1fa85788-c1f8-4f76-af87-22c18cf5514a\")) {\n",
              "                    Plotly.newPlot(\n",
              "                        '1fa85788-c1f8-4f76-af87-22c18cf5514a',\n",
              "                        [{\"labels\": [\"positivity\", \"negativity\", \"neutrality\"], \"type\": \"funnelarea\", \"values\": [398, 164, 438]}],\n",
              "                        {\"template\": {\"data\": {\"bar\": [{\"error_x\": {\"color\": \"#2a3f5f\"}, \"error_y\": {\"color\": \"#2a3f5f\"}, \"marker\": {\"line\": {\"color\": \"#E5ECF6\", \"width\": 0.5}}, \"type\": \"bar\"}], \"barpolar\": [{\"marker\": {\"line\": {\"color\": \"#E5ECF6\", \"width\": 0.5}}, \"type\": \"barpolar\"}], \"carpet\": [{\"aaxis\": {\"endlinecolor\": \"#2a3f5f\", \"gridcolor\": \"white\", \"linecolor\": \"white\", \"minorgridcolor\": \"white\", \"startlinecolor\": \"#2a3f5f\"}, \"baxis\": {\"endlinecolor\": \"#2a3f5f\", \"gridcolor\": \"white\", \"linecolor\": \"white\", \"minorgridcolor\": \"white\", \"startlinecolor\": \"#2a3f5f\"}, \"type\": \"carpet\"}], \"choropleth\": [{\"colorbar\": {\"outlinewidth\": 0, \"ticks\": \"\"}, \"type\": \"choropleth\"}], \"contour\": [{\"colorbar\": {\"outlinewidth\": 0, \"ticks\": \"\"}, \"colorscale\": [[0.0, \"#0d0887\"], [0.1111111111111111, \"#46039f\"], [0.2222222222222222, \"#7201a8\"], [0.3333333333333333, \"#9c179e\"], [0.4444444444444444, \"#bd3786\"], [0.5555555555555556, \"#d8576b\"], [0.6666666666666666, \"#ed7953\"], [0.7777777777777778, \"#fb9f3a\"], [0.8888888888888888, \"#fdca26\"], [1.0, \"#f0f921\"]], \"type\": \"contour\"}], \"contourcarpet\": [{\"colorbar\": {\"outlinewidth\": 0, \"ticks\": \"\"}, \"type\": \"contourcarpet\"}], \"heatmap\": [{\"colorbar\": {\"outlinewidth\": 0, \"ticks\": \"\"}, \"colorscale\": [[0.0, \"#0d0887\"], [0.1111111111111111, \"#46039f\"], [0.2222222222222222, \"#7201a8\"], [0.3333333333333333, \"#9c179e\"], [0.4444444444444444, \"#bd3786\"], [0.5555555555555556, \"#d8576b\"], [0.6666666666666666, \"#ed7953\"], [0.7777777777777778, \"#fb9f3a\"], [0.8888888888888888, \"#fdca26\"], [1.0, \"#f0f921\"]], \"type\": \"heatmap\"}], \"heatmapgl\": [{\"colorbar\": {\"outlinewidth\": 0, \"ticks\": \"\"}, \"colorscale\": [[0.0, \"#0d0887\"], [0.1111111111111111, \"#46039f\"], [0.2222222222222222, \"#7201a8\"], [0.3333333333333333, \"#9c179e\"], [0.4444444444444444, \"#bd3786\"], [0.5555555555555556, \"#d8576b\"], [0.6666666666666666, \"#ed7953\"], [0.7777777777777778, \"#fb9f3a\"], [0.8888888888888888, \"#fdca26\"], [1.0, \"#f0f921\"]], \"type\": \"heatmapgl\"}], \"histogram\": [{\"marker\": {\"colorbar\": {\"outlinewidth\": 0, \"ticks\": \"\"}}, \"type\": \"histogram\"}], \"histogram2d\": [{\"colorbar\": {\"outlinewidth\": 0, \"ticks\": \"\"}, \"colorscale\": [[0.0, \"#0d0887\"], [0.1111111111111111, \"#46039f\"], [0.2222222222222222, \"#7201a8\"], [0.3333333333333333, \"#9c179e\"], [0.4444444444444444, \"#bd3786\"], [0.5555555555555556, \"#d8576b\"], [0.6666666666666666, \"#ed7953\"], [0.7777777777777778, \"#fb9f3a\"], [0.8888888888888888, \"#fdca26\"], [1.0, \"#f0f921\"]], \"type\": \"histogram2d\"}], \"histogram2dcontour\": [{\"colorbar\": {\"outlinewidth\": 0, \"ticks\": \"\"}, \"colorscale\": [[0.0, \"#0d0887\"], [0.1111111111111111, \"#46039f\"], [0.2222222222222222, \"#7201a8\"], [0.3333333333333333, \"#9c179e\"], [0.4444444444444444, \"#bd3786\"], [0.5555555555555556, \"#d8576b\"], [0.6666666666666666, \"#ed7953\"], [0.7777777777777778, \"#fb9f3a\"], [0.8888888888888888, \"#fdca26\"], [1.0, \"#f0f921\"]], \"type\": \"histogram2dcontour\"}], \"mesh3d\": [{\"colorbar\": {\"outlinewidth\": 0, \"ticks\": \"\"}, \"type\": \"mesh3d\"}], \"parcoords\": [{\"line\": {\"colorbar\": {\"outlinewidth\": 0, \"ticks\": \"\"}}, \"type\": \"parcoords\"}], \"pie\": [{\"automargin\": true, \"type\": \"pie\"}], \"scatter\": [{\"marker\": {\"colorbar\": {\"outlinewidth\": 0, \"ticks\": \"\"}}, \"type\": \"scatter\"}], \"scatter3d\": [{\"line\": {\"colorbar\": {\"outlinewidth\": 0, \"ticks\": \"\"}}, \"marker\": {\"colorbar\": {\"outlinewidth\": 0, \"ticks\": \"\"}}, \"type\": \"scatter3d\"}], \"scattercarpet\": [{\"marker\": {\"colorbar\": {\"outlinewidth\": 0, \"ticks\": \"\"}}, \"type\": \"scattercarpet\"}], \"scattergeo\": [{\"marker\": {\"colorbar\": {\"outlinewidth\": 0, \"ticks\": \"\"}}, \"type\": \"scattergeo\"}], \"scattergl\": [{\"marker\": {\"colorbar\": {\"outlinewidth\": 0, \"ticks\": \"\"}}, \"type\": \"scattergl\"}], \"scattermapbox\": [{\"marker\": {\"colorbar\": {\"outlinewidth\": 0, \"ticks\": \"\"}}, \"type\": \"scattermapbox\"}], \"scatterpolar\": [{\"marker\": {\"colorbar\": {\"outlinewidth\": 0, \"ticks\": \"\"}}, \"type\": \"scatterpolar\"}], \"scatterpolargl\": [{\"marker\": {\"colorbar\": {\"outlinewidth\": 0, \"ticks\": \"\"}}, \"type\": \"scatterpolargl\"}], \"scatterternary\": [{\"marker\": {\"colorbar\": {\"outlinewidth\": 0, \"ticks\": \"\"}}, \"type\": \"scatterternary\"}], \"surface\": [{\"colorbar\": {\"outlinewidth\": 0, \"ticks\": \"\"}, \"colorscale\": [[0.0, \"#0d0887\"], [0.1111111111111111, \"#46039f\"], [0.2222222222222222, \"#7201a8\"], [0.3333333333333333, \"#9c179e\"], [0.4444444444444444, \"#bd3786\"], [0.5555555555555556, \"#d8576b\"], [0.6666666666666666, \"#ed7953\"], [0.7777777777777778, \"#fb9f3a\"], [0.8888888888888888, \"#fdca26\"], [1.0, \"#f0f921\"]], \"type\": \"surface\"}], \"table\": [{\"cells\": {\"fill\": {\"color\": \"#EBF0F8\"}, \"line\": {\"color\": \"white\"}}, \"header\": {\"fill\": {\"color\": \"#C8D4E3\"}, \"line\": {\"color\": \"white\"}}, \"type\": \"table\"}]}, \"layout\": {\"annotationdefaults\": {\"arrowcolor\": \"#2a3f5f\", \"arrowhead\": 0, \"arrowwidth\": 1}, \"coloraxis\": {\"colorbar\": {\"outlinewidth\": 0, \"ticks\": \"\"}}, \"colorscale\": {\"diverging\": [[0, \"#8e0152\"], [0.1, \"#c51b7d\"], [0.2, \"#de77ae\"], [0.3, \"#f1b6da\"], [0.4, \"#fde0ef\"], [0.5, \"#f7f7f7\"], [0.6, \"#e6f5d0\"], [0.7, \"#b8e186\"], [0.8, \"#7fbc41\"], [0.9, \"#4d9221\"], [1, \"#276419\"]], \"sequential\": [[0.0, \"#0d0887\"], [0.1111111111111111, \"#46039f\"], [0.2222222222222222, \"#7201a8\"], [0.3333333333333333, \"#9c179e\"], [0.4444444444444444, \"#bd3786\"], [0.5555555555555556, \"#d8576b\"], [0.6666666666666666, \"#ed7953\"], [0.7777777777777778, \"#fb9f3a\"], [0.8888888888888888, \"#fdca26\"], [1.0, \"#f0f921\"]], \"sequentialminus\": [[0.0, \"#0d0887\"], [0.1111111111111111, \"#46039f\"], [0.2222222222222222, \"#7201a8\"], [0.3333333333333333, \"#9c179e\"], [0.4444444444444444, \"#bd3786\"], [0.5555555555555556, \"#d8576b\"], [0.6666666666666666, \"#ed7953\"], [0.7777777777777778, \"#fb9f3a\"], [0.8888888888888888, \"#fdca26\"], [1.0, \"#f0f921\"]]}, \"colorway\": [\"#636efa\", \"#EF553B\", \"#00cc96\", \"#ab63fa\", \"#FFA15A\", \"#19d3f3\", \"#FF6692\", \"#B6E880\", \"#FF97FF\", \"#FECB52\"], \"font\": {\"color\": \"#2a3f5f\"}, \"geo\": {\"bgcolor\": \"white\", \"lakecolor\": \"white\", \"landcolor\": \"#E5ECF6\", \"showlakes\": true, \"showland\": true, \"subunitcolor\": \"white\"}, \"hoverlabel\": {\"align\": \"left\"}, \"hovermode\": \"closest\", \"mapbox\": {\"style\": \"light\"}, \"paper_bgcolor\": \"white\", \"plot_bgcolor\": \"#E5ECF6\", \"polar\": {\"angularaxis\": {\"gridcolor\": \"white\", \"linecolor\": \"white\", \"ticks\": \"\"}, \"bgcolor\": \"#E5ECF6\", \"radialaxis\": {\"gridcolor\": \"white\", \"linecolor\": \"white\", \"ticks\": \"\"}}, \"scene\": {\"xaxis\": {\"backgroundcolor\": \"#E5ECF6\", \"gridcolor\": \"white\", \"gridwidth\": 2, \"linecolor\": \"white\", \"showbackground\": true, \"ticks\": \"\", \"zerolinecolor\": \"white\"}, \"yaxis\": {\"backgroundcolor\": \"#E5ECF6\", \"gridcolor\": \"white\", \"gridwidth\": 2, \"linecolor\": \"white\", \"showbackground\": true, \"ticks\": \"\", \"zerolinecolor\": \"white\"}, \"zaxis\": {\"backgroundcolor\": \"#E5ECF6\", \"gridcolor\": \"white\", \"gridwidth\": 2, \"linecolor\": \"white\", \"showbackground\": true, \"ticks\": \"\", \"zerolinecolor\": \"white\"}}, \"shapedefaults\": {\"line\": {\"color\": \"#2a3f5f\"}}, \"ternary\": {\"aaxis\": {\"gridcolor\": \"white\", \"linecolor\": \"white\", \"ticks\": \"\"}, \"baxis\": {\"gridcolor\": \"white\", \"linecolor\": \"white\", \"ticks\": \"\"}, \"bgcolor\": \"#E5ECF6\", \"caxis\": {\"gridcolor\": \"white\", \"linecolor\": \"white\", \"ticks\": \"\"}}, \"title\": {\"x\": 0.05}, \"xaxis\": {\"automargin\": true, \"gridcolor\": \"white\", \"linecolor\": \"white\", \"ticks\": \"\", \"title\": {\"standoff\": 15}, \"zerolinecolor\": \"white\", \"zerolinewidth\": 2}, \"yaxis\": {\"automargin\": true, \"gridcolor\": \"white\", \"linecolor\": \"white\", \"ticks\": \"\", \"title\": {\"standoff\": 15}, \"zerolinecolor\": \"white\", \"zerolinewidth\": 2}}}, \"title\": {\"text\": \"sentimat analysis tweets Donald Trump\"}},\n",
              "                        {\"responsive\": true}\n",
              "                    ).then(function(){\n",
              "                            \n",
              "var gd = document.getElementById('1fa85788-c1f8-4f76-af87-22c18cf5514a');\n",
              "var x = new MutationObserver(function (mutations, observer) {{\n",
              "        var display = window.getComputedStyle(gd).display;\n",
              "        if (!display || display === 'none') {{\n",
              "            console.log([gd, 'removed!']);\n",
              "            Plotly.purge(gd);\n",
              "            observer.disconnect();\n",
              "        }}\n",
              "}});\n",
              "\n",
              "// Listen for the removal of the full notebook cells\n",
              "var notebookContainer = gd.closest('#notebook-container');\n",
              "if (notebookContainer) {{\n",
              "    x.observe(notebookContainer, {childList: true});\n",
              "}}\n",
              "\n",
              "// Listen for the clearing of the current output cell\n",
              "var outputEl = gd.closest('.output');\n",
              "if (outputEl) {{\n",
              "    x.observe(outputEl, {childList: true});\n",
              "}}\n",
              "\n",
              "                        })\n",
              "                };\n",
              "                \n",
              "            </script>\n",
              "        </div>\n",
              "</body>\n",
              "</html>"
            ]
          },
          "metadata": {
            "tags": []
          }
        }
      ]
    },
    {
      "cell_type": "markdown",
      "metadata": {
        "id": "dFpVZmcftydI"
      },
      "source": [
        "![newplot (1).png](data:image/png;base64,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)"
      ]
    },
    {
      "cell_type": "code",
      "metadata": {
        "colab": {
          "base_uri": "https://localhost:8080/",
          "height": 289
        },
        "id": "RZlhgK1r-mg0",
        "outputId": "bb8ff5b0-e8b5-4799-a125-26a0eabfb9ac"
      },
      "source": [
        "Biden_Tweets = df_Mix.query('(condidat == \"Biden\")').sort_values('user_followers_count',ascending = False).drop_duplicates(['user_name'])[['tweet','country']]\n",
        "Biden_Tweets = Biden_Tweets.dropna().loc[Biden_Tweets.country == 'United States of America'][:1000]\n",
        "\n",
        "\n",
        "Biden_Tweets.reset_index(inplace = True, drop = True)\n",
        "\n",
        "Biden_Tweets['ClearTweet'] = Biden_Tweets['tweet'].apply(clean)\n",
        "\n",
        " \n",
        "Biden_Tweets['subjectivity']= Biden_Tweets['ClearTweet'].apply(getSubjectivity)\n",
        "Biden_Tweets['polarity']    = Biden_Tweets['ClearTweet'].apply(getPolarity)\n",
        "Biden_Tweets['analysis']    = Biden_Tweets['polarity'].apply(getAnalysis)\n",
        "Biden_Tweets.head()"
      ],
      "execution_count": null,
      "outputs": [
        {
          "output_type": "execute_result",
          "data": {
            "text/html": [
              "<div>\n",
              "<style scoped>\n",
              "    .dataframe tbody tr th:only-of-type {\n",
              "        vertical-align: middle;\n",
              "    }\n",
              "\n",
              "    .dataframe tbody tr th {\n",
              "        vertical-align: top;\n",
              "    }\n",
              "\n",
              "    .dataframe thead th {\n",
              "        text-align: right;\n",
              "    }\n",
              "</style>\n",
              "<table border=\"1\" class=\"dataframe\">\n",
              "  <thead>\n",
              "    <tr style=\"text-align: right;\">\n",
              "      <th></th>\n",
              "      <th>tweet</th>\n",
              "      <th>country</th>\n",
              "      <th>ClearTweet</th>\n",
              "      <th>subjectivity</th>\n",
              "      <th>polarity</th>\n",
              "      <th>analysis</th>\n",
              "    </tr>\n",
              "  </thead>\n",
              "  <tbody>\n",
              "    <tr>\n",
              "      <th>0</th>\n",
              "      <td>#JoeBiden is enlisting A-list star power to he...</td>\n",
              "      <td>United States of America</td>\n",
              "      <td>joebiden is enlisting a list star power to hel...</td>\n",
              "      <td>0.00</td>\n",
              "      <td>0.00</td>\n",
              "      <td>neutral</td>\n",
              "    </tr>\n",
              "    <tr>\n",
              "      <th>1</th>\n",
              "      <td>While we were campaigning across battleground ...</td>\n",
              "      <td>United States of America</td>\n",
              "      <td>while we were campaigning across battleground ...</td>\n",
              "      <td>0.75</td>\n",
              "      <td>0.80</td>\n",
              "      <td>positive</td>\n",
              "    </tr>\n",
              "    <tr>\n",
              "      <th>2</th>\n",
              "      <td>The big fight TODAY!!!!! @realDonaldTrump vs #...</td>\n",
              "      <td>United States of America</td>\n",
              "      <td>the big fight today       vs joebiden who you ...</td>\n",
              "      <td>0.10</td>\n",
              "      <td>0.00</td>\n",
              "      <td>neutral</td>\n",
              "    </tr>\n",
              "    <tr>\n",
              "      <th>3</th>\n",
              "      <td>During his victory speech, #JoeBiden said he u...</td>\n",
              "      <td>United States of America</td>\n",
              "      <td>during his victory speech  joebiden said he un...</td>\n",
              "      <td>0.75</td>\n",
              "      <td>-0.75</td>\n",
              "      <td>negative</td>\n",
              "    </tr>\n",
              "    <tr>\n",
              "      <th>4</th>\n",
              "      <td>Los nueve minutos de colorida celebración tras...</td>\n",
              "      <td>United States of America</td>\n",
              "      <td>los nueve minutos de colorida celebración tras...</td>\n",
              "      <td>0.00</td>\n",
              "      <td>0.00</td>\n",
              "      <td>neutral</td>\n",
              "    </tr>\n",
              "  </tbody>\n",
              "</table>\n",
              "</div>"
            ],
            "text/plain": [
              "                                               tweet  ...  analysis\n",
              "0  #JoeBiden is enlisting A-list star power to he...  ...   neutral\n",
              "1  While we were campaigning across battleground ...  ...  positive\n",
              "2  The big fight TODAY!!!!! @realDonaldTrump vs #...  ...   neutral\n",
              "3  During his victory speech, #JoeBiden said he u...  ...  negative\n",
              "4  Los nueve minutos de colorida celebración tras...  ...   neutral\n",
              "\n",
              "[5 rows x 6 columns]"
            ]
          },
          "metadata": {
            "tags": []
          },
          "execution_count": 25
        }
      ]
    },
    {
      "cell_type": "code",
      "metadata": {
        "colab": {
          "base_uri": "https://localhost:8080/"
        },
        "id": "A3FEM632_R6e",
        "outputId": "c4bf57d4-d141-41ce-f79d-26f31135d1c5"
      },
      "source": [
        "%%time\n",
        "Biden_Tweets.polarity = Biden_Tweets.polarity.apply(lambda x: getAnalysis(x))"
      ],
      "execution_count": null,
      "outputs": [
        {
          "output_type": "stream",
          "text": [
            "CPU times: user 1.92 ms, sys: 0 ns, total: 1.92 ms\n",
            "Wall time: 2.76 ms\n"
          ],
          "name": "stdout"
        }
      ]
    },
    {
      "cell_type": "code",
      "metadata": {
        "colab": {
          "base_uri": "https://localhost:8080/",
          "height": 516
        },
        "id": "u9MpGeIa_Xbv",
        "outputId": "a282a0fa-1e59-41ae-8ee3-a61382630477"
      },
      "source": [
        "target_cnt = Counter(Biden_Tweets.polarity)\n",
        "\n",
        "plt.figure(figsize=(16,8))\n",
        "plt.bar(target_cnt.keys(), target_cnt.values())\n",
        "plt.title(\"Dataset labels distribuition\")"
      ],
      "execution_count": null,
      "outputs": [
        {
          "output_type": "execute_result",
          "data": {
            "text/plain": [
              "Text(0.5, 1.0, 'Dataset labels distribuition')"
            ]
          },
          "metadata": {
            "tags": []
          },
          "execution_count": 27
        },
        {
          "output_type": "display_data",
          "data": {
            "image/png": "[encoded data removed]",
            "text/plain": [
              "<Figure size 1152x576 with 1 Axes>"
            ]
          },
          "metadata": {
            "tags": [],
            "needs_background": "light"
          }
        }
      ]
    },
    {
      "cell_type": "code",
      "metadata": {
        "colab": {
          "base_uri": "https://localhost:8080/",
          "height": 542
        },
        "id": "7DZSipU3_dN-",
        "outputId": "c7f07ca2-e94a-4ea2-c5ec-63f8b7830102"
      },
      "source": [
        "general  = Biden_Tweets.groupby('analysis').analysis.count()\n",
        "neutral  = Biden_Tweets[Biden_Tweets['analysis'] == 'neutral'].ClearTweet.count()\n",
        "positive = Biden_Tweets[Biden_Tweets['analysis'] == 'positive'].ClearTweet.count()\n",
        "negative = Biden_Tweets[Biden_Tweets['analysis'] == 'negative'].ClearTweet.count()\n",
        "\n",
        "fig = go.Figure(data = [go.Funnelarea(labels = [\"positivity\",\"negativity\",\"neutrality\"], values = [positive,negative,neutral])])\n",
        "fig.update_layout(title_text ='sentimat analysis tweets Joe Biden')\n",
        "display(fig)"
      ],
      "execution_count": null,
      "outputs": [
        {
          "output_type": "display_data",
          "data": {
            "text/html": [
              "<html>\n",
              "<head><meta charset=\"utf-8\" /></head>\n",
              "<body>\n",
              "    <div>\n",
              "            <script src=\"https://cdnjs.cloudflare.com/ajax/libs/mathjax/2.7.5/MathJax.js?config=TeX-AMS-MML_SVG\"></script><script type=\"text/javascript\">if (window.MathJax) {MathJax.Hub.Config({SVG: {font: \"STIX-Web\"}});}</script>\n",
              "                <script type=\"text/javascript\">window.PlotlyConfig = {MathJaxConfig: 'local'};</script>\n",
              "        <script src=\"https://cdn.plot.ly/plotly-latest.min.js\"></script>    \n",
              "            <div id=\"143f9b6d-47fd-4b34-9d6b-b24d8c6f9827\" class=\"plotly-graph-div\" style=\"height:525px; width:100%;\"></div>\n",
              "            <script type=\"text/javascript\">\n",
              "                \n",
              "                    window.PLOTLYENV=window.PLOTLYENV || {};\n",
              "                    \n",
              "                if (document.getElementById(\"143f9b6d-47fd-4b34-9d6b-b24d8c6f9827\")) {\n",
              "                    Plotly.newPlot(\n",
              "                        '143f9b6d-47fd-4b34-9d6b-b24d8c6f9827',\n",
              "                        [{\"labels\": [\"positivity\", \"negativity\", \"neutrality\"], \"type\": \"funnelarea\", \"values\": [455, 143, 402]}],\n",
              "                        {\"template\": {\"data\": {\"bar\": [{\"error_x\": {\"color\": \"#2a3f5f\"}, \"error_y\": {\"color\": \"#2a3f5f\"}, \"marker\": {\"line\": {\"color\": \"#E5ECF6\", \"width\": 0.5}}, \"type\": \"bar\"}], \"barpolar\": [{\"marker\": {\"line\": {\"color\": \"#E5ECF6\", \"width\": 0.5}}, \"type\": \"barpolar\"}], \"carpet\": [{\"aaxis\": {\"endlinecolor\": \"#2a3f5f\", \"gridcolor\": \"white\", \"linecolor\": \"white\", \"minorgridcolor\": \"white\", \"startlinecolor\": \"#2a3f5f\"}, \"baxis\": {\"endlinecolor\": \"#2a3f5f\", \"gridcolor\": \"white\", \"linecolor\": \"white\", \"minorgridcolor\": \"white\", \"startlinecolor\": \"#2a3f5f\"}, \"type\": \"carpet\"}], \"choropleth\": [{\"colorbar\": {\"outlinewidth\": 0, \"ticks\": \"\"}, \"type\": \"choropleth\"}], \"contour\": [{\"colorbar\": {\"outlinewidth\": 0, \"ticks\": \"\"}, \"colorscale\": [[0.0, \"#0d0887\"], [0.1111111111111111, \"#46039f\"], [0.2222222222222222, \"#7201a8\"], [0.3333333333333333, \"#9c179e\"], [0.4444444444444444, \"#bd3786\"], [0.5555555555555556, \"#d8576b\"], [0.6666666666666666, \"#ed7953\"], [0.7777777777777778, \"#fb9f3a\"], [0.8888888888888888, \"#fdca26\"], [1.0, \"#f0f921\"]], \"type\": \"contour\"}], \"contourcarpet\": [{\"colorbar\": {\"outlinewidth\": 0, \"ticks\": \"\"}, \"type\": \"contourcarpet\"}], \"heatmap\": [{\"colorbar\": {\"outlinewidth\": 0, \"ticks\": \"\"}, \"colorscale\": [[0.0, \"#0d0887\"], [0.1111111111111111, \"#46039f\"], [0.2222222222222222, \"#7201a8\"], [0.3333333333333333, \"#9c179e\"], [0.4444444444444444, \"#bd3786\"], [0.5555555555555556, \"#d8576b\"], [0.6666666666666666, \"#ed7953\"], [0.7777777777777778, \"#fb9f3a\"], [0.8888888888888888, \"#fdca26\"], [1.0, \"#f0f921\"]], \"type\": \"heatmap\"}], \"heatmapgl\": [{\"colorbar\": {\"outlinewidth\": 0, \"ticks\": \"\"}, \"colorscale\": [[0.0, \"#0d0887\"], [0.1111111111111111, \"#46039f\"], [0.2222222222222222, \"#7201a8\"], [0.3333333333333333, \"#9c179e\"], [0.4444444444444444, \"#bd3786\"], [0.5555555555555556, \"#d8576b\"], [0.6666666666666666, \"#ed7953\"], [0.7777777777777778, \"#fb9f3a\"], [0.8888888888888888, \"#fdca26\"], [1.0, \"#f0f921\"]], \"type\": \"heatmapgl\"}], \"histogram\": [{\"marker\": {\"colorbar\": {\"outlinewidth\": 0, \"ticks\": \"\"}}, \"type\": \"histogram\"}], \"histogram2d\": [{\"colorbar\": {\"outlinewidth\": 0, \"ticks\": \"\"}, \"colorscale\": [[0.0, \"#0d0887\"], [0.1111111111111111, \"#46039f\"], [0.2222222222222222, \"#7201a8\"], [0.3333333333333333, \"#9c179e\"], [0.4444444444444444, \"#bd3786\"], [0.5555555555555556, \"#d8576b\"], [0.6666666666666666, \"#ed7953\"], [0.7777777777777778, \"#fb9f3a\"], [0.8888888888888888, \"#fdca26\"], [1.0, \"#f0f921\"]], \"type\": \"histogram2d\"}], \"histogram2dcontour\": [{\"colorbar\": {\"outlinewidth\": 0, \"ticks\": \"\"}, \"colorscale\": [[0.0, \"#0d0887\"], [0.1111111111111111, \"#46039f\"], [0.2222222222222222, \"#7201a8\"], [0.3333333333333333, \"#9c179e\"], [0.4444444444444444, \"#bd3786\"], [0.5555555555555556, \"#d8576b\"], [0.6666666666666666, \"#ed7953\"], [0.7777777777777778, \"#fb9f3a\"], [0.8888888888888888, \"#fdca26\"], [1.0, \"#f0f921\"]], \"type\": \"histogram2dcontour\"}], \"mesh3d\": [{\"colorbar\": {\"outlinewidth\": 0, \"ticks\": \"\"}, \"type\": \"mesh3d\"}], \"parcoords\": [{\"line\": {\"colorbar\": {\"outlinewidth\": 0, \"ticks\": \"\"}}, \"type\": \"parcoords\"}], \"pie\": [{\"automargin\": true, \"type\": \"pie\"}], \"scatter\": [{\"marker\": {\"colorbar\": {\"outlinewidth\": 0, \"ticks\": \"\"}}, \"type\": \"scatter\"}], \"scatter3d\": [{\"line\": {\"colorbar\": {\"outlinewidth\": 0, \"ticks\": \"\"}}, \"marker\": {\"colorbar\": {\"outlinewidth\": 0, \"ticks\": \"\"}}, \"type\": \"scatter3d\"}], \"scattercarpet\": [{\"marker\": {\"colorbar\": {\"outlinewidth\": 0, \"ticks\": \"\"}}, \"type\": \"scattercarpet\"}], \"scattergeo\": [{\"marker\": {\"colorbar\": {\"outlinewidth\": 0, \"ticks\": \"\"}}, \"type\": \"scattergeo\"}], \"scattergl\": [{\"marker\": {\"colorbar\": {\"outlinewidth\": 0, \"ticks\": \"\"}}, \"type\": \"scattergl\"}], \"scattermapbox\": [{\"marker\": {\"colorbar\": {\"outlinewidth\": 0, \"ticks\": \"\"}}, \"type\": \"scattermapbox\"}], \"scatterpolar\": [{\"marker\": {\"colorbar\": {\"outlinewidth\": 0, \"ticks\": \"\"}}, \"type\": \"scatterpolar\"}], \"scatterpolargl\": [{\"marker\": {\"colorbar\": {\"outlinewidth\": 0, \"ticks\": \"\"}}, \"type\": \"scatterpolargl\"}], \"scatterternary\": [{\"marker\": {\"colorbar\": {\"outlinewidth\": 0, \"ticks\": \"\"}}, \"type\": \"scatterternary\"}], \"surface\": [{\"colorbar\": {\"outlinewidth\": 0, \"ticks\": \"\"}, \"colorscale\": [[0.0, \"#0d0887\"], [0.1111111111111111, \"#46039f\"], [0.2222222222222222, \"#7201a8\"], [0.3333333333333333, \"#9c179e\"], [0.4444444444444444, \"#bd3786\"], [0.5555555555555556, \"#d8576b\"], [0.6666666666666666, \"#ed7953\"], [0.7777777777777778, \"#fb9f3a\"], [0.8888888888888888, \"#fdca26\"], [1.0, \"#f0f921\"]], \"type\": \"surface\"}], \"table\": [{\"cells\": {\"fill\": {\"color\": \"#EBF0F8\"}, \"line\": {\"color\": \"white\"}}, \"header\": {\"fill\": {\"color\": \"#C8D4E3\"}, \"line\": {\"color\": \"white\"}}, \"type\": \"table\"}]}, \"layout\": {\"annotationdefaults\": {\"arrowcolor\": \"#2a3f5f\", \"arrowhead\": 0, \"arrowwidth\": 1}, \"coloraxis\": {\"colorbar\": {\"outlinewidth\": 0, \"ticks\": \"\"}}, \"colorscale\": {\"diverging\": [[0, \"#8e0152\"], [0.1, \"#c51b7d\"], [0.2, \"#de77ae\"], [0.3, \"#f1b6da\"], [0.4, \"#fde0ef\"], [0.5, \"#f7f7f7\"], [0.6, \"#e6f5d0\"], [0.7, \"#b8e186\"], [0.8, \"#7fbc41\"], [0.9, \"#4d9221\"], [1, \"#276419\"]], \"sequential\": [[0.0, \"#0d0887\"], [0.1111111111111111, \"#46039f\"], [0.2222222222222222, \"#7201a8\"], [0.3333333333333333, \"#9c179e\"], [0.4444444444444444, \"#bd3786\"], [0.5555555555555556, \"#d8576b\"], [0.6666666666666666, \"#ed7953\"], [0.7777777777777778, \"#fb9f3a\"], [0.8888888888888888, \"#fdca26\"], [1.0, \"#f0f921\"]], \"sequentialminus\": [[0.0, \"#0d0887\"], [0.1111111111111111, \"#46039f\"], [0.2222222222222222, \"#7201a8\"], [0.3333333333333333, \"#9c179e\"], [0.4444444444444444, \"#bd3786\"], [0.5555555555555556, \"#d8576b\"], [0.6666666666666666, \"#ed7953\"], [0.7777777777777778, \"#fb9f3a\"], [0.8888888888888888, \"#fdca26\"], [1.0, \"#f0f921\"]]}, \"colorway\": [\"#636efa\", \"#EF553B\", \"#00cc96\", \"#ab63fa\", \"#FFA15A\", \"#19d3f3\", \"#FF6692\", \"#B6E880\", \"#FF97FF\", \"#FECB52\"], \"font\": {\"color\": \"#2a3f5f\"}, \"geo\": {\"bgcolor\": \"white\", \"lakecolor\": \"white\", \"landcolor\": \"#E5ECF6\", \"showlakes\": true, \"showland\": true, \"subunitcolor\": \"white\"}, \"hoverlabel\": {\"align\": \"left\"}, \"hovermode\": \"closest\", \"mapbox\": {\"style\": \"light\"}, \"paper_bgcolor\": \"white\", \"plot_bgcolor\": \"#E5ECF6\", \"polar\": {\"angularaxis\": {\"gridcolor\": \"white\", \"linecolor\": \"white\", \"ticks\": \"\"}, \"bgcolor\": \"#E5ECF6\", \"radialaxis\": {\"gridcolor\": \"white\", \"linecolor\": \"white\", \"ticks\": \"\"}}, \"scene\": {\"xaxis\": {\"backgroundcolor\": \"#E5ECF6\", \"gridcolor\": \"white\", \"gridwidth\": 2, \"linecolor\": \"white\", \"showbackground\": true, \"ticks\": \"\", \"zerolinecolor\": \"white\"}, \"yaxis\": {\"backgroundcolor\": \"#E5ECF6\", \"gridcolor\": \"white\", \"gridwidth\": 2, \"linecolor\": \"white\", \"showbackground\": true, \"ticks\": \"\", \"zerolinecolor\": \"white\"}, \"zaxis\": {\"backgroundcolor\": \"#E5ECF6\", \"gridcolor\": \"white\", \"gridwidth\": 2, \"linecolor\": \"white\", \"showbackground\": true, \"ticks\": \"\", \"zerolinecolor\": \"white\"}}, \"shapedefaults\": {\"line\": {\"color\": \"#2a3f5f\"}}, \"ternary\": {\"aaxis\": {\"gridcolor\": \"white\", \"linecolor\": \"white\", \"ticks\": \"\"}, \"baxis\": {\"gridcolor\": \"white\", \"linecolor\": \"white\", \"ticks\": \"\"}, \"bgcolor\": \"#E5ECF6\", \"caxis\": {\"gridcolor\": \"white\", \"linecolor\": \"white\", \"ticks\": \"\"}}, \"title\": {\"x\": 0.05}, \"xaxis\": {\"automargin\": true, \"gridcolor\": \"white\", \"linecolor\": \"white\", \"ticks\": \"\", \"title\": {\"standoff\": 15}, \"zerolinecolor\": \"white\", \"zerolinewidth\": 2}, \"yaxis\": {\"automargin\": true, \"gridcolor\": \"white\", \"linecolor\": \"white\", \"ticks\": \"\", \"title\": {\"standoff\": 15}, \"zerolinecolor\": \"white\", \"zerolinewidth\": 2}}}, \"title\": {\"text\": \"sentimat analysis tweets Joe Biden\"}},\n",
              "                        {\"responsive\": true}\n",
              "                    ).then(function(){\n",
              "                            \n",
              "var gd = document.getElementById('143f9b6d-47fd-4b34-9d6b-b24d8c6f9827');\n",
              "var x = new MutationObserver(function (mutations, observer) {{\n",
              "        var display = window.getComputedStyle(gd).display;\n",
              "        if (!display || display === 'none') {{\n",
              "            console.log([gd, 'removed!']);\n",
              "            Plotly.purge(gd);\n",
              "            observer.disconnect();\n",
              "        }}\n",
              "}});\n",
              "\n",
              "// Listen for the removal of the full notebook cells\n",
              "var notebookContainer = gd.closest('#notebook-container');\n",
              "if (notebookContainer) {{\n",
              "    x.observe(notebookContainer, {childList: true});\n",
              "}}\n",
              "\n",
              "// Listen for the clearing of the current output cell\n",
              "var outputEl = gd.closest('.output');\n",
              "if (outputEl) {{\n",
              "    x.observe(outputEl, {childList: true});\n",
              "}}\n",
              "\n",
              "                        })\n",
              "                };\n",
              "                \n",
              "            </script>\n",
              "        </div>\n",
              "</body>\n",
              "</html>"
            ]
          },
          "metadata": {
            "tags": []
          }
        }
      ]
    },
    {
      "cell_type": "markdown",
      "metadata": {
        "id": "c33C5VTpt6mf"
      },
      "source": [
        "![newplot.png](data:image/png;base64,iVBORw0KGgoAAAANSUhEUgAAA/kAAAINCAYAAABlMb+3AAAgAElEQVR4XuzdeZxO5f/H8fesZuyEaO9bVCLxbaXSvpJWqaSNqCiKlL4hQkUokjaVFrQo8aMULdqVShuVUmSX3YxZf4/r0n03xgz3PXPu+z7L6/7nK3POda7r+TlT3/c5n3PupMLCwkLxQQABBBBAAAEEEEAAAQQQQAABzwskEfI9X0MWgAACCCCAAAIIIIAAAggggIAVIORzIiCAAAIIIIAAAggggAACCCDgEwFCvk8KyTIQQAABBBBAAAEEEEAAAQQQIORzDiCAAAIIIIAAAggggAACCCDgEwFCvk8KyTIQQAABBBBAAAEEEEAAAQQQIORzDiCAAAIIIIAAAggggAACCCDgEwFCvk8KyTIQQAABBBBAAAEEEEAAAQQQIORzDiCAAAIIIIAAAggggAACCCDgEwFCvk8KyTIQQAABBBBAAAEEEEAAAQQQIORzDiCAAAIIIIAAAggggAACCCDgEwFCvk8KyTIQQAABBBBAAAEEEEAAAQQQIORzDiCAAAIIIIAAAggggAACCCDgEwFCvk8KyTIQQAABBBBAAAEEEEAAAQQQIORzDiCAAAIIIIAAAggggAACCCDgEwFCvk8KyTIQQAABBBBAAAEEEEAAAQQQIORzDiCAAAIIIIAAAggggAACCCDgEwFCvk8KyTIQQAABBBBAAAEEEEAAAQQQIORzDiCAAAIIIIAAAggggAACCCDgEwFCvk8KyTIQQAABBBBAAAEEEEAAAQQQIORzDiCAAAIIIIAAAggggAACCCDgEwFCvk8KyTIQQAABBBBAAAEEEEAAAQQQIORzDiCAAAIIIIAAAggggAACCCDgEwFCvk8KyTIQQAABBBBAAAEEEEAAAQQQIORzDiCAAAIIIIAAAggggAACCCDgEwFCvk8KyTIQQAABBBBAAAEEEEAAAQQQIORzDiCAAAIIIIAAAggggAACCCDgEwFCvk8KyTIQQAABBBBAAAEEEEAAAQQQIORzDiCAAAIIIIAAAggggAACCCDgEwFCvk8KyTIQQAABBBBAAAEEEEAAAQQQIORzDiCAAAIIIIAAAggggAACCCDgEwFCvk8KyTIQQAABBBBAAAEEEEAAAQQQIORzDiCAAAIIIIAAAggggAACCCDgEwFCvk8KyTIQQAABBBBAAAEEEEAAAQQQIORzDiCAAAIIIIAAAggggAACCCDgEwFCvk8KyTIQQAABBBBAAAEEEEAAAQQQIOTH6Bz4e/0mrVu/UQcdsHeMjuC9Yed994smvjFLt3e5THvWruHIArK35eiX3//S4Q0OUHJykiNjMkj8BX7/c7kqV8pU7T2q7/Lg7875SjPfn6v7el+v9PS0+E+UIyKAAAIIIIAAAggg4HIBQr4DBdq0eauqVK64w0g9BzymGbM/1zfvPKW0tFQHjhLZEDk5uXZDNwagae98qt6DHteUZwbp4AOdufjx8tT3de9Dz+qF0XeraaP6kSGVsFVJNSzzYA7umJWdo7S0FKWmpJRr1CdfnKaRT76qT6Y+qmpVKpVrrEh3vnPwE5o685Pw5hUzM1SzehW1OKaxrrjgtB3OgaPP6aImhx+kp4b12uXwY8e/qVHjJmvujLEy4/FBAAEEEEAAAQQQQACBHQUI+eU8I1atWa9TLumueTOfVIUidxbf/+QbfbfgN3W77qJyHiG63QeOGK89alTVTddcEN2Ocdg6FiH/tz+X64XX3tGtHS8uc3gtrYZxINntIc66vJfu7XWtjmvWcLfb7mqDUDj+eMpoVa9WuVxjRbrzHQPH6v9mfWbvuhcWFmrzliwtXLREb7z1kQ3oU8cPVt3aNe1wT730f9prz1o697RjCfmRArMdAggggAACCCCAAAIlCBDyIzwtTEhJStq5HfzNmR/rrsFP7hTyIxzW8c1OvbSHLjmvZWBCvhOAbqthaE1Llq3S2VfcoaeH3+HZkP/eJ9/Yu+5FPw88OkHjX3lbQ/p00vlntoiqhNzJj4qLjRFAAAEEEEAAAQQCKOC7kG+e+54x+zPN+miecnPzdPSRh+q/RzTQlRedES7v0uWr9eCYCfr0yx+VUSFNzY9upN43X2Fbic1n9dr1uqHXMN3Xu6Pe+/hrTZ/9mf5YulIN/rOPbrz6Ap3Z8ii73dMTpmv44y/bP5ufmU/L449U906X6LHxU/T5vJ/07Mg77d/P+Xy+Ro97XSMHdtPQMRM05/Pv7PFOP/G/6tH5UrvtM5Nm6NMvf7DPq19x4em6rt254efMzV3QV6d9YB8BMHevzbwvPq+l2l1wqr0b+udfK9VnyFP6+vtf7F3SferVsscdPbi79q67/c9FP7sbr+icHx3SXcPGTtLHX3wn866B4486XL1ubKdDDtp3B9OXJr+rj774Tov+WKaD9t9Ll7U5RRed21KZGel2u6J38n/8ZbGemThD99/deYdxzHaPPP2aPvxsvsY/0kdSoV33h5/PtzaNDjnQ1rPN2SfY/YyrqcEj992iffeqY49j7h6bun3w6bfW+Jimh1nnlsc32cmhtBr++dcqu+3w/jeF9/ni6wUaMuoFtTqjua6//Nzw3z876S1Nefsjvfjo/6y9abEf8cTLMs+Pr1y9Tsc2PUy9bmqnw+rvv8PxzXrGPDdF8777WfvUq63WZzRX5w7nKy01xa6r37Bn7P7mfDAt9jWqVdG4Eb21NSt7lyY7LVJSSXfyzYWrl998T5Onz9H3C3/X/vvsqVNPaKau116ojArbaxb67GquJR3P/J25k19SyDdjdew5VP/rfpUuv+A0u/uNd46wv0M9brg0PNy3Py7SiCde0dxvFti5nXfacUpJSdmpXd+s46XX37UmP/+21Dqb352iXQHm93H12g26+NyTNGrca+Hfv5OOa2LfERH63S9tLfw9AggggAACCCCAAAJeEfBVyA/d+TSB4MyWR2tr1jZ99tUPNiCMGnSrrcmyFWvU5tr/2aBkQsOmLVn68LNvbcia+txg+yy72eaMdj3D/8f/wnNO1LoNmzV5+od2jNeeGqBDD95P5nnwN9/+2AbrGzu0UUpqsuofuI8NlCagTZ/1efguZijgmjBhtjmy0cF6670v7MUDEzTMHMw8TzjmCHuRwoTp4f1v1lknH22PuXzlWp1+2e02PJ/c/Ej7sjmzzxEND9KEMffIvLhs2ruf2jBnnk1vcUwju9/lbU4rsT17d+OZfYvO2bRSn3TcEfp+4WJ7XLOOmRMfCgd4s9ZeAx+zgdaszYT0n375Q106nB9+ZKFoyE9PT9U5V/a2Yfm2zm3Dvy/mwkzz87vqv0fU19gHbtegh5/XS6/PUuszm1uf7xf8LhO2xz9ylw1zxR8BePv9L3Rb/zF2Hkc3PVRL/lplA7OZR9ELPaEDllZDE0QnTpmtL6aPVaWK25/9Ds3FzGP6Cw+E53xZ53uVlb1Nbz43WPn5BbripoE2NDdr3EAH7Fs3fN5MGz9EB+5Xz+5nHue4uc9Ie1HggrNb2Is85uKIOddMe/vHc7/X1Hc+sc+0h9aemVFB17Q9e7cmJf3Lp6SQP3TMRD378lv2Qpi5ELL4z+X2Aok5p54f1Sf8HoDdzbW0f9mVFvJDjjNefFD77b39wozpQDny8Prhiyrm3LmkUz97nl3a+mTl5eVrwhuz7e+t+RR9Jt9c5DEXa8zvsLnIFvr9KdopYH4fzUUA8zntxGY65D/72gsQ5jhnnHSURg7o6pV/ZzNPBBBAAAEEEEAAAQR2KeCrkD9pymwNGDFek58euMPdYRO8UlKSLYT5udnu1SfvDd9ZnfDGLN038nkNvOM6XXTuSeGQbwLY2xOGhsP+Z1/9qOtvf1A3X3uhbrq6jR1vzLNv6NFn39ipXb+0kG8C+qj7brV36AsKCnXseTfa4GLGvLHD+faRgFAAv+DsEzTozo7hAq5dt9E+bx/6hF7uF3qZ2racXDU7s5NuvuaCiNr1dzdeKECbwPzEsJ7h0PfoM6/bO9DPjLhTxzQ91E7HhPOsbTmq+s8LCENrM4HYWJtP8UB+VbfBWrxkud57bWR4bBvIew/Xg/d0sRdhzAvZWhzdaIcQVrSexcc0Ad+M8em0R3d4WZ2ZT2lv3y+phm+/P1e39X/UvgjOdC6Yu8UnXXiLfYmiubs+48UHtN/ee9rnzE0NTfg2d+tNp4WpS59b2uvKi0636zbPoV90/T02rN/f5wZ7IaD11XfJvOzv7QnDVDGzgh3/9nvHyBw3dDHgs3k/6vrbHtypXX93JiX9xhcP+abzw1xkMcammyJkE/odMvM08410riUdM/RMfui9FOZCiLnTbi4Sdbqyle14CX2Kh3xjbyymjh+i//xzYSR0Ea9oyA9dkDMXw4bec6P9PTe/B6e3vc0O/cHkR+zaQiG/+O9G+66D7EW6r2c+6cqXVfLfLwQQQAABBBBAAAEEohXwVcgPtQGboN6zy2WqVnXnt4ibgGRCw6TH+4WtTPu+ecFZ2/NPUb/brg6H/CsuPE1333pVeLtQiDbjmwsCZQn5Dw/sZu/0hz7mbfMmqL736kjVqfXv14eZ+Zg2e9OeXdrH3Jk04SUUCqMN+cXHLT5eKECblvWzTj4mvLkJRSYchYJgafMzIe/Tr37QnDdG2U2KB/LQs/BFnzn/3wNP6/UZc8J30C+/aaB+/f0vPTKwmw3bxT/FxzRvXjeB1tTt0lYtI/pmg5JC/pq/N6jlRbeGL+gs+PVPXdyxr637PQ+O0z09Oqhdm1PtIwSm9XzMkB72cQBzkcF0ExR/i70JsWmpqfaikVlPm2vv3inomrv25o30JqyaVvPSQv7uTEqqR/GQHwrzrzzRXw0bHBDeJdRJEbqwEulcSzpmKOQX/5m5O2+6VEwHQehTPOQffvI1OrVF03AHTmi7bnc/rNkffx2+kx/6dgXT9XHisY3D45kamc6bWa8Mt4+zhEJ+8d+z0LcOzJw4rMTHWqL9FyrbI4AAAggggAACCCCQaAFfhXxzt3bgyPH2OWPz6XDpWfZuqmnjNZ/QXVfz5+LP4Jr2eBMSTFgI3R00FwqubXfODjU68YJuOvHYIzT4rk7276O9kz9xbD81PvTA8Jihl5DNnzUu3G1gfmhCtLmrb9qmzScvP1+zP/pasz+eZ0Pi3+s3atPmLNsFUJaQH8l4oQBtHgcwLdyhT+gusGkrN+3l5rNla7Z9a/rnX/+oxX+u0LoNm+wjB6YbIvTiteKB3MzdXHQJXTQxFylOaNPNtlObCwjmY8K1ueNvtjXt+Z2uPE+nnfjf8F364mNu2LRFN/QcZtvlTY2vv+I8+xx28a84LFrU0mp4/tV9VLNGVftehVAY/GzaGF15833aq+4e9lwJdTV8Om2M7WIwrfuhYxc9hrEwnx/ef3b74wO9h9t/LnoeZm/LtesMnXelhfzdmZT0L5XiIf+hsS9r3MTpJX4VnTn3Nm7aYh8/iHSuJR2zeLu++f377qffNGHKLM2aMy98McPsWzTkmxo2b33zThdBzHah35dQu755Zt+8mb+k32ezfejcDYX87997ZocXaJoLSubCUqgzI9H/Qub4CCCAAAIIIIAAAgiUV8BXIT+EYe40P//qTNvuaz6hO6PmhXonX9zdPrNe0kvY9q5b295BDYV8c1ff3N0v+ilvyC/+HfGh0GLCX9FP0ZBvWrl7DRxrW8HN3ezmRx2uOnvUsG3G5rnxaEN+pOOV9pV3xUO+CWWX3zjAvl+gzVktdPghB6hm9ar2WXoTSEsL+Wa9ofD15VtP6MtvF9jwW/yu7MbNW+3d/adenGYvHJj6PXZ/DxvcS5qjudjz/qff6PHxb4YD91MP3bHTC/5C3qWF/AcfnaDnXnnbPorRodtg2xnyxNCe9sVvJjTPnfG4Ot/xkL0AY8Kk+ZzbvrdtwzcXmIp/zEWbjlecZ89L045u2uHNOxaKf8zz8U0aHlTqnXyz/a5MSvqXQvGQH1pbSW3q1/V4QCtW/23fOxDpXEs6ZmnP5Id+v8yjK48O7m53LRryQ19p2PU68wjL9sdiQh/z8krzEr1QyA89328edzEvLCz+MW/vNy8uLP74TGg7Qn55/xPC/ggggAACCCCAAAJuE/BlyA8hmzve5uVm5u7o+689bO/gNT712vCz0aUVw20h37xUr1WHu2x7c+ht/Wbuobux0Yb8SMeLNOS/9n8fqu/QcSoeysyL00zw31XIN9+GcFW3QbYt27wR37yMsPjz9KE6mVbyJ1/6P3v3PNRFUNocQ/uEXhoXeh6+pJqXFvJD+5q5mTbxvj066LI2p9qLK+YijAmo5vwy72cwIdN8zD/P/3FR+BGFko5n7vSbO/5FOyFK2q60O/lFty3JpKSxiof80KMSJd3BNoHbvOneXGyJdK4lHbO0kJ+bl2/v1JtviAg9ylE05Jv3ABxx2nW6tNXJ6t/zmh2G7j/sWb0y7f1wyDcXYcwFC3NBwrz/obQPId9t/+lhPggggAACCCCAAAKxEvB1yDdo5gVxJhSGnrk1z0+b56iLP5tbFDiakP/i5Hc0+JEXw3fTQ+OU9uK9stzJD4VK82I384I38zFB6OSLb7V3tkMh3/zdca1u2qHdvaQTJ9LxIg35pl3atE0XfRQhdCFhV+36Zm6mq8B8F3zTxvVtC/clrVqq982Xl3q+m6+nO+rsG8It/rsL+WYg0+6/as06+zx8SZ/SahhqGzePKpjg/u6kh1Rvzz3snfvjW91sv2HBfP1d0RcQhtr6zQUAc6e6pI95tMF0lJhQOmlsvx0e0yi6fegN86EXQpaGUtwkkpAfesdA8QszoYsuob+PdK7RhPzQxZPQOzDMvsWfyQ9dIPpoyihVSE+zw5uLA6de0t2e86E7+aH5msdqzGMOpX0I+bH6TwjjIoAAAggggAACCLhNwFch33yN29ff/2y/kq5G9Sr6/Y/lenDMBPv94q89PdC284buTJoWXvPWb9NW/vNvS/TND7+q/UVn2Hb4aEJ+KMyaF9Nd3fYsG0hM+HMy5IcCvWlPN183Z4KXaTM23x9uPkW/ms28yM88u28eNTAhcv9964bfeB86+SIdL9KQb+7WmzZ186K0dhecpoWL/rRfV2b+fnch38wpdJHA/Ln4OwvM96ef0qKp6h+4t7Zty9XbH8y171wIvQyw+BzN16mZY5qLBulpqfYZcPNIRKszjtcDd3cu8fevtBqajUPP2Jv3AYS+JcD8/d33P2XfQWA+X739RPh75U1tzr6ilw2iplbmjrh5saP5zveDD9jbtuubz/hX3rbzMt9cYMzM58efF+ur+T9r9KBb7aMB5rGDlhfdolo1q6nnje1kvkKvWeP69jvld2USScg32wwcMd4+7nHL9RfrqCaH6K8VqzVwxPN293dffkjVqmx/cWUkcy3pmKEX75mvsjOf9Rs269OvfrRv1zefdyYO0151a9k/Fw/5oa9CNC8AvLrt2UpOStILk9+xXz1oPkW/Qs90T5i/Ny9CNO/LMI9LzP9pkdauM19DeZPdnpDvtv/0MB8EEEAAAQQQQACBWAn4KuSbr7gbMOI5Gy7Nx7yMq8Uxje13sZvvpg99zN2/gSOes1/nFfqYQGy+tq3RIQeGv8LOtAqbluGiH/NMvrmIUPSr7UzbvAlL5rEA8zPzvLhpKzbfOR5qVTd/NqHHvMys6HPYoWejd/VMvjn+u3O+0pMvTLMXKczHXIwwFynMd7IXDfnfLfhdD42dFL4AUDw0h9YSyXilzbmkF++ZdvCXp75nv17OfK665EwbcM0d/lBLdmnjmee/T7v0NvuCxOJ320NfExiat3ke/7QTmoVfiFh8TNO+HXp23+xj6nrCMUfYlvrq1SqX+ntUUg3NxiOffNW+dM9Yd+lwfnj/mR98qR79Rts6mK/ZK/oxX4F438PPhwOp+Zm58NDnlivDLyo0HQyTp8/RyCdfsRcEQh/zSIYJ+ZUrZdq/Mm/cN8+gh85pc57szqSkRYY6Wj5589Hwt06YjoThY1/W1Hc+Cc/BXHQw5735esDQJ9K5Fj9u6Jsjiv69+Z00nRHmYoepZehjQv5RRxxifwdDH/M7Zepifq/Mx3RGmG+mMC/KM+9DMF89aD6mk2HU06/Z9ycU/RT9doziv4+h7Xgmv9RfCX6AAAIIIIAAAggg4FEBX4X8UA3M15+Z1t66tWvs8Cbt4jUy4WDd+o2qXLniTne7o62nOZ45bq0aVSP62rZoxw9tb77b3gTGzIz0XQ5h3m5vPqaLYVefSMeLZL4mDK5eu0E1a1TZ4Tvqd7dvqBPg1o4X64b2rXfa3Lx139iaO8uh8LurMc0d8JVr1tmuiuJvXd/Vfk7X0ITo1WvWKyMjXdWqVA5/F33xOZg73Nk5OXab0upqLoRUrVwpHGyjNTF3u807Kkp7ZMG87M50D4Ra40tzimSuu6t3ND8PnVNVq1QMd0uUtn9oW3veV69S4ov4ojk22yKAAAIIIIAAAggg4EUBX4Z8LxYiyHPuM+RJTXn74/Az70G2cHLt5jGE35es0E8/L7bvpuh0ZSt173SJk4dgLAQQQAABBBBAAAEEEHCZACHfZQUJynT+/GuV/li6Qh/P/d5+3WHR1uqgGMR6naFvPTDHMY9OjB7cXXv/8wx8rI/N+AgggAACCCCAAAIIIJAYAUJ+YtwDf9QJb8zSfSOft+30F517km665oLdtooHHi1KAPOCRfMyvYwKFVSnVvUo92ZzBBBAAAEEEEAAAQQQ8KIAId+LVfPJnM07Ecwz4MnJST5ZEctAAAEEEEAAAQQQQAABBBIrQMhPrD9HRwABBBBAAAEEEEAAAQQQQMAxAUK+Y5QMhAACCCCAAAIIIIAAAggggEBiBQj5ifXn6AgggAACCCCAAAIIIIAAAgg4JkDId4ySgRBAAAEEEEAAAQQQQAABBBBIrAAhP7H+HB0BBBBAAAEEEEAAAQQQQAABxwQI+Y5RMhACCCCAAAIIIIAAAggggAACiRUg5CfWn6MjgAACCCCAAAIIIIAAAggg4JgAId8xSgZCAAEEEEAAAQQQQAABBBBAILEChPzE+nN0BBBAAAEEEEAAAQQQQAABBBwTIOQ7RslACCCAAAIIIIAAAggggAACCCRWgJCfWH+OjgACCCCAAAIIIIAAAggggIBjAoR8xygZCAEEEEAAAQQQQAABBBBAAIHEChDyE+vP0RFAAAEEEEAAAQQQQAABBBBwTICQ7xglAyGAAAIIIIAAAggggAACCCCQWAFCfmL9OToCCCCAAAIIIIAAAggggAACjgkQ8h2jZCAEEEAAAQQQQAABBBBAAAEEEitAyE+sP0dHAAEEEEAAAQQQQAABBBBAwDEBQr5jlAyEAAIIIIAAAggggAACCCCAQGIFCPmJ9efoCCCAAAIIIIAAAggggAACCDgmQMh3jJKBEEAAAQQQQAABBBBAAAEEEEisACE/sf4cHQEEEEAAAQQQQAABBBBAAAHHBAj5jlEyEAIIIIAAAggggAACCCCAAAKJFSDkJ9afoyOAAAIIIIAAAggggAACCCDgmAAh3zFKBkIAAQQQQAABBBBAAAEEEEAgsQKE/MT6c3QEEEAAAQQQQAABBBBAAAEEHBMg5DtGyUAIIIAAAggggAACCCCAAAIIJFaAkJ9Yf46OAAIIIIAAAggggAACCCCAgGMChHzHKBkIAQQQQAABBBBAAAEEEEAAgcQKEPIT68/REUAAAQQQQAABBBBAAAEEEHBMgJDvGCUDIYAAAggggAACCCCAAAIIIJBYAUJ+Yv05OgIIIIAAAggggAACCCCAAAKOCRDyHaNkIAQQQAABBBBAAAEEEEAAAQQSK0DIT6w/R0cAAQQQQAABBBBAAAEEEEDAMQFCvmOUDIQAAggggAACCCCAAAIIIIBAYgUI+Yn15+gIIIAAAggggAACCCCAAAIIOCZAyHeMkoEQQAABBBBAAAEEEEAAAQQQSKwAIT+x/hwdAQQQQAABBBBAAAEEEEAAAccECPmOUTIQAggggAACCCCAAAIIIIAAAokVIOQn1p+jI4AAAggggAACCCCAAAIIIOCYACHfMUoGQgABBBBAAAEEEEAAAQQQQCCxAoT8xPpzdAQQQAABBBBAAAEEEEAAAQQcEyDkO0bJQAgggAACCCCAAAIIIIAAAggkVoCQn1h/jo4AAggggAACCCCAAAIIIICAYwKEfMcoGQgBBBBAAAEEEEAAAQQQQACBxAoQ8hPrz9ERQAABBBBAAAEEEEAAAQQQcEyAkO8YJQMhgIDbBHJypI8/z9emLW6bGfNBAAEEvC1QpZLU4tgUpad7ex3MHgEEEPCjACHfj1VlTQggYAVycwv1zvsFmjytABEEEEAAAQcFLmqVrDNOTlZaWpKDozIUAggggIATAoR8JxQZAwEEXCuwbn2hevXLc+38mBgCCCDgRYGh96aqRnUCvhdrx5wRQMD/AoR8/9eYFSIQaIGsrEINHpGn5SsDzcDiEUAAAccE6u0p9emRqsxMQr5jqAyEAAIIOChAyHcQk6EQQMB9ArTsu68mzAgBBLwtQKu+t+vH7BFAwP8ChHz/15gVIhB4AVr2A38KAIAAAg4K0KrvICZDIYAAAjEQIOTHAJUhEUDAXQK07LurHswGAQS8K7BXXenO7qmqSKu+d4vIzBFAwPcChHzfl5gFIoAALfucAwgggIAzArTqO+PIKAgggEAsBQj5sdRlbAQQcI0ALfuuKQUTQQABDwvQqu/h4jF1BOIkkL1NyqgQ+cGi3T7ykYO7JSE/uLVn5QgESoCW/UCVm8UigEAMBGjVjwEqQyLgQ4GFvxZq6KjIvr74yMZJuv5K820d7oDYuHmrCgsLVa1KpZ0mlJuXr7XrNqhu7ZqlTjaSbeKxUkJ+PJQ5BgIIJFyAlv2El4AJIICAxwVo1fd4AZk+AnES8HLIH/nkq9qatU19brlS23JytWjxX2rY4AAr9/Hc7zXo4ec1/YUHSpUsvs2CX//U/vvUVWZGejjibFAAACAASURBVJz0tx+GkB9Xbg6GAAKJFKBlP5H6HBsBBLwuQKu+1yvI/BGIj4CXQ/7WrGwVFBSqcqVMzfl8vmZ+8KUG3nGdhcvLz9f6DZtVq2a1UiGLb3NZ53s1/N6btXfdWvHB/+cohPy4cnMwBBBIpAAt+4nU59gIIOBlAVr1vVw95o5AfAXiGfJv6z9GRx95iCa8PkvLV/2tU5ofqb63XW1Den5+gZ58cZpenvqeNm3O0lknH63eN1+uKpUrau26jXpwzATN/uhr1d6jmlqf2Vw3dmij51+dae/gN2vcQJ3veEgm9O9Tr7aua3eOGhy0r8ZNmK4enduqa5+Rmvz0QGVU2H6HftKU2VqwaInOP7O53WbUoFtl5vb2+1+oZvUqyszIUI1qlXVntyvUtFF9u8/CRUvUa8Bjeu3pgUpLTXG0SIR8RzkZDAEE3CxAy76bq8PcEEDAzQK06ru5OswNAXcJxDPkt+86SKvXrlf/269RRka6Bgx/Tpe0aqkrLzpDn837UX2GPKm+Pa7WHjWq6qHHX9ZxzRqqS4fzNWrcZP29fpNuvf5iLV+1Vrm5eTqi4UEa8+wbyt6Wo27XX6xnJ83Qoj+W6e5b2qtCeprmff+Lhj02Sa880V9nX3GHene9Qqe2aGrxL+nUT9e2O8cex2zz6pP32gsER5/TxV4MMHfyzdhZ23LU77ar7T5mDitW/a1Bd3Z0vICEfMdJGRABBNwsQMu+m6vD3BBAwK0CtOq7tTLMCwH3CcQ75B/T9FDdcv3FFmLy9A/1zodf6bH7e+jBRyfYO/o3XXOB/dmnX/5g796/Pu4+jR73ur0I0O/2q1X/wH3CiKGQf1vntnpx8jta8OuScLu+2T4U4E2HwC+/LdWD93TRH0tX6tz2vTV3xljN/+m38DZm0MNPvkYzJw6zId/cuTcXJea88Yi9aGAuFJiLE8cfdbjjRSTkO07KgAgg4GaBrVmFun9knpatcPMsmRsCCCDgHgFa9d1TC2aCgBcE4h3yO1x6ls5seZSl+WHhYrXt3F8/vP+szr+6j7rfcGn4brt5nr5Fm676ZOqjts3+8eff1OPPT9VZJx+jnl3aaq9/7rabO/m7C/lLlq2yIX3ujMftxYDf/1yuwXd1shcOQhcCiod888/mjr/pJKhXZw916f2Q3nttpFJTnG3VN8ch5HvhN4U5IoCAYwK07DtGyUAIIBAQAVr1A1JolomAQwLxDvkXnnOiLj7vJDv76bM+15BRL2jOG6N0450jdFSTQ3T95efan3374yL16Ddas18ZEV6pCf6mjd+E9BdG3x1u199dyDcDmLvy5gLD6HGTdVe3K+0d+ZJC/tsThtrn+s3n5Tff05ffLrQXFAoKCuzFhFh8CPmxUGVMBBBwtQAt+64uD5NDAAGXCdCq77KCMB0EXC4Q75CfX1CgYX1vtHfnew96XHvWqmGfc39x8rt6fcYcDe9/k6pVrawHRr+kmjWqqmeXy2yo33fvOvYuuvnaO/OzN58bvEPInzVnnh4bP0WTxvZTSkryTgH+1Wkf6JWp72vZyjXhO/LFQ77pJujR+VKd0nz7s/sbNm3R6W1vV5XKmRozpIcOPXi/mFSTkB8TVgZFAAE3C9Cy7+bqMDcEEHCTAK36bqoGc0HAGwLxDvl1atWwb7E3H/PyvIcHdFOdWtXtV+HdP/olG/TNS/DMW+2H3tNF9fbcQ2Oem6IJr7+rtLRUVa6YqV43tdOJxx6xQ8jfsjVbHXsO1dJlq+xL9Ro2OGCHVvwNG7eo+fk367p25+r2LtvvyBcP+ebYgx950b5h/41nBikzY/uFiJ9+/sNeVIjVh5AfK1nGRQAB1wrQsu/a0jAxBBBwmcBFrZN1RstkpaUluWxmTAcBBNwqEO+Q3+nKVjrhmMbKyt5mX7RX/GO+uz4nJ1cVMzN2+FFhYaE2b8myX6m3q4+5+16pYkaZn503x87JzQvP7ZZ7HlGzRg10zWVnx6yEhPyY0TIwAgi4WYCWfTdXh7khgIBbBGjVd0slmAcC3hHI3laojAqRXxjM3iZlVCjb+sxz8Sbktzy+SdkGiONea/7eYB8NGPbYRL310lB74SBWH0J+rGQZFwEEXC1Ay76ry8PkEEDABQKmVf+uHqnKzIj8/6y7YNpMAQEEAiRwW/8xuqzNKTq26WGuX7V5s/6etWvohvat1aThQTGdLyE/prwMjgACbhWgZd+tlWFeCCDgFgHTqn/WqclKSSbku6UmzAMBBBCIRICQH4kS2yCAgC8FaNn3ZVlZFAIIOCRAq75DkAyDAAIIxFmAkB9ncA6HAALuEaBl3z21YCYIIOAuAVr13VUPZoMAAghEI0DIj0aLbRFAwFcCtOz7qpwsBgEEHBSgVd9BTIZCAAEE4ixAyI8zOIdDAAF3CdCy7656MBsEEHCHAK367qgDs0AAAQTKIkDIL4sa+yCAgG8EaNn3TSlZCAIIOCRAq75DkAyDQEAFCrO2Kilz1989X5SmMGuLkjIrBVQrNssm5MfGlVERQMAjArTse6RQTBMBBOImQKt+3Kg5EAK+FMj78Wtt7t8torWlHXWCKnb9n5IqVo5oezdtlJuXr7XrNqhu7ZqlTiuSbWKxJkJ+LFQZEwEEPCVAy76nysVkEUAgxgK06scYmOER8LmAX0P+tpxcLVr8lxo2OMBW8OO532vQw89r+gsPlFrR4tt8/f0vatqofszPAEJ+zIk5AAIIuF0gK7tQQ0bkadkKt8+U+SGAAAKxFaBVP7a+jI5AEAT8GvLnfD5fMz/4UgPvuM6WMS8/X+s3bFatmtVKLWvRbTZs2qK2N/TX2xOGxvw0IOTHnJgDIICA2wXyCwr19qwCTZ5W4PapMj8EEEAgpgK06seUl8ERCIRAPEP+bf3H6Nimh2rilNlaunyNWp1xvLp3vETVqlZSfn6BHn9hqia8/q51v+qSM3VD+9b2z9/+uEhPvThNn837SVUqZyotNVWXtGqp6y8/TwNHjte7H35pt2t1RnPd3qWt5v/4mzrf8ZC2ZmVrn3q1dV27c9TgoH01bsJ09ejcVl37jNTkpwcqo0K63W/SlNlasGiJzj+zud3mvt4ddflNA/TH0pV2/yMPP1iLl6zQnd2uCN/ZX7hoiXoNeEyvPT1Qaakp5TpXCPnl4mNnBBDwiwAt+36pJOtAAIHyCAwdkKoa1ZLKMwT7IoBAwAXiGfLbdx2kZSvX6N6e19rw3Of+p9S29cm68JwT9dm8H9Vv6DN68J4uysvLV5fewzVxbF8dtP9euqRTPxv6zznlGD3w6ASt27BZw/vfZCs3deYnqv+ffVQhPc3uM+jOjmpy+MF6dtIMLfpjme6+pb392bzvf9GwxybplSf66+wr7lDvrlfo1BZN7Rhm/GvbnaM9alQNb/PV/J/Vo99o296fmpqqUU+/pqxtOep329V2n1HjJmvFqr/t8cr7IeSXV5D9EUDAFwK07PuijCwCAQTKIUCrfjnw2BUBBMIC8Q75zRrX122d29rjv/T6LH3z/S822A8bO0kpyclq1+ZU+7PBj7ygIxvV1+UXnKajz+msdyc9pHp77qEZsz/X+FdnasKYe3ao4qo16zXssYk28He6spVenPyOFvy6JNyuby4imJD/6pP36skXp+mX35ba45q79ee27625M8Zq/k+/hbf56Zc/dHOfkZr9ygh7HHPn3lykmPPGI/aigblQ0P/2a3T8UYeX+2wi5JebkAEQQMAPArTs+6GKrAEBBMojQKt+efTYFwEEQgLxDvlXtz1LZ5x0lD28uQs/84O5GjXoVp1/dR+t27BJNapVCRfn5OZH2gsC1/V4QDVrVNWpLZrpuZff0sXnnaS255+izVuyNGTUi/ry24X25ytX/622rU9Rlw7n7zLkL1m2yob0uTMet9v9/udyDb6rk+0mCF0IKB7yzaTMHX8zdr06e6hL74f03msjlZpSvlZ9My4hn99HBBBA4B8BWvY5FRBAIMgCtOoHufqsHQHnBOId8s1d9pbHN9kp5Ju75CbUd7zivJ0WN/vjr3XfyPG64OwTdOKxR6hJw4OVnJykp176P5m2+ocHdFV6eppuuecRNax/wG5DvjmAOV6HS8/S6HGTdVe3K+0d+d2F/JfffM9eUNirbi0VFBSEOxLKWw1CfnkF2R8BBHwjQMu+b0rJQhBAIEoBWvWjBGNzBBAoVcAtIX/cxOl6ddoHGt7/Zh1y0L5asmy1fTFenVrVZV7Yt0+9Wrr4vJY2zNers/277u95cJyqVq6oXje1k7nzbu60d7vuIhvyZ82Zp8fGT9Gksf2UkpK8Q4A3+5pjvTL1ffuOgNAd+aIhf+26jTrpwls0541Rqll9e3eBeeP+6W1vty//GzOkhw49eD9HzixCviOMDIIAAn4QoGXfD1VkDQggUBYBWvXLosY+CCBQkoBbQr75Xvv7R78kc7c89HliaE8d3eQQ3Tn4Cc35/DvV3qOaVq/dYP/3pUfv0V8r1qjXwMfs35kgfsIxjVWnVg11vqq1tmzNVseeQ7V02Sr7Ur2GDQ4It+LbwL5xi5qff7Oua3eufSO/+RQN+eaf7x3+nKa986laHN1IIwd0tdv0HvS4fvr5D7353GDHTihCvmOUDIQAAn4QoGXfD1VkDQggEK0ArfrRirE9AgiUJhDPkB9JFcx31W/enKXKlTPt8+6v/d+HeudD89x+9/BX1d145widdNwR9qV85rNx81Z7R7+kj7n7XqliRpmfnTcXC1JTU+zL9szHPBLQrFEDXXPZ2ZEsJ6JtCPkRMbERAggERYCW/aBUmnUigEBIgFZ9zgUEEHBSoDBrq5IySw7IJR2nMGuLkjIrOTmFXY41fdbnev61mRp6TxdVzMzQDwsX67b+j+rRwd11TNND4zaPNX9v0Mdzv7dv8H/rpaH2woFTH0K+U5KMgwACvhCgZd8XZWQRCCAQhcDFrZN15qnJSklOimIvNkUAAQS8KZCfX6DHX5iq2R/Ns1+xd1STQ9T86Ea2hT6eH/O8/561a+iG9q3VpOFBjh6akO8oJ4MhgIAfBGjZ90MVWQMCCEQqQKt+pFJshwACCHhDgJDvjToxSwQQiKMALftxxOZQCCCQUAFa9RPKz8ERQACBmAgQ8mPCyqAIIOBlAVr2vVw95o4AAtEI0KofjRbbIoAAAt4QIOR7o07MEgEE4ixAy36cwTkcAggkRIBW/YSwc1AEEEAgpgKE/JjyMjgCCHhVgJZ9r1aOeSOAQKQCe9eT7rw1VZmZvHAvUjO2QwABBLwgQMj3QpWYIwIIxF3AtuzPLtDkqQVxPzYHRAABBOIhQKt+PJQ5BgLBE9iUn6sqKdu/Az6ST7TbRzJm0Lch5Af9DGD9CCBQqgAt+5wcCCDgZwFa9f1cXdaGQOIE3t+0TKf8PCWiCbSpfoCePeA0VU9Jj2h7L2z05bcLlZefr+OaNdTGzVtVWFioalUqxXXqhPy4cnMwBBDwkgAt+16qFnNFAIFoBGjVj0aLbRFAIBoBP4T8r7//RU0b1Y9m2eFtxzz7hrK35ei2zm018slXtTVrm/rccqW25eRq0eK/1LDBAWUaN5qdCPnRaLEtAggESoCW/UCVm8UiECgBWvUDVW4Wi0BcBbwe8jds2qK2N/TX2xOGlsmtaMjfmpWtgoJCVa6UqTmfz9fMD77UwDuuK9O40exEyI9Gi20RQCBwArTsB67kLBiBQAgMG5Cq6tV44V4gis0iEYizQDxD/m39x+jYpodq4pTZWrp8jVqdcby6d7xE1apWUn5+gR5/YaomvP6uFbjqkjN1Q/vW9s839BqmbtdfrMaHHmj/+c2ZH+vX3//S9Zefp8tvGqA/lq7UPvVqq2nj+hrQ81pd1uVede90qQY/8oIOPnBvjbrvVg0cOV7vfvil3b/VGc11e5e2Sk1JUdGQ//yrM+0d/GaNG6jzHQ/JhH4z7gVnt9DUdz7Vq08OUMXMCnaMydM/1LzvftF9va8vd8UI+eUmZAAEEPCzAC37fq4ua0MgmAK06gez7qwagXgJxDPkt+86SMtWrtG9Pa+14bnP/U+pbeuTdeE5J+qzeT+q39Bn9OA9XZSXl68uvYdr4ti+Omj/vXRu+942TJvwbT4vvT5LPyz83f7dV/N/Vo9+ozX9hQeUmpqq5OQkNTuzkw6rv79u7Xixbbffo0ZVTZ35ier/Zx9VSE+zYw+6s6OOanLIDiE/FPjNBYVnJ83Qoj+W6e5b2tt9zIWDTle21rmnHWvncPlNA8NzL2+tCPnlFWR/BBDwtQAt+74uL4tDIJACtOoHsuwsGoG4CcQ75DdrXN8+/x4K6998/4sN9sPGTlJKcrLatTnV/szchT+yUX1df/m5pYZ8E9R/+uUP3dxnpGa/MsLuZ+/En9lJQ++5MRzIi2KuWrNewx6baAN/pytblRjyzfxenPyOFvy6JNyuby4smBb+x+7voWUr1uiMdj316bQxqlq5YrlrRcgvNyEDIICA3wVo2fd7hVkfAsESoFU/WPVmtQjEWyDeIf/qtmfpjJOOsss0d9dnfjBXowbdqvOv7qN1GzapRrUqYYKTmx9pLwgUv5Nv2uoX/PqnvRtfWsj/YPLDqlWzmh1r85YsDRn1osyb9GvWqKqVq/9W29anqEuH8yMO+WZuJ7TppvdfG6kZsz/X/J9+07C+NzpSLkK+I4wMggACfhagZd/P1Y3d2lJTpeQkKSfX2WNkZkhZ2c6OyWjBEaBVPzi1ZqUIJEog3iHf3D1veXyTnUK+aeU3ob7jFeftRGEuANzV7Uodf9Th9md33/+U/d9dhfyid9mfeun/bFv/wwO6Kj09Tbfc84ga1j8gqpBvjmfeKXD8UQ316tQPdNM1F4TXUd7aEfLLK8j+CCDgewFa9n1fYscXmFFBGjEoTRs2SncO2J7yH30wTRW2v1vHfpavlO4ZvPMVgNK2M2MO+l+aKleSvp5foLHP5ttxOnVI0d71ktT/gTzH18GA/hOgVd9/NWVFCLhNwC0hf9zE6Xp12gca3v9mHXLQvlqybLUyKqSrTq3qGvTw80pJSVGvG9tp8dIVuubWITrpuCY25K9dt1EnXXiL5rwxSjWrVwm36xcN+fc8OM621fe6qZ29839Jp37qdt1Fuwz5s+bM02Pjp2jS2H5KSUm2Zft47ve21d+8NPCTN0crLS3VkXIS8h1hZBAEEPC7AC37fq+ws+vrfWuq/rN/ktat/zfkPz48TWOfydOCXwrtwXLzpLwScnlp2x1/dLIuPC9FfYfk6uEhaepye66qVpEevDdNg4bl6c+/to/LB4FdCdCqz/mBAAKxFnBLyDfP0t8/+iW9/OZ74SU/MbSnWhzdyAZzE9TNW/QzKqTp1BOa2bfxh95sf+/w5zTtnU/ttg/8r7N9Jr9oyP9h4WL1GviYVq/dYC8EnHBMY9WpVUOdr2pdarv+lq3Z6thzqJYuW6Vr252j69qdq7z8fJ1ycXedd/rxurPrFY6VhpDvGCUDIYCAnwVo2fdzdZ1dW/NjktXhshTN/bpA9f+THL6T/9TDaeozMFer1uz6eKVtd83lKapdK0lDR+VpzNA0PfBIni5unaL0dOn+kdzFd7aK/hyNVn1/1pVVIeA2gXiG/EjWboL05s1Zqlw5037FXdHPhk1bVK1KpRKHMaE8NTXFvgm/tM/GzVujflGeOWalihl2Ljk5uWrRppvGDb9DjQ/7TyTLiWgbQn5ETGyEAAJBF6BlP+hnQGTrr1RReui+NL0wKV8H7p+kww/dHvLNc/SjHkjTot8LlZcvffRZgT77skCFxW6+72q7M09JVotjk9Xv/jw9PiJNg4fn6X+3p+rpF/J1UvNkTZ6Wr19/425+ZJUK5lYXn58scx6lmJdF8EEAAQRiJLApP1dVUkoPxsUPG+32MZp2XIfNzcvX2nUbNG7CDC1fuca+KNDJDyHfSU3GQgABXwvQsu/r8jqyuL69Um2INwH8qrYp4ZBvXsLXrVOqsrdJNapL+++bpBUrC21gL/rZ1XZ71JTu75umJX8VqtYeSVqztlDrNkiNDkvSdz8UqvHhSepyW+5OFw4cWRiD+EKAVn1flJFFIICADwQW/bFMPfqOVpPDD7bP8pv3BDj5IeQ7qclYCCDgawFa9n1d3nIv7rSTktXuohTbRr9lS6EuOC9VBx2QpGGjc7Vi1Y7DN2uSpJuuS1XPvrlav6H0Qxff7uADk3TKicn68usCdbkuVY8/k6erL0/VrXflavh9aXrmpTx99yN388tdTB8OQKu+D4vKkhBAAIFSBAj5nBoIIIBAhAK07EcIFdDN7rw1VQf/Z+c2aNOS36n7jm/Rr15NGjYgTQ8/vutQXtp2Q/qmacHPBVq0uFBtzk1Rr7659i7/ux/k690PCgJaAZa9KwFa9Tk/EEAAgeAIEPKDU2tWigACDgjQsu8AYkCGKNquv9/eSapcWfpxYaGqVZVu6JCqBgcnqesducovkLp2TNXEyXlKTyt9u2052+HM3X2zv9m3YkXpgX5p6nZnrh4Zkqa+9+dqzdqAALPMqARo1Y+Ki40RQAABTwsQ8j1dPiaPAALxFqBlP97i3j1e0ZDftHGSOnVIVdo/7yEyb9h/4//y7Rv46+0pDeyTplem5GvV6sJStwtJmLb8Dz8p0BvT8+1f9bktVQful6S/lheq/wO8Zd+7Z0zsZr7PXlLvW1KVmckL92KnzMgIIICAewQI+e6pBTNBAAEPCNCy74EiuXiKFTOl/HwpdFc+NFUT9Jev/HfipW1X2tLM9luzXLxwppZQAVr1E8rPwRFAAIG4CxDy407OARFAwOsCtOx7vYLMH4FgCTw0MFXVqnIXP1hVZ7UIIBBkAUJ+kKvP2hFAoEwCtOyXiY2dEEAgAQKmVd+8FDIjg5CfAH4OiQACCCREgJCfEHYOigACXhagZd/L1WPuCARLgFb9YNWb1SKAAAJGgJDPeYAAAgiUQYCW/TKgsQsCCMRdgFb9uJNzQAQQQCDhAoT8hJeACSCAgBcFaNn3YtWYMwLBEqBVP1j1ZrUIIIBASICQz7mAAAIIlEGAlv0yoLELAgjEVYBW/bhyczAEEEDANQKEfNeUgokggIDXBGjZ91rFmC8CwRKgVT9Y9Wa1CCCAAHfyOQcQQACBcgrQsl9OQHZHAIGYCdCqHzNaBkYAAQRcL8CdfNeXiAkigIBbBWjZd2tlmBcCCNCqzzmAAAIIBFeAkB/c2rNyBBBwQICWfQcQGQIBBBwXoFXfcVIGRAABBDwjQMj3TKmYKAIIuFGAln03VoU5IRBsAVr1g11/Vo8AAggQ8jkHEEAAgXII0LJfDjx2RQCBmAhccn6yzjglWSnJSTEZn0ERQAABBNwtQMh3d32YHQIIeEBg3YZC9eqb54GZMkUEEAiCAK36Qagya0QAAQRKFyDkc3YggAAC5RSgZb+cgOyOAAKOCdCq7xglAyGAAAKeFSDke7Z0TBwBBNwiQMu+WyrBPBBAgFZ9zgEEEEAAAUI+5wACCCDggAAt+w4gMgQCCJRbgFb9chMyAAIIIOB5AUK+50vIAhBAwA0CtOy7oQrMAYFgC5hW/d63piozgxfuBftMYPUIIBB0AUJ+0M8A1o8AAo4I0LLvCCODIIBAOQRo1S8HHrsigAACPhIg5PuomCwFAQQSK0DLfmL9OToCQRegVT/oZwDrRwABBLYLEPI5ExBAAAGHBGjZdwiSYRBAIGoBWvWjJmMHBBBAwLcChHzflpaFIYBAvAVo2Y+3OMdDAIGQAK36nAsIIIAAAiEBQj7nAgIIIOCgAC37DmIyFAIIRCxAq37EVGyIAAII+F6AkO/7ErNABBCIpwAt+/HU5lgIIGAEaNXnPEAAAQQQKCpAyOd8QAABBBwUoGXfQUyGQgCBiARo1Y+IiY0QQACBwAgQ8gNTahaKAALxEqBlP17SHAcBBIwArfqcBwgggAAC3MnnHEAAAQRiKEDLfgxxGRoBBHYQoFWfEwIBBBBAoLgAd/I5JxBAAAGHBUzL/szZBXptaoHDIzMcAgggsKMArfqcEQgggAAChHzOAQQQQCAOAus3FKpn37w4HIlDIIBAkAVo1Q9y9Vk7AgggULIAd/I5MxBAAIEYCGRnF2rwiDwtWxGDwRkSAQQQ4K36nAMIIIAAAqUIEPI5NRBAAIEYCNCyHwNUhkQAgR0ELmmTrDNOTlZKchIyCCCAAAIIhAUI+ZwMCCCAQIwEaNmPESzDIoCAFaBVnxMBAQQQQKAkAUI+5wUCCCAQIwFa9mMEy7AIICDeqs9JgAACCCBQmgAhn3MDAQQQiJEALfsxgmVYBBAQrfqcBAgggAAChHzOAQQQQCABArTsJwCdQyIQAAFa9QNQZJaIAAIIlFGAO/llhGM3BBBAIBIBWvYjUWIbBBCIRoBW/Wi02BYBBBAIngAhP3g1Z8UIIBBHAVr244jNoRAIiACt+gEpNMtEAAEEyihAyC8jHLshgAACkQrQsh+pFNshgEAkArTqR6LENggggEBwBQj5wa09K0cAgTgJ0LIfJ2gOg0AABPbdW7rjllRlZiQFYLUsEQEEEECgLAKE/LKosQ8CCCAQhQAt+1FgsSkCCOxSgFZ9ThAEEEAAgd0JEPJ3J8TPEUAAAQcEaNl3AJEhEEBAtOpzEiCAAAII7E6AkL87IX6OAAIIOCBgWvaHjMzTX8sdGIwhEEAgkAK06gey7CwaAQQQiFqAkB81GTsggAAC0QvQsh+9GXsggMCOArTqc0YggAACCEQiQMiPRIltEEAAAQcEaNl3AJEhEAiwwPD7UlW1Ci/cC/ApwNIRQACBiAQI+RExsRECCCBQfgFa9stvyAgIBFWAVv2gVp51I4AAAtELEPKjN2MPBBBAoEwCtOyXiY2dEEBAUruLknXKiclKSeZOPicEAggggMCuBQj5nCEIIIBAHAVo2Y8jNodCwEcCtOr7qJgsBQEEEIixACE/iZNECgAAIABJREFUxsAMjwACCBQVoGWf8wEBBKIVoFU/WjG2RwABBIItQMgPdv1ZPQIIxFmAlv04g3M4BHwgQKu+D4rIEhBAAIE4ChDy44jNoRBAAAEjQMs+5wECCEQjQKt+NFpsiwACCCBAyOccQAABBOIsQMt+nME5HAIeFqBV38PFY+oIIIBAggQI+QmC57AIIBBcAVr2g1t7Vo5AtAK06kcrxvYIIIAAAoR8zgEEEEAgAQK07CcAnUMi4EEBWvU9WDSmjAACCCRYgJCf4AJweAQQCKZA9rZC/bxIysoK5vpZNQII7F6gUkXpoAOlzIyk3W/MFggggAACCPwjQMjnVEAAAQQSIFCYn6/8xb8q/7cFCTg6h0QAAS8IpBx8mFL2O0hJKSlemC5zRAABBBBwiQAh3yWFYBoIIBA8gYL1f2vjDecHb+GsGAEEIhKo+tQ0JVetHtG2bIQAAggggEBIgJDPuYAAAggkSKAwa6s2/a+LCpb8lqAZcFgEEHCrQMoB9VW5/2glVazk1ikyLwQQQAABlwoQ8l1aGKaFAAL+FzAt+9umTlD2S2P9v1hWiAACUQlkXHOrKpx1Ea36UamxMQIIIICAESDkcx4ggAACCRQoWLdWGzu3SeAMODQCCLhRgFZ9N1aFOSGAAALeECDke6NOzBIBBHwqQMu+TwvLshAohwCt+uXAY1cEEEAAAe7kcw4ggAACiRSgZT+R+hwbAXcK0KrvzrowKwQQQMArAtzJ90qlmCcCCPhWgJZ935aWhSFQJgFa9cvExk4IIIAAAv8IEPI5FRBAAIEEC9Cyn+ACcHgEXCRAq76LisFUEEAAAY8KEPI9WjimjQAC/hGgZd8/tWQlCJRXgFb98gqyPwIIIIAAIZ9zAAEEEHCBAC37LigCU0DABQK06rugCEwBAQQQ8LgAId/jBWT6CCDgDwFa9v1RR1aBQHkEaNUvjx77IoAAAgiEBAj5nAsIIICACwRo2XdBEZgCAgkWyLjqZlU4t62SUlISPBMOjwACCCDgZQFCvperx9wRQMBXArTs+6qcLAaBqAWqPjlVydVqRL0fOyCAAAIIIFBUgJDP+YAAAgi4RICWfZcUgmkgkAABWvUTgM4hEUAAAZ8KEPJ9WliWhQAC3hOwLfvTJir7xce8N3lmjAAC5RLI6NBVFc65lFb9cimyMwIIIICAESDkcx4ggAACLhKgZd9FxWAqCMRRgFb9OGJzKAQQQMDnAoR8nxeY5SGAgLcEaNn3Vr3KOtvcQiklSUouZYC8wkLlFCapYgkbZBcUKiM5qayHZj8XCtCq78KiMCUEEEDAwwKEfA8Xj6kjgID/BGjZ935NF+QmaciWCjo9PU9XVczbaUFL85PUY2OGOmTmqHVG/g4//yNPGr0lXX/mb0/39VIK1blijg5LM6Ff6r8pXX8VJKt1hTxdkrl97NezUrU4P1k9Kud4Hy+gK6BVP6CFZ9kIIIBAjAQI+TGCZVgEEECgrAK07JdVLvH7zcxO0bNb07RHSqGOTstXh2Ihv0BS9/Xp2qBkXZKRu1PIX5MvzctN0akV8pSclGTH+ik3SUOr5ejH3CRNyk7T3ZVz1GlDhp6tlqWthUnqsqGChlfdptp861riT4AyzoBW/TLCsRsCCCCAQIkChHxODAQQQMBlArTsu6wgUUzHBPIqydKb2amqnFS4U8ifmJWq3/OTbZt+w9T8nUJ+8UPNyE7R69mpeqL6Nk3LTtGK/CR1rJSnLusraECVbZqenaptkjpX2rljIIpps2kCBWjVTyA+h0YAAQR8KkDI92lhWRYCCHhXgJZ979YuNPPRm9NUNXnHkP97XpL6bkrXo9W26dGt6WpUSsjPLpR+y0vSD3kpmrYtVe0ycnVORr7m5iTrw5wU3V45V1etq6CHquWo+/oKuqfKNn2Uk6JzM/K1d0qh9/ECtgJa9QNWcJaLAAIIxEGAkB8HZA6BAAIIRCtAy360Yu7avnjIzy0sVLcNGbqqYq5apBdoyObSQ/4feUkatDld6wqTtXdygW6ulKP6qYXaWCB1WZ+hY9PzbTfAgSkFqpVcqLe2bQ/407NT9Fz1bNvmz8c7ArTqe6dWzBQBBBDwigAh3yuVYp4IIBAoAVr2vV3u4iHfPlufl6Q7/nk53iNb0nVoaoFaZ+SpcimZ3LxFf8q2NE3JStXzNbLt2/iX5Sfp85wUHZFWoP6b0tS3So7Gbk3XQ1W3qffGdN1YKVcHcDffMycPrfqeKRUTRQABBDwlQMj3VLmYLAIIBEWAln1vV7p4yL95QwWtKtj5+/Aap+Spb9XcUhe7uVC6dn2mHqySrQNT/23FH7QpTUemFWq/lHy9nJWmgVVzdN+mdJ2Tkaf/ppnX+/HxggCt+l6oEnNEAAEEvCdAyPdezZgxAggERICWfe8WuqRn8ouupmi7fl5hoSZkpem8Cnm2Rd88y187uVBZhdJrWan2bv746lnK/OeO/y95SXpgcwU9Xi1b2YWF9uv4xlTLVtcNGXqg6jZV2/lagnchfT5zWvV9XmCWhwACCCRIgJCfIHgOiwACCOxOoDBrizbdc5MK/ly0u035ucsExmxJU5WkQl1V7Cv0QtM0Ib9xar5aZeRrrXnWfkOmelXapnUFSRq3NU3m2/DyJTVILdAFGbn6b/q/d/Hv3JCu8zLydWIFs4U0ZnOqPspJ1dHp+epRufSuAJcRBX46KQc2UOV+o5RUsVLgLQBAAAEEEHBWgJDvrCejIYAAAo4J0LLvGKXrB/q7IEk1k7cHedNsb16yZ76CLzXCl+iZN/Jn8L4919e56ARp1fdUuZgsAggg4CkBQr6nysVkEUAgaAK07Aet4qw3KAK06gel0qwTAQQQiL8AIT/+5hwRAQQQiFiAlv2IqdgQAc8I0KrvmVIxUQQQQMCTAoR8T5aNSSOAQFAEaNkPSqVZZ5AEaNUPUrVZKwIIIBB/AUJ+/M05IgIIIBCVAC37UXGxMQKuF6BV3/UlYoIIIICApwUI+Z4uH5NHAIEgCNCyH4Qqs8agCNCqH5RKs04EEEAgcQKE/MTZc2QEEEAgIgFa9iNiYiMEPCFAq74nysQkEUAAAU8LEPI9XT4mjwACQRGgZT8olWadfhegVd/vFWZ9CCCAQOIFCPmJrwEzQAABBHYrQMv+bonYAAHXC9Cq7/oSMUEEEEDAFwKEfF+UkUUggIDfBWjZ93uFWV8QBGjVD0KVWSMCCCCQeAFCfuJrwAwQQACBiARo2Y+IiY0QcK0ArfquLQ0TQwABBHwlQMj3VTlZDAII+FmAln0/V5e1+V2AVn2/V5j1IYAAAu4RIOS7pxbMBAEEENilAC37nCAIeFeAVn3v1o6ZI4AAAl4TIOR7rWLMFwEEAi1QsH6tNt7QJtAGLB4BLwrQqu/FqjFnBBBAwJsChHxv1o1ZI4BAQAVo2Q9o4Vm2pwVo1fd0+Zg8Aggg4DkBQr7nSsaEEUAgyAK07Ae5+qzdqwK06nu1cswbAQQQ8KYAId+bdWPWCCAQYAFa9gNcfJbuSQFa9T1ZNiaNAAIIeFaAkO/Z0jFxBBAIqkBh1lblTH9FBX+vDioB60bAMwLJtfZU+lkXKaliJc/MmYkigAACCHhbgJDv7foxewQQCKjAspzN+jtvW0BXz7IR8I5AzdQM7ZVOwPdOxZgpAggg4H0BQr73a8gKEEAggAIrcreq3vznArhyloyAtwRWHnGN6qRlemvSzBYBBBBAwNMChHxPl4/JI4BAUAU25eeoxcLX9V3W30ElYN0IuF6gaWYtvXdIG1VLSXf9XJkgAggggIB/BAj5/qklK0EAgQAJ5BcWaPjKb3XHX58FaNUsFQFvCQzfp7luqdNYKUnJ3po4s0UAAQQQ8LQAId/T5WPyCCAQZAFa9oNcfdbuBQFa9b1QJeaIAAII+E+AkO+/mrIiBBAIiAAt+wEpNMv0pACt+p4sG5NGAAEEfCFAyPdFGVkEAggEUYCW/SBWnTV7RYBWfa9UinkigAAC/hMg5PuvpqwIAQQCJEDLfoCKzVI9JUCrvqfKxWQRQAABXwkQ8n1VThaDAAJBE9iYn6MTF76h+Vlrg7Z01ouAawWaVayl2Q14q75rC8TEEEAAAZ8LEPJ9XmCWhwAC/hagZd/f9WV13hSgVd+bdWPWCCCAgF8ECPl+qSTrQACBwArQsh/Y0rNwlwrQqu/SwjAtBBBAICAChPyAFJplIoCAfwVo2fdvbVmZ9wRo1fdezZgxAggg4DcBQr7fKsp6EEAgcAK07Aeu5CzYxQK06ru4OEwNAQQQCIgAIT8ghWaZCCDgbwFa9v1dX1bnHQFa9b1TK2aKAAII+FWAkO/XyrIuBBAIlAAt+4EqN4t1qQCt+i4tDNNCAAEEAiZAyA9YwVkuAgj4U4CWfX/WlVV5S4BWfW/Vi9kigAACfhUg5Pu1sqwLAQQCJ0DLfuBKzoJdJrDqiGtUOy3TZbNiOggggAACQRMg5Aet4qwXAQR8K0DLvm9Ly8I8IECrvgeKxBQRQACBgAgQ8gNSaJaJAAL+F6Bl3/81ZoXuFaBV3721YWYIIIBA0AQI+UGrOOtFAAFfC9Cy7+vysjgXC9Cq7+LiMDUEEEAgYAKE/IAVnOUigIC/BWjZ93d9WZ07BWjVd2ddmBUCCCAQVAFCflArz7oRQMCXArTs+7KsLMrlArTqu7xATA8BBBAImAAhP2AFZ7kIIOB/AVr2/V9jVuguAVr13VUPZoMAAggEXYCQH/QzgPUjgIDvBGjZ911JWZCLBWjVd3FxmBoCCCAQUAFCfkALz7IRQMC/AqZlf8TK+er116f+XSQrQ8AlArTqu6QQTAMBBBBAICxAyOdkQAABBHwoQMu+D4vKklwpQKu+K8vCpBBAAIFACxDyA11+Fo8AAn4VoGXfr5VlXW4SoFXfTdVgLggggAACIQFCPucCAggg4EMBWvZ9WFSW5DoBWvVdVxImhAACCCAgiZDPaYAAAgj4VICWfZ8WlmW5RoBWfdeUgokggAACCBQRIORzOiCAAAI+FaBl36eFZVmuEKBV3xVlYBIIIIAAAiUIEPI5LRBAAAGfCtCy79PCsixXCNCq74oyMAkEEEAAAUI+5wACCCAQLAFa9oNVb1YbPwFa9eNnzZEQQAABBKIT4E5+dF5sjQACCHhKwLTsn7TwDX2btdZT82ayCLhZ4L8Va2tWg9aqllLBzdNkbggggAACARUg5Ae08CwbAQSCIUDLfjDqzCrjK0Crfny9ORoCCCCAQHQChPzovNgaAQQQ8JwALfueKxkTdrkArfouLxDTQwABBAIuQMgP+AnA8hFAwP8CtOz7v8asMH4CtOrHz5ojIYAAAgiUTYCQXzY39kIAAQQ8I0DLvmdKxUQ9IECrvgeKxBQRQACBgAsQ8gN+ArB8BBAIhgAt+8GoM6uMvQCt+rE35ggIIIAAAuUTIOSXz4+9EUAAAU8I0LLviTIxSZcL0Krv8gIxPQQQQAABK0DI50RAAAEEAiBAy34AiswSYy5Aq37MiTkAAggggIADAoR8BxAZAgEEEPCCwMrcrao7/zkvTJU5IuBKgdVNrlGt1ExXzo1JIYAAAgggEBIg5HMuIIAAAgERoGU/IIVmmTERoFU/JqwMigACCCAQAwFCfgxQGRIBBBBwowAt+26sCnPyigCt+l6pFPNEAAEEECDkcw4ggAACARKgZT9AxWapjgrQqu8oJ4MhgAACCMRQgJAfQ1yGRgABBNwmQMu+2yrCfLwgQKu+F6rEHBFAAAEEQgKEfM4FBBBAIEACtOwHqNgs1TEBWvUdo2QgBBBAAIE4CBDy44DMIRBAAAE3CdCy76ZqMBcvCNCq74UqMUcEEEAAAe7kcw4ggAACARWgZT+ghWfZZRKgVb9MbOyEAAIIIJBAAe7kJxCfQyOAAAKJEDAt+yNXzlfPvz5NxOE5JgKeEhixTwt1q9NIKUnJnpo3k0UAAQQQCK4AIT+4tWflCCAQYAFa9gNcfJYelQCt+lFxsTECCCCAgAsECPkuKAJTQAABBOItQMt+vMU5nhcFaNX3YtWYMwIIIIAAIZ9zAAEEEAigAC37ASw6S45agFb9qMnYAQEEEEDABQKEfBcUgSkggAACiRCgZT8R6hzTSwK06nupWswVAQQQQCAkQMjnXEAAAQQCKkDLfkALz7IjEqBVPyImNkIAAQQQcKEAId+FRWFKCCCAQDwEaNmPhzLH8KoArfperRzzRgABBBAg5HMOIIAAAgEWoGU/wMVn6bsUoFWfEwQBBBBAwKsChHyvVo55I4AAAg4ImJb9lgun6JusNQ6MxhAI+EPgqIq19W6D1qqWUsEfC2IVCCCAAAKBEiDkB6rcLBYBBBDYUYCWfc4IBHYWoFWfswIBBBBAwMsChHwvV4+5I4AAAg4I0LLvACJD+EqAVn1flZPFIIAAAoETIOQHruQsGAEEENhRgJZ9zggE/hWgVZ+zAQEEEEDA6wKEfK9XkPkjgAAC5RSgZb+cgOzuKwFa9X1VThaDAAIIBFKAkB/IsrNoBBBAYEcBWvY5IxDYLkCrPmcCAggggIDXBQj5Xq8g80cAAQQcEKBl3wFEhvC8AK36ni8hC0AAAQQQkETI5zRAAAEEEBAt+5wECEi06nMWIIAAAgj4QYCQ74cqsgYEEEDAAYFVuVu15/znHBiJIRDwpsDqJteqVmqGNyfPrBFAAAEEEPhHgJDPqYAAAgggYAVo2edECLIArfpBrj5rRwABBPwlQMj3Vz1ZDQIIIFBmAVr2y0zHjj4QoFXfB0VkCQgggAACVoCQz4mAAAIIIBAWoGWfkyGoArTqB7XyrBsBBBDwnwAh3381ZUUIIIBAmQVo2S8zHTt6WIBWfQ8Xj6kjgAACCOwkQMjnpEAAAQQQCAvQss/JEEQBWvWDWHXWjAACCPhXgJDv39qyMgQQQKBMArTsl4mNnTwsQKu+h4vH1BFAAAEEuJPPOYAAAgggsGsBWvY5Q4IkQKt+kKrNWhFAAIFgCHAnPxh1ZpUIIIBAxAKmZf/hVd/p9qWfRLwPGyLgVYGR+7RQ1zqNlJKU7NUlMG8EEEAAAQR2ECDkc0IggAACCOwkQMs+J0VQBGjVD0qlWScCCCAQHAFCfnBqzUoRQACBiAVo2Y+Yig09LECrvoeLx9QRQAABBEoVIORzciCAAAII7CRAyz4nRRAEaNUPQpVZIwIIIBA8AUJ+8GrOihFAAIGIBGjZj4iJjTwsQKu+h4vH1BFAAAEEuJPPOYAAAgggEJ0ALfvRebG1twRo1fdWvZgtAggggEDkAtzJj9yKLRFAAIFACdCyH6hyB26xtOoHruQsGAEEEAiMACE/MKVmoQgggED0ArTsR2/GHt4QoFXfG3VilggggAAC0QsQ8qM3Yw8EEEAgMAIb8nN0ysIp+jprTWDWzEL9L3B0xTqa2aCVqqdU8P9iWSECCCCAQOAECPmBKzkLRgABBCIXoGU/ciu29I4ArfreqRUzRQABBBCIXoCQH70ZeyCAAAKBEqBlP1DlDsRiadUPRJlZJAIIIBBYAUJ+YEvPwhFAAIHIBGjZj8yJrbwhQKu+N+rELBFAAAEEyi5AyC+7HXsigAACgRCgZT8QZQ7MImnVD0ypWSgCCCAQWAFCfmBLz8IRQACByAVo2Y/cii3dLUCrvrvrw+wQQAABBMovQMgvvyEjIIAAAr4XoGU/+hIn5RdIhYUqTE35d+fCQqVtzVFupV2/1T2poFDJOXnKz0jb6cDm7wvSU6OfEHuIVn1OAgQQQACBIAgQ8oNQZdaIAAIIlFOAlv3oAJNz89Xiwbe1uW5VfX39CXbnOvOXqtGEL+yf8zLSNK/Tidq8V/UdBk7fmKWGk79WzYUr7N9vrltNP136X23aq7rMmP994kNVWr1Zf5x4sH4/7TC7zQHvLVSV5ev13RXHRjfJAG5Nq34Ai86SEUAAgQAKEPIDWHSWjAACCJRFYFVulvac/2xZdg3cPoe+/rXqfrtUG/atYUN+Sk6eWvZ7U99ddZxWN9xLB8xeoH2+WKyP7jx7x5C/KVv7frJIi09uoILUFDV8dZ7StmzTN9e1UPXfVuugd3/S19e20EmDpuv9fq2Ump2rE4bM0Gc9Tld2jUqBc452wWuaXKs9UjOi3Y3tEUAAAQQQ8JQAId9T5WKyCCCAQOIEaNmPzL7Gb6vV+KUv9McJB6vmotU25Nf+cZkOe+UrfdivtR3EhP5T+r6pj3ueoaxaVUod2O43+Wt9+L/ztN+cX5T59xYtbHOkThgyXV92bql9P/5VKbn5WnBRs8gmF+CtaNUPcPFZOgIIIBAwAUJ+wArOchFAAIGyCtCyv3u5lG25anH/W/qu/bGqvHKTav203Ib8fT7+VfW+WaK5N58SHuTk/lM1v/2x+vvgOqUO3PDVr5SUl68f2h1jLxTUnfenvmt/nE7uO0Wfdz9dxw1/x46/57dLtKT5wdpap/QLBrufvb+3oFXf3/VldQgggAAC/woQ8jkbEEAAAQQiFqBlf9dUh0/8QgUpKfY5etN2Hwr5B85eIHOHf17HE8MDmLvxP7c6Qqsa71PioHssWKEjXvhMn912hrJqVrJt+6Y1f1WjvVT1rw3auHc1ZVevaI+zpMXB9q7++/1bS8nJEdczSBvSqh+karNWBBBAINgChPxg15/VI4AAAlEJ0LJfOtceC5briBc+1+e3nKb8Cqnae+5i1fxlleZfae7CL9deXy7W3K6nhgcwd/K/bX+s1pVwJ7/KsvU6etRsfXNtc/3doG54n4qrN6nO98v0d/06avbEh/aiQcPJ8/RZ99N1zKjZ+uniZvYlfXx2FKBVnzMCAQQQQCBIAoT8IFWbtSKAAALlFKBlv3TAQyfPsy/TK/7JT03Wtx2O0xEvzd1+p908k5+dq1P6Ty3xmXwT5I99eJZ+Oa+xlh5/UIkHPHLcRzb8b6pbVf959yd91aWlmj79kb2jv+bQfy8KlLPcvtmdVn3flJKFIIAAAghEIEDIjwCJTRBAAAEE/hWgZT+ys6Fou35SfoFO7vemfrykmVYeuZ8OevsH1Zv3hz6661yZnx389g/2RX3JBYU6buQs+xV5f55YP3wgc6Eg1IZf9c+/deT4TzXnrnOUnJOn5sPftW/pb/HgW/qi22nKqVwhsgkGaCta9QNUbJaKAAIIICBCPicBAggggEBUArTsR8ZVNOSbPWr+vEJNxn9mQ31BhTTNu66FNu5XUxU2ZOnEITP07VXHqerSdTrwvYU7HeCbq4/XmsPq2b8/evRse8d+RdP97D+bt/bX/XaJVjesp++vODayyQVoK1r1A1RslooAAgggYAUI+ZwICCCAAAJRCZiW/UdWfafbln4S1X5svF3AvEAvt9KOd9srbMzStqqZZSYyX8mXn55a5v39vOPD+5ygm+scrpQkXkjo5zqzNgQQQACBfwUI+ZwNCCCAAAJRC9CyHzUZOyRIgFb9BMFzWAQQQACBhAkQ8hNGz4ERQAAB7wrQsu/d2gVp5rTqB6narBUBBBBAICRAyOdcQAABBBCIWoCW/ajJ2CEBArTqJwCdQyKAAAIIJFyAkJ/wEjABBBBAwJsCtOx7s25BmjWt+kGqNmtFAAEEEOBOPucAAggggEC5BGjZLxcfO8dYgFb9GAMzPAIIIICAawW4k+/a0jAxBBBAwN0CtOy7uz5Bnx2t+kE/A1g/AgggEFwBQn5wa8/KEUAAgXIL0LJfbkIGiJEArfoxgmVYBBBAAAHXCxDyXV8iJogAAgi4V8C07J/68xTN27rGvZNkZoETOKZiHb1dv5Wqp1YI3NpZMAIIIIAAAoR8zgEEEEAAgTIL0LJfZjp2jKEArfoxxGVoBBBAAAHXCxDyXV8iJogAAgi4W4CWfXfXJ4izo1U/iFVnzQgggAACIQFCPucCAggggEC5BGjZLxcfOzssQKu+w6AMhwACCCDgOQFCvudKxoQRQAABdwnQsu+uegR9NrTqB/0MYP0IIIAAAoR8zgEEEEAAgXIL0LJfbkIGcEiAVn2HIBkGAQQQQMCzAoR8z5aOiSOAAALuEaBl3z21CPJMaNUPcvVZOwIIIIBASICQz7mAAAIIIFBuAVr2y03IAA4I0KrvACJDIIAAAgh4XoCQ7/kSsgAEEEDAHQKrc7NUZ/6z7pgMswikAK36gSw7i0YAAQQQKCZAyOeUQAABBBBwRICWfUcYGaSMArTqlxGO3RBAAAEEfCdAyPddSVkQAgggkBgBWvYT485RtwvQqs+ZgAACCCCAwHYBQj5nAgIIIICAYwK07DtGyUBRCtCqHyUYmyOAAAII+FaAkO/b0rIwBBBAIP4CtOzH35wjSrTqcxYggAACCCDwrwAhn7MBAQQQQMAxAVr2HaNkoCgEaNWPAotNEUAAAQR8L0DI932JWSACCCAQXwFa9uPrzdEkWvU5CxBAAAEEEOBOPucAAggggECMBGjZjxEsw5YoQKs+JwYCCCCAAAI7CnAnnzMCAQQQQMBRAVr2HeVksN0IPLbfSepU6zClJCVjhQACCCCAAAK8XZ9zAAEEEEAgFgK07MdClTFLEljb5FrVTM0ABwEEEEAAAQT+EeBOPqcCAggggIDjArTsO07KgCUI0KrPaYEAAggggMDOAoR8zgoEEEAAAccFaNl3nJQBSxCgVZ/TAgEEEEAAAUI+5wACCCCAQJwEaNmPE3SAD0OrfoCLz9IRQAABBEoV4E4+JwcCCCCAQEwEaNmPCSuD/iNAqz6nAgIIIIAAAiULEPI5MxBAAAEEYiJAy35MWBn0H4H/b+f+dfsogjiAX2IjFxYSlvKnS5UCqpRAAwWIJjwF8AAgXgQJCqjgHQKIF0gFFBGpXKeyIxQag6VEQga5AEVx7nwzu3vz6X83s/uZbb7yyFb1PQUCBAgQICDkewMECBAgkCxgZT8ZvFA7q/qFhu2qBAgQIDBLwF/yZ3H5MQECBAjMEfjj2en03uEZoca9AAANs0lEQVS96deT4zmf+S2BFwq8uX9j+un2h9Nru3ukCBAgQIAAgf8JCPmeBAECBAiECVjZD6MtXdiqfunxuzwBAgQIXCAg5HsiBAgQIBAqYGU/lLdkcav6Jcfu0gQIECDwkgJC/ktC+RkBAgQILBOwsr/MzVfPF7Cq72UQIECAAIEXCwj5XggBAgQIhApY2Q/lLVfcqn65kbswAQIECMwUEPJngvk5AQIECMwXsLI/38wXzxewqu9lECBAgAABf8n3BggQIECgsYCV/cYD2Eh7q/obGaRrECBAgECogL/kh/IqToAAAQJnAlb2vYM1BKzqr6GoBgECBAhsXUDI3/qE3Y8AAQKdCDx++ud0/cF3nZzGMUYU+P3OR9PB7t6IR3dmAgQIECCQJiDkp1FrRIAAgdoCVvZrz/+yt7eqf1lB3xMgQIBAFQEhv8qk3ZMAAQKNBazsNx7A4O2t6g8+QMcnQIAAgTQBIT+NWiMCBAgQsLLvDSwVsKq/VM53BAgQIFBNQMivNnH3JUCAQEMBK/sN8QdubVV/4OE5OgECBAikCwj56eQaEiBAoK6Alf26s7/Mza3qX0bPtwQIECBQTUDIrzZx9yVAgEBjASv7jQcwYHur+gMOzZEJECBAoJmAkN+MXmMCBAjUFLCyX3PuS29tVX+pnO8IECBAoKqAkF918u5NgACBRgJnK/tfHj2cPnt0v9EJtB1J4Otb70yfXHtj2rlydaRjOysBAgQIEGgmIOQ3o9eYAAECdQWs7Ned/dybW9WfK+b3BAgQIFBdQMiv/gLcnwABAg0ErOw3QB+wpVX9AYfmyAQIECDQXEDIbz4CByBAgEA9ASv79Wa+5MZW9Zeo+YYAAQIEqgsI+dVfgPsTIECgkYCV/UbwA7W1qj/QsByVAAECBLoREPK7GYWDECBAoJaAlf1a8557W6v6c8X8ngABAgQI/Csg5HsJBAgQINBEwMp+E/ZhmlrVH2ZUDkqAAAECnQkI+Z0NxHEIECBQScDKfqVpz7urVf15Xn5NgAABAgTOBYR8b4EAAQIEmgmcrey/f3hv+uXkuNkZNO5P4K39m9OPt+9OB7t7/R3OiQgQIECAQOcCQn7nA3I8AgQIbFnAyv6Wp7v8blb1l9v5kgABAgQICPneAAECBAg0FbCy35S/y+ZW9bsci0MRIECAwCACQv4gg3JMAgQIbFXAyv5WJ7vsXlb1l7n5igABAgQInAsI+d4CAQIECDQVsLLflL+75lb1uxuJAxEgQIDAYAJC/mADc1wCBAhsUcDK/hanuuxOVvWXufmKAAECBAj4S743QIAAAQLdCFjZ72YUTQ9iVb8pv+YECBAgsBEBf8nfyCBdgwABAiMLWNkfeXrrnd2q/nqWKhEgQIBAXQEhv+7s3ZwAAQJdCTx++td0/cG3XZ3JYXIFrOrneutGgAABAtsUEPK3OVe3IkCAwHACVvaHG9mqB7aqvyqnYgQIECBQWEDILzx8VydAgEBPAlb2e5pG/lms6ueb60iAAAEC2xQQ8rc5V7ciQIDAkAJW9occ2yqHtqq/CqMiBAgQIEBgEvI9AgIECBDoRsDKfjejSD2IVf1Ubs0IECBAYOMCQv7GB+x6BAgQGEnAyv5I01rvrFb117NUiQABAgQICPneAAECBAh0JWBlv6txpBzGqn4KsyYECBAgUERAyC8yaNckQIDAKAJW9keZ1DrntKq/jqMqBAgQIEDgXEDI9xYIECBAoCuBs5X9r44eTp8+ut/VuRwmRuCbW+9OH197fdq5cjWmgaoECBAgQKCYgJBfbOCuS4AAgREErOyPMKV1zmhVfx1HVQgQIECAwLmAkO8tECBAgEB3Alb2uxtJyIGs6oewKkqAAAECxQWE/OIPwPUJECDQo4CV/R6nsv6ZrOqvb6oiAQIECBAQ8r0BAgQIEOhSwMp+l2NZ9VBW9VflVIwAAQIECPwjIOR7CAQIECDQpYCV/S7HstqhrOqvRqkQAQIECBD4j4CQ70EQIECAQJcCVva7HMtqh7KqvxqlQgQIECBAQMj3BggQIEBgDAEr+2PMackpreovUfMNAQIECBC4WMBf8i828gsCBAgQaCTw5Nnp9MHh99PPJ0eNTqBthMDb+zenH27fnQ529yLKq0mAAAECBEoLCPmlx+/yBAgQ6FvAyn7f81l6Oqv6S+V8R4AAAQIELhYQ8i828gsCBAgQaChgZb8hflBrq/pBsMoSIECAAAH/Xd8bIECAAIHeBazs9z6heeezqj/Py68JECBAgMBcAX/Jnyvm9wQIECCQKmBlP5U7vJlV/XBiDQgQIECguICQX/wBuD4BAgRGEHjy9HT64vi3EY7qjBcIfH7jzvTqziucCBAgQIAAgSABIT8IVlkCBAgQIECAAAECBAgQIJAtIORni+tHgAABAgQIECBAgAABAgSCBIT8IFhlCRAgQIAAAQIECBAgQIBAtoCQny2uHwECBAgQIECAAAECBAgQCBIQ8oNglSVAgAABAgQIECBAgAABAtkCQn62uH4ECBAgQIAAAQIECBAgQCBIQMgPglWWAAECBAgQIECAAAECBAhkCwj52eL6ESBAgAABAgQIECBAgACBIAEhPwhWWQIECBAgQIAAAQIECBAgkC0g5GeL60eAAAECBAgQIECAAAECBIIEhPwgWGUJECBAgAABAgQIECBAgEC2gJCfLa4fAQIECBAgQIAAAQIECBAIEhDyg2CVJUCAAAECBAgQIECAAAEC2QJCfra4fgQIECBAgAABAgQIECBAIEhAyA+CVZYAAQIECBAgQIAAAQIECGQLCPnZ4voRIECAAAECBAgQIECAAIEgASE/CFZZAgQIECBAgAABAgQIECCQLSDkZ4vrR4AAAQIECBAgQIAAAQIEggSE/CBYZQkQIECAAAECBAgQIECAQLaAkJ8trh8BAgQIECBAgAABAgQIEAgSEPKDYJUlQIAAAQIECBAgQIAAAQLZAkJ+trh+BAgQIECAAAECBAgQIEAgSEDID4JVlgABAgQIECBAgAABAgQIZAsI+dni+hEgQIAAAQIECBAgQIAAgSABIT8IVlkCBAgQIECAAAECBAgQIJAtIORni+tHgAABAgQIECBAgAABAgSCBIT8IFhlCRAgQIAAAQIECBAgQIBAtoCQny2uHwECBAgQIECAAAECBAgQCBIQ8oNglSVAgAABAgQIECBAgAABAtkCQn62uH4ECBAgQIAAAQIECBAgQCBIQMgPglWWAAECBAgQIECAAAECBAhkCwj52eL6ESBAgAABAgQIECBAgACBIAEhPwhWWQIECBAgQIAAAQIECBAgkC0g5GeL60eAAAECBAgQIECAAAECBIIEhPwgWGUJECBAgAABAgQIECBAgEC2gJCfLa4fAQIECBAgQIAAAQIECBAIEhDyg2CVJUCAAAECBAgQIECAAAEC2QJCfra4fgQIECBAgAABAgQIECBAIEhAyA+CVZYAAQIECBAgQIAAAQIECGQLCPnZ4voRIECAAAECBAgQIECAAIEgASE/CFZZAgQIECBAgAABAgQIECCQLSDkZ4vrR4AAAQIECBAgQIAAAQIEggSE/CBYZQkQIECAAAECBAgQIECAQLaAkJ8trh8BAgQIECBAgAABAgQIEAgSEPKDYJUlQIAAAQIECBAgQIAAAQLZAkJ+trh+BAgQIECAAAECBAgQIEAgSEDID4JVlgABAgQIECBAgAABAgQIZAsI+dni+hEgQIAAAQIECBAgQIAAgSABIT8IVlkCBAgQIECAAAECBAgQIJAtIORni+tHgAABAgQIECBAgAABAgSCBIT8IFhlCRAgQIAAAQIECBAgQIBAtoCQny2uHwECBAgQIECAAAECBAgQCBIQ8oNglSVAgAABAgQIECBAgAABAtkCQn62uH4ECBAgQIAAAQIECBAgQCBIQMgPglWWAAECBAgQIECAAAECBAhkCwj52eL6ESBAgAABAgQIECBAgACBIAEhPwhWWQIECBAgQIAAAQIECBAgkC0g5GeL60eAAAECBAgQIECAAAECBIIEhPwgWGUJECBAgAABAgQIECBAgEC2gJCfLa4fAQIECBAgQIAAAQIECBAIEhDyg2CVJUCAAAECBAgQIECAAAEC2QJCfra4fgQIECBAgAABAgQIECBAIEhAyA+CVZYAAQIECBAgQIAAAQIECGQLCPnZ4voRIECAAAECBAgQIECAAIEgASE/CFZZAgQIECBAgAABAgQIECCQLSDkZ4vrR4AAAQIECBAgQIAAAQIEggSE/CBYZQkQIECAAAECBAgQIECAQLaAkJ8trh8BAgQIECBAgAABAgQIEAgSEPKDYJUlQIAAAQIECBAgQIAAAQLZAkJ+trh+BAgQIECAAAECBAgQIEAgSEDID4JVlgABAgQIECBAgAABAgQIZAsI+dni+hEgQIAAAQIECBAgQIAAgSABIT8IVlkCBAgQIECAAAECBAgQIJAtIORni+tHgAABAgQIECBAgAABAgSCBIT8IFhlCRAgQIAAAQIECBAgQIBAtoCQny2uHwECBAgQIECAAAECBAgQCBIQ8oNglSVAgAABAgQIECBAgAABAtkCQn62uH4ECBAgQIAAAQIECBAgQCBIQMgPglWWAAECBAgQIECAAAECBAhkCwj52eL6ESBAgAABAgQIECBAgACBIIG/AY2OsV/92C9CAAAAAElFTkSuQmCC)"
      ]
    },
    {
      "cell_type": "code",
      "metadata": {
        "id": "w6G1Qgx172Wr"
      },
      "source": [
        ""
      ],
      "execution_count": null,
      "outputs": []
    }
  ]
}