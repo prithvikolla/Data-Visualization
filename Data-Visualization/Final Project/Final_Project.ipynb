{
  "nbformat": 4,
  "nbformat_minor": 0,
  "metadata": {
    "colab": {
      "name": "Final_Project.ipynb",
      "provenance": [],
      "authorship_tag": "ABX9TyMXEFWoyjEeOqkNuaSvDh6o",
      "include_colab_link": true
    },
    "kernelspec": {
      "name": "python3",
      "display_name": "Python 3"
    }
  },
  "cells": [
    {
      "cell_type": "markdown",
      "metadata": {
        "id": "view-in-github",
        "colab_type": "text"
      },
      "source": [
        "<a href=\"https://colab.research.google.com/github/prithvikolla/Data-Visualization/blob/main/Data-Visualization/Final%20Project/Final_Project.ipynb\" target=\"_parent\"><img src=\"https://colab.research.google.com/assets/colab-badge.svg\" alt=\"Open In Colab\"/></a>"
      ]
    },
    {
      "cell_type": "markdown",
      "metadata": {
        "id": "txHakdoEKUih"
      },
      "source": [
        "Problem Statements:\n",
        "1. is Trump liked more or Biden?\n",
        "2. Trump vs Biden Tweet count in India?\n",
        "3. Trump or Biden, who has more positive tweets?"
      ]
    },
    {
      "cell_type": "code",
      "metadata": {
        "id": "dGHBXhRTzNX4"
      },
      "source": [
        "#Twitter 2020 US Election data\n",
        "import pandas as pd\n",
        "import tensorflow as tf\n",
        "import numpy as np\n",
        "import matplotlib.pyplot as plt\n"
      ],
      "execution_count": 1,
      "outputs": []
    },
    {
      "cell_type": "code",
      "metadata": {
        "id": "DYZz3Z1S8Db_"
      },
      "source": [
        "df_Trump = pd.read_csv('/content/hashtag_donaldtrump.csv',lineterminator='\\n')\n",
        "df_Biden = pd.read_csv('/content/hashtag_joebiden.csv',lineterminator='\\n')"
      ],
      "execution_count": 2,
      "outputs": []
    },
    {
      "cell_type": "code",
      "metadata": {
        "colab": {
          "base_uri": "https://localhost:8080/",
          "height": 462
        },
        "id": "lkW-_xLv8UGY",
        "outputId": "bd47be49-1448-4866-ad05-e8e2e28a0063"
      },
      "source": [
        "df_Trump.head()"
      ],
      "execution_count": 3,
      "outputs": [
        {
          "output_type": "execute_result",
          "data": {
            "text/html": [
              "<div>\n",
              "<style scoped>\n",
              "    .dataframe tbody tr th:only-of-type {\n",
              "        vertical-align: middle;\n",
              "    }\n",
              "\n",
              "    .dataframe tbody tr th {\n",
              "        vertical-align: top;\n",
              "    }\n",
              "\n",
              "    .dataframe thead th {\n",
              "        text-align: right;\n",
              "    }\n",
              "</style>\n",
              "<table border=\"1\" class=\"dataframe\">\n",
              "  <thead>\n",
              "    <tr style=\"text-align: right;\">\n",
              "      <th></th>\n",
              "      <th>created_at</th>\n",
              "      <th>tweet_id</th>\n",
              "      <th>tweet</th>\n",
              "      <th>likes</th>\n",
              "      <th>retweet_count</th>\n",
              "      <th>source</th>\n",
              "      <th>user_id</th>\n",
              "      <th>user_name</th>\n",
              "      <th>user_screen_name</th>\n",
              "      <th>user_description</th>\n",
              "      <th>user_join_date</th>\n",
              "      <th>user_followers_count</th>\n",
              "      <th>user_location</th>\n",
              "      <th>lat</th>\n",
              "      <th>long</th>\n",
              "      <th>city</th>\n",
              "      <th>country</th>\n",
              "      <th>continent</th>\n",
              "      <th>state</th>\n",
              "      <th>state_code</th>\n",
              "      <th>collected_at</th>\n",
              "    </tr>\n",
              "  </thead>\n",
              "  <tbody>\n",
              "    <tr>\n",
              "      <th>0</th>\n",
              "      <td>2020-10-15 00:00:01</td>\n",
              "      <td>1.316529e+18</td>\n",
              "      <td>#Elecciones2020 | En #Florida: #JoeBiden dice ...</td>\n",
              "      <td>0.0</td>\n",
              "      <td>0.0</td>\n",
              "      <td>TweetDeck</td>\n",
              "      <td>3.606665e+08</td>\n",
              "      <td>El Sol Latino News</td>\n",
              "      <td>elsollatinonews</td>\n",
              "      <td>🌐 Noticias de interés para latinos de la costa...</td>\n",
              "      <td>2011-08-23 15:33:45</td>\n",
              "      <td>1860.0</td>\n",
              "      <td>Philadelphia, PA / Miami, FL</td>\n",
              "      <td>25.774270</td>\n",
              "      <td>-80.193660</td>\n",
              "      <td>NaN</td>\n",
              "      <td>United States of America</td>\n",
              "      <td>North America</td>\n",
              "      <td>Florida</td>\n",
              "      <td>FL</td>\n",
              "      <td>2020-10-21 00:00:00</td>\n",
              "    </tr>\n",
              "    <tr>\n",
              "      <th>1</th>\n",
              "      <td>2020-10-15 00:00:01</td>\n",
              "      <td>1.316529e+18</td>\n",
              "      <td>Usa 2020, Trump contro Facebook e Twitter: cop...</td>\n",
              "      <td>26.0</td>\n",
              "      <td>9.0</td>\n",
              "      <td>Social Mediaset</td>\n",
              "      <td>3.316176e+08</td>\n",
              "      <td>Tgcom24</td>\n",
              "      <td>MediasetTgcom24</td>\n",
              "      <td>Profilo ufficiale di Tgcom24: tutte le notizie...</td>\n",
              "      <td>2011-07-08 13:12:20</td>\n",
              "      <td>1067661.0</td>\n",
              "      <td>NaN</td>\n",
              "      <td>NaN</td>\n",
              "      <td>NaN</td>\n",
              "      <td>NaN</td>\n",
              "      <td>NaN</td>\n",
              "      <td>NaN</td>\n",
              "      <td>NaN</td>\n",
              "      <td>NaN</td>\n",
              "      <td>2020-10-21 00:00:00.373216530</td>\n",
              "    </tr>\n",
              "    <tr>\n",
              "      <th>2</th>\n",
              "      <td>2020-10-15 00:00:02</td>\n",
              "      <td>1.316529e+18</td>\n",
              "      <td>#Trump: As a student I used to hear for years,...</td>\n",
              "      <td>2.0</td>\n",
              "      <td>1.0</td>\n",
              "      <td>Twitter Web App</td>\n",
              "      <td>8.436472e+06</td>\n",
              "      <td>snarke</td>\n",
              "      <td>snarke</td>\n",
              "      <td>Will mock for food! Freelance writer, blogger,...</td>\n",
              "      <td>2007-08-26 05:56:11</td>\n",
              "      <td>1185.0</td>\n",
              "      <td>Portland</td>\n",
              "      <td>45.520247</td>\n",
              "      <td>-122.674195</td>\n",
              "      <td>Portland</td>\n",
              "      <td>United States of America</td>\n",
              "      <td>North America</td>\n",
              "      <td>Oregon</td>\n",
              "      <td>OR</td>\n",
              "      <td>2020-10-21 00:00:00.746433060</td>\n",
              "    </tr>\n",
              "    <tr>\n",
              "      <th>3</th>\n",
              "      <td>2020-10-15 00:00:02</td>\n",
              "      <td>1.316529e+18</td>\n",
              "      <td>2 hours since last tweet from #Trump! Maybe he...</td>\n",
              "      <td>0.0</td>\n",
              "      <td>0.0</td>\n",
              "      <td>Trumpytweeter</td>\n",
              "      <td>8.283556e+17</td>\n",
              "      <td>Trumpytweeter</td>\n",
              "      <td>trumpytweeter</td>\n",
              "      <td>If he doesn't tweet for some time, should we b...</td>\n",
              "      <td>2017-02-05 21:32:17</td>\n",
              "      <td>32.0</td>\n",
              "      <td>NaN</td>\n",
              "      <td>NaN</td>\n",
              "      <td>NaN</td>\n",
              "      <td>NaN</td>\n",
              "      <td>NaN</td>\n",
              "      <td>NaN</td>\n",
              "      <td>NaN</td>\n",
              "      <td>NaN</td>\n",
              "      <td>2020-10-21 00:00:01.119649591</td>\n",
              "    </tr>\n",
              "    <tr>\n",
              "      <th>4</th>\n",
              "      <td>2020-10-15 00:00:08</td>\n",
              "      <td>1.316529e+18</td>\n",
              "      <td>You get a tie! And you get a tie! #Trump ‘s ra...</td>\n",
              "      <td>4.0</td>\n",
              "      <td>3.0</td>\n",
              "      <td>Twitter for iPhone</td>\n",
              "      <td>4.741380e+07</td>\n",
              "      <td>Rana Abtar - رنا أبتر</td>\n",
              "      <td>Ranaabtar</td>\n",
              "      <td>Washington Correspondent, Lebanese-American ,c...</td>\n",
              "      <td>2009-06-15 19:05:35</td>\n",
              "      <td>5393.0</td>\n",
              "      <td>Washington DC</td>\n",
              "      <td>38.894992</td>\n",
              "      <td>-77.036558</td>\n",
              "      <td>Washington</td>\n",
              "      <td>United States of America</td>\n",
              "      <td>North America</td>\n",
              "      <td>District of Columbia</td>\n",
              "      <td>DC</td>\n",
              "      <td>2020-10-21 00:00:01.492866121</td>\n",
              "    </tr>\n",
              "  </tbody>\n",
              "</table>\n",
              "</div>"
            ],
            "text/plain": [
              "            created_at      tweet_id  ... state_code                   collected_at\n",
              "0  2020-10-15 00:00:01  1.316529e+18  ...         FL            2020-10-21 00:00:00\n",
              "1  2020-10-15 00:00:01  1.316529e+18  ...        NaN  2020-10-21 00:00:00.373216530\n",
              "2  2020-10-15 00:00:02  1.316529e+18  ...         OR  2020-10-21 00:00:00.746433060\n",
              "3  2020-10-15 00:00:02  1.316529e+18  ...        NaN  2020-10-21 00:00:01.119649591\n",
              "4  2020-10-15 00:00:08  1.316529e+18  ...         DC  2020-10-21 00:00:01.492866121\n",
              "\n",
              "[5 rows x 21 columns]"
            ]
          },
          "metadata": {
            "tags": []
          },
          "execution_count": 3
        }
      ]
    },
    {
      "cell_type": "code",
      "metadata": {
        "colab": {
          "base_uri": "https://localhost:8080/",
          "height": 411
        },
        "id": "1yCL288MBSrB",
        "outputId": "8fce345f-f66a-43f4-fa85-3e0c9820d88d"
      },
      "source": [
        "df_Biden.head()"
      ],
      "execution_count": 4,
      "outputs": [
        {
          "output_type": "execute_result",
          "data": {
            "text/html": [
              "<div>\n",
              "<style scoped>\n",
              "    .dataframe tbody tr th:only-of-type {\n",
              "        vertical-align: middle;\n",
              "    }\n",
              "\n",
              "    .dataframe tbody tr th {\n",
              "        vertical-align: top;\n",
              "    }\n",
              "\n",
              "    .dataframe thead th {\n",
              "        text-align: right;\n",
              "    }\n",
              "</style>\n",
              "<table border=\"1\" class=\"dataframe\">\n",
              "  <thead>\n",
              "    <tr style=\"text-align: right;\">\n",
              "      <th></th>\n",
              "      <th>created_at</th>\n",
              "      <th>tweet_id</th>\n",
              "      <th>tweet</th>\n",
              "      <th>likes</th>\n",
              "      <th>retweet_count</th>\n",
              "      <th>source</th>\n",
              "      <th>user_id</th>\n",
              "      <th>user_name</th>\n",
              "      <th>user_screen_name</th>\n",
              "      <th>user_description</th>\n",
              "      <th>user_join_date</th>\n",
              "      <th>user_followers_count</th>\n",
              "      <th>user_location</th>\n",
              "      <th>lat</th>\n",
              "      <th>long</th>\n",
              "      <th>city</th>\n",
              "      <th>country</th>\n",
              "      <th>continent</th>\n",
              "      <th>state</th>\n",
              "      <th>state_code</th>\n",
              "      <th>collected_at</th>\n",
              "    </tr>\n",
              "  </thead>\n",
              "  <tbody>\n",
              "    <tr>\n",
              "      <th>0</th>\n",
              "      <td>2020-10-15 00:00:01</td>\n",
              "      <td>1.316529e+18</td>\n",
              "      <td>#Elecciones2020 | En #Florida: #JoeBiden dice ...</td>\n",
              "      <td>0.0</td>\n",
              "      <td>0.0</td>\n",
              "      <td>TweetDeck</td>\n",
              "      <td>3.606665e+08</td>\n",
              "      <td>El Sol Latino News</td>\n",
              "      <td>elsollatinonews</td>\n",
              "      <td>🌐 Noticias de interés para latinos de la costa...</td>\n",
              "      <td>2011-08-23 15:33:45</td>\n",
              "      <td>1860.0</td>\n",
              "      <td>Philadelphia, PA / Miami, FL</td>\n",
              "      <td>25.774270</td>\n",
              "      <td>-80.193660</td>\n",
              "      <td>NaN</td>\n",
              "      <td>United States of America</td>\n",
              "      <td>North America</td>\n",
              "      <td>Florida</td>\n",
              "      <td>FL</td>\n",
              "      <td>2020-10-21 00:00:00</td>\n",
              "    </tr>\n",
              "    <tr>\n",
              "      <th>1</th>\n",
              "      <td>2020-10-15 00:00:18</td>\n",
              "      <td>1.316529e+18</td>\n",
              "      <td>#HunterBiden #HunterBidenEmails #JoeBiden #Joe...</td>\n",
              "      <td>0.0</td>\n",
              "      <td>0.0</td>\n",
              "      <td>Twitter for iPad</td>\n",
              "      <td>8.099044e+08</td>\n",
              "      <td>Cheri A. 🇺🇸</td>\n",
              "      <td>Biloximeemaw</td>\n",
              "      <td>Locked and loaded Meemaw. Love God, my family ...</td>\n",
              "      <td>2012-09-08 01:03:57</td>\n",
              "      <td>6628.0</td>\n",
              "      <td>NaN</td>\n",
              "      <td>NaN</td>\n",
              "      <td>NaN</td>\n",
              "      <td>NaN</td>\n",
              "      <td>NaN</td>\n",
              "      <td>NaN</td>\n",
              "      <td>NaN</td>\n",
              "      <td>NaN</td>\n",
              "      <td>2020-10-21 00:00:00.517827283</td>\n",
              "    </tr>\n",
              "    <tr>\n",
              "      <th>2</th>\n",
              "      <td>2020-10-15 00:00:20</td>\n",
              "      <td>1.316529e+18</td>\n",
              "      <td>@IslandGirlPRV @BradBeauregardJ @MeidasTouch T...</td>\n",
              "      <td>0.0</td>\n",
              "      <td>0.0</td>\n",
              "      <td>Twitter Web App</td>\n",
              "      <td>3.494182e+09</td>\n",
              "      <td>Flag Waver</td>\n",
              "      <td>Flag_Wavers</td>\n",
              "      <td>NaN</td>\n",
              "      <td>2015-08-30 19:38:21</td>\n",
              "      <td>1536.0</td>\n",
              "      <td>Golden Valley Arizona</td>\n",
              "      <td>46.304036</td>\n",
              "      <td>-109.171431</td>\n",
              "      <td>NaN</td>\n",
              "      <td>United States of America</td>\n",
              "      <td>North America</td>\n",
              "      <td>Montana</td>\n",
              "      <td>MT</td>\n",
              "      <td>2020-10-21 00:00:01.035654566</td>\n",
              "    </tr>\n",
              "    <tr>\n",
              "      <th>3</th>\n",
              "      <td>2020-10-15 00:00:21</td>\n",
              "      <td>1.316529e+18</td>\n",
              "      <td>@chrislongview Watching and setting dvr. Let’s...</td>\n",
              "      <td>0.0</td>\n",
              "      <td>0.0</td>\n",
              "      <td>Twitter for iPhone</td>\n",
              "      <td>8.242596e+17</td>\n",
              "      <td>Michelle Ferg</td>\n",
              "      <td>MichelleFerg4</td>\n",
              "      <td>NaN</td>\n",
              "      <td>2017-01-25 14:16:17</td>\n",
              "      <td>27.0</td>\n",
              "      <td>NaN</td>\n",
              "      <td>NaN</td>\n",
              "      <td>NaN</td>\n",
              "      <td>NaN</td>\n",
              "      <td>NaN</td>\n",
              "      <td>NaN</td>\n",
              "      <td>NaN</td>\n",
              "      <td>NaN</td>\n",
              "      <td>2020-10-21 00:00:01.553481849</td>\n",
              "    </tr>\n",
              "    <tr>\n",
              "      <th>4</th>\n",
              "      <td>2020-10-15 00:00:22</td>\n",
              "      <td>1.316529e+18</td>\n",
              "      <td>#censorship #HunterBiden #Biden #BidenEmails #...</td>\n",
              "      <td>1.0</td>\n",
              "      <td>0.0</td>\n",
              "      <td>Twitter Web App</td>\n",
              "      <td>1.032807e+18</td>\n",
              "      <td>the Gold State</td>\n",
              "      <td>theegoldstate</td>\n",
              "      <td>A Silicon Valley #independent #News #Media #St...</td>\n",
              "      <td>2018-08-24 01:49:01</td>\n",
              "      <td>390.0</td>\n",
              "      <td>California, USA</td>\n",
              "      <td>36.701463</td>\n",
              "      <td>-118.755997</td>\n",
              "      <td>NaN</td>\n",
              "      <td>United States of America</td>\n",
              "      <td>North America</td>\n",
              "      <td>California</td>\n",
              "      <td>CA</td>\n",
              "      <td>2020-10-21 00:00:02.071309132</td>\n",
              "    </tr>\n",
              "  </tbody>\n",
              "</table>\n",
              "</div>"
            ],
            "text/plain": [
              "            created_at      tweet_id  ... state_code                   collected_at\n",
              "0  2020-10-15 00:00:01  1.316529e+18  ...         FL            2020-10-21 00:00:00\n",
              "1  2020-10-15 00:00:18  1.316529e+18  ...        NaN  2020-10-21 00:00:00.517827283\n",
              "2  2020-10-15 00:00:20  1.316529e+18  ...         MT  2020-10-21 00:00:01.035654566\n",
              "3  2020-10-15 00:00:21  1.316529e+18  ...        NaN  2020-10-21 00:00:01.553481849\n",
              "4  2020-10-15 00:00:22  1.316529e+18  ...         CA  2020-10-21 00:00:02.071309132\n",
              "\n",
              "[5 rows x 21 columns]"
            ]
          },
          "metadata": {
            "tags": []
          },
          "execution_count": 4
        }
      ]
    },
    {
      "cell_type": "code",
      "metadata": {
        "id": "EIUYpU8XBVQt"
      },
      "source": [
        "# df_Biden1 = df_Biden[:10000]\n",
        "# df_Biden1.head(2)"
      ],
      "execution_count": 5,
      "outputs": []
    },
    {
      "cell_type": "code",
      "metadata": {
        "id": "xefpz6Z4Bu_T"
      },
      "source": [
        "# df_Trump1 = df_Trump[:10000]\n",
        "# df_Trump1.head(2)"
      ],
      "execution_count": 6,
      "outputs": []
    },
    {
      "cell_type": "code",
      "metadata": {
        "id": "TP9bpKu0IB7r"
      },
      "source": [
        "#Remove the columns not used\n",
        "df_Trump = df_Trump.drop(columns = ['tweet_id','collected_at','user_description','collected_at'])\n",
        "df_Biden = df_Biden.drop(columns = ['tweet_id','collected_at','user_description','collected_at'])"
      ],
      "execution_count": 7,
      "outputs": []
    },
    {
      "cell_type": "code",
      "metadata": {
        "id": "uDD8xiE_GN0C"
      },
      "source": [
        "df_Trump.loc[:,'condidat'] = 'Trump'\n",
        "df_Biden.loc[:,'condidat'] = 'Biden'"
      ],
      "execution_count": 8,
      "outputs": []
    },
    {
      "cell_type": "code",
      "metadata": {
        "colab": {
          "base_uri": "https://localhost:8080/",
          "height": 462
        },
        "id": "2YudKlCYJMiu",
        "outputId": "6cb4e04d-5e67-452d-f9c6-7d3f68fc1087"
      },
      "source": [
        "df_Mix = pd.concat([df_Trump,df_Biden])\n",
        "df_Mix.sort_values(by='created_at')\n",
        "df_Mix.head()"
      ],
      "execution_count": 9,
      "outputs": [
        {
          "output_type": "execute_result",
          "data": {
            "text/html": [
              "<div>\n",
              "<style scoped>\n",
              "    .dataframe tbody tr th:only-of-type {\n",
              "        vertical-align: middle;\n",
              "    }\n",
              "\n",
              "    .dataframe tbody tr th {\n",
              "        vertical-align: top;\n",
              "    }\n",
              "\n",
              "    .dataframe thead th {\n",
              "        text-align: right;\n",
              "    }\n",
              "</style>\n",
              "<table border=\"1\" class=\"dataframe\">\n",
              "  <thead>\n",
              "    <tr style=\"text-align: right;\">\n",
              "      <th></th>\n",
              "      <th>created_at</th>\n",
              "      <th>tweet</th>\n",
              "      <th>likes</th>\n",
              "      <th>retweet_count</th>\n",
              "      <th>source</th>\n",
              "      <th>user_id</th>\n",
              "      <th>user_name</th>\n",
              "      <th>user_screen_name</th>\n",
              "      <th>user_join_date</th>\n",
              "      <th>user_followers_count</th>\n",
              "      <th>user_location</th>\n",
              "      <th>lat</th>\n",
              "      <th>long</th>\n",
              "      <th>city</th>\n",
              "      <th>country</th>\n",
              "      <th>continent</th>\n",
              "      <th>state</th>\n",
              "      <th>state_code</th>\n",
              "      <th>condidat</th>\n",
              "    </tr>\n",
              "  </thead>\n",
              "  <tbody>\n",
              "    <tr>\n",
              "      <th>0</th>\n",
              "      <td>2020-10-15 00:00:01</td>\n",
              "      <td>#Elecciones2020 | En #Florida: #JoeBiden dice ...</td>\n",
              "      <td>0.0</td>\n",
              "      <td>0.0</td>\n",
              "      <td>TweetDeck</td>\n",
              "      <td>3.606665e+08</td>\n",
              "      <td>El Sol Latino News</td>\n",
              "      <td>elsollatinonews</td>\n",
              "      <td>2011-08-23 15:33:45</td>\n",
              "      <td>1860.0</td>\n",
              "      <td>Philadelphia, PA / Miami, FL</td>\n",
              "      <td>25.774270</td>\n",
              "      <td>-80.193660</td>\n",
              "      <td>NaN</td>\n",
              "      <td>United States of America</td>\n",
              "      <td>North America</td>\n",
              "      <td>Florida</td>\n",
              "      <td>FL</td>\n",
              "      <td>Trump</td>\n",
              "    </tr>\n",
              "    <tr>\n",
              "      <th>1</th>\n",
              "      <td>2020-10-15 00:00:01</td>\n",
              "      <td>Usa 2020, Trump contro Facebook e Twitter: cop...</td>\n",
              "      <td>26.0</td>\n",
              "      <td>9.0</td>\n",
              "      <td>Social Mediaset</td>\n",
              "      <td>3.316176e+08</td>\n",
              "      <td>Tgcom24</td>\n",
              "      <td>MediasetTgcom24</td>\n",
              "      <td>2011-07-08 13:12:20</td>\n",
              "      <td>1067661.0</td>\n",
              "      <td>NaN</td>\n",
              "      <td>NaN</td>\n",
              "      <td>NaN</td>\n",
              "      <td>NaN</td>\n",
              "      <td>NaN</td>\n",
              "      <td>NaN</td>\n",
              "      <td>NaN</td>\n",
              "      <td>NaN</td>\n",
              "      <td>Trump</td>\n",
              "    </tr>\n",
              "    <tr>\n",
              "      <th>2</th>\n",
              "      <td>2020-10-15 00:00:02</td>\n",
              "      <td>#Trump: As a student I used to hear for years,...</td>\n",
              "      <td>2.0</td>\n",
              "      <td>1.0</td>\n",
              "      <td>Twitter Web App</td>\n",
              "      <td>8.436472e+06</td>\n",
              "      <td>snarke</td>\n",
              "      <td>snarke</td>\n",
              "      <td>2007-08-26 05:56:11</td>\n",
              "      <td>1185.0</td>\n",
              "      <td>Portland</td>\n",
              "      <td>45.520247</td>\n",
              "      <td>-122.674195</td>\n",
              "      <td>Portland</td>\n",
              "      <td>United States of America</td>\n",
              "      <td>North America</td>\n",
              "      <td>Oregon</td>\n",
              "      <td>OR</td>\n",
              "      <td>Trump</td>\n",
              "    </tr>\n",
              "    <tr>\n",
              "      <th>3</th>\n",
              "      <td>2020-10-15 00:00:02</td>\n",
              "      <td>2 hours since last tweet from #Trump! Maybe he...</td>\n",
              "      <td>0.0</td>\n",
              "      <td>0.0</td>\n",
              "      <td>Trumpytweeter</td>\n",
              "      <td>8.283556e+17</td>\n",
              "      <td>Trumpytweeter</td>\n",
              "      <td>trumpytweeter</td>\n",
              "      <td>2017-02-05 21:32:17</td>\n",
              "      <td>32.0</td>\n",
              "      <td>NaN</td>\n",
              "      <td>NaN</td>\n",
              "      <td>NaN</td>\n",
              "      <td>NaN</td>\n",
              "      <td>NaN</td>\n",
              "      <td>NaN</td>\n",
              "      <td>NaN</td>\n",
              "      <td>NaN</td>\n",
              "      <td>Trump</td>\n",
              "    </tr>\n",
              "    <tr>\n",
              "      <th>4</th>\n",
              "      <td>2020-10-15 00:00:08</td>\n",
              "      <td>You get a tie! And you get a tie! #Trump ‘s ra...</td>\n",
              "      <td>4.0</td>\n",
              "      <td>3.0</td>\n",
              "      <td>Twitter for iPhone</td>\n",
              "      <td>4.741380e+07</td>\n",
              "      <td>Rana Abtar - رنا أبتر</td>\n",
              "      <td>Ranaabtar</td>\n",
              "      <td>2009-06-15 19:05:35</td>\n",
              "      <td>5393.0</td>\n",
              "      <td>Washington DC</td>\n",
              "      <td>38.894992</td>\n",
              "      <td>-77.036558</td>\n",
              "      <td>Washington</td>\n",
              "      <td>United States of America</td>\n",
              "      <td>North America</td>\n",
              "      <td>District of Columbia</td>\n",
              "      <td>DC</td>\n",
              "      <td>Trump</td>\n",
              "    </tr>\n",
              "  </tbody>\n",
              "</table>\n",
              "</div>"
            ],
            "text/plain": [
              "            created_at  ... condidat\n",
              "0  2020-10-15 00:00:01  ...    Trump\n",
              "1  2020-10-15 00:00:01  ...    Trump\n",
              "2  2020-10-15 00:00:02  ...    Trump\n",
              "3  2020-10-15 00:00:02  ...    Trump\n",
              "4  2020-10-15 00:00:08  ...    Trump\n",
              "\n",
              "[5 rows x 19 columns]"
            ]
          },
          "metadata": {
            "tags": []
          },
          "execution_count": 9
        }
      ]
    },
    {
      "cell_type": "code",
      "metadata": {
        "colab": {
          "base_uri": "https://localhost:8080/",
          "height": 281
        },
        "id": "pVO1GZ5wJbiS",
        "outputId": "4edce725-7c23-4947-ba40-26854e548373"
      },
      "source": [
        "Trump_tweets = df_Mix.query('(condidat == \"Trump\")').tweet.sort_values(ascending=False).count()\n",
        "Biden_tweets = df_Mix.query('(condidat == \"Biden\")').tweet.sort_values(ascending=False).count()\n",
        "\n",
        "objects = ('Donald Trump','Joe Biden')\n",
        "y_pos = np.arange(len(objects))\n",
        "performance = [Trump_tweets,Biden_tweets]\n",
        "\n",
        "plt.bar(y_pos, performance, align='center', alpha=0.5)\n",
        "plt.xticks(y_pos, objects)\n",
        "plt.ylabel('Number of tweets')\n",
        "plt.title('Donald vs Biden')\n",
        "\n",
        "plt.show()"
      ],
      "execution_count": 10,
      "outputs": [
        {
          "output_type": "display_data",
          "data": {
            "image/png": "[encoded data removed]",
            "text/plain": [
              "<Figure size 432x288 with 1 Axes>"
            ]
          },
          "metadata": {
            "tags": [],
            "needs_background": "light"
          }
        }
      ]
    },
    {
      "cell_type": "markdown",
      "metadata": {
        "id": "r16aJH_Rnpuf"
      },
      "source": [
        "less number of tweets for Trump compared to Joe biden.\n"
      ]
    },
    {
      "cell_type": "code",
      "metadata": {
        "colab": {
          "base_uri": "https://localhost:8080/",
          "height": 281
        },
        "id": "TUqLoe5zmo7O",
        "outputId": "a6d8df66-0158-46e5-be13-2ac113a6d092"
      },
      "source": [
        "Trump_tweets = df_Mix.query('(condidat == \"Trump\")').likes.count()\n",
        "Biden_tweets = df_Mix.query('(condidat == \"Biden\")').likes.count()\n",
        "\n",
        "objects = ('Donald Trump','Joe Biden')\n",
        "y_pos = np.arange(len(objects))\n",
        "performance = [Trump_tweets,Biden_tweets]\n",
        "\n",
        "plt.bar(y_pos, performance, align='center', alpha = 0.5)\n",
        "plt.xticks(y_pos, objects)\n",
        "plt.ylabel('Number of Likes')\n",
        "plt.title('Donald vs Biden')\n",
        "\n",
        "plt.show()"
      ],
      "execution_count": 11,
      "outputs": [
        {
          "output_type": "display_data",
          "data": {
            "image/png": "[encoded data removed]",
            "text/plain": [
              "<Figure size 432x288 with 1 Axes>"
            ]
          },
          "metadata": {
            "tags": [],
            "needs_background": "light"
          }
        }
      ]
    },
    {
      "cell_type": "code",
      "metadata": {
        "colab": {
          "base_uri": "https://localhost:8080/",
          "height": 264
        },
        "id": "cxudMYveoCSf",
        "outputId": "790db5df-5eb8-4a8a-e362-40bc61e4292e"
      },
      "source": [
        "def Country_tweets(country,kind):\n",
        "    Data=df_Mix[df_Mix.country == country].groupby('condidat').tweet.count()\n",
        "    Data.plot(x = 'condidate',y = \"tweet\",kind = kind, title=\"tweets count in country \" + str(country))\n",
        "    \n",
        "Country_tweets('India','pie')"
      ],
      "execution_count": 12,
      "outputs": [
        {
          "output_type": "display_data",
          "data": {
            "image/png": "[encoded data removed]",
            "text/plain": [
              "<Figure size 432x288 with 1 Axes>"
            ]
          },
          "metadata": {
            "tags": []
          }
        }
      ]
    },
    {
      "cell_type": "code",
      "metadata": {
        "id": "bKfoG_IvoSGC"
      },
      "source": [
        "def clean(text):\n",
        "    '''Make text lowercase, remove text in square brackets,remove links,remove punctuation\n",
        "    and remove words containing numbers.'''\n",
        "    text = str(text).lower()\n",
        "    text = re.sub('\\[.*?\\]', '', text)\n",
        "    text = re.sub('https?://\\S+|www\\.\\S+', '', text)\n",
        "    text = re.sub('<.*?>+', '', text)\n",
        "    text = re.sub('\\n', '', text)\n",
        "    text = re.sub('\\w*\\d\\w*', '', text)\n",
        "    text=re.sub(r'@[A-Za-z0-9]+','',text)\n",
        "    text=re.sub(r'#','',text)\n",
        "    text=re.sub(r'RT[\\s]+','',text)\n",
        "    text=re.sub(r'[^\\w]', ' ', text)\n",
        "    return text\n",
        "    "
      ],
      "execution_count": 13,
      "outputs": []
    },
    {
      "cell_type": "code",
      "metadata": {
        "id": "eVVIsdeC67CW"
      },
      "source": [
        "# create fuction to get the subjectivity and polarity\n",
        "def getSubjectivity(text):\n",
        "    return TextBlob(text).sentiment.subjectivity\n",
        "\n",
        "def getPolarity(text):\n",
        "    return TextBlob(text).sentiment.polarity\n",
        "\n",
        "def getAnalysis(score):\n",
        "    if score < 0:\n",
        "        return 'negative'\n",
        "    elif score==0:\n",
        "        return 'neutral'\n",
        "    else:\n",
        "        return 'positive'"
      ],
      "execution_count": 14,
      "outputs": []
    },
    {
      "cell_type": "code",
      "metadata": {
        "colab": {
          "base_uri": "https://localhost:8080/",
          "height": 289
        },
        "id": "gi3pIdiAsHvo",
        "outputId": "ec3c7b83-efd6-4f02-a707-79dba253a90c"
      },
      "source": [
        "import re\n",
        "from nltk.corpus import subjectivity\n",
        "from textblob import TextBlob\n",
        "\n",
        "Trump_Tweets = df_Mix.query('(condidat == \"Trump\")').sort_values('user_followers_count',ascending = False).drop_duplicates(['user_name'])[['tweet','country']]\n",
        "Trump_Tweets = Trump_Tweets.dropna().loc[Trump_Tweets.country == 'United States of America'][:1000]\n",
        "\n",
        "\n",
        "Trump_Tweets.reset_index(inplace = True, drop = True)\n",
        "\n",
        "Trump_Tweets['ClearTweet'] = Trump_Tweets['tweet'].apply(clean)\n",
        "\n",
        "Trump_Tweets['subjectivity']= Trump_Tweets['ClearTweet'].apply(getSubjectivity)\n",
        "Trump_Tweets['polarity']    = Trump_Tweets['ClearTweet'].apply(getPolarity)\n",
        "Trump_Tweets['analysis']    = Trump_Tweets['polarity'].apply(getAnalysis)\n",
        "Trump_Tweets.head()\n",
        "\n",
        "\n",
        "Trump_Tweets.head()"
      ],
      "execution_count": 16,
      "outputs": [
        {
          "output_type": "execute_result",
          "data": {
            "text/html": [
              "<div>\n",
              "<style scoped>\n",
              "    .dataframe tbody tr th:only-of-type {\n",
              "        vertical-align: middle;\n",
              "    }\n",
              "\n",
              "    .dataframe tbody tr th {\n",
              "        vertical-align: top;\n",
              "    }\n",
              "\n",
              "    .dataframe thead th {\n",
              "        text-align: right;\n",
              "    }\n",
              "</style>\n",
              "<table border=\"1\" class=\"dataframe\">\n",
              "  <thead>\n",
              "    <tr style=\"text-align: right;\">\n",
              "      <th></th>\n",
              "      <th>tweet</th>\n",
              "      <th>country</th>\n",
              "      <th>ClearTweet</th>\n",
              "      <th>subjectivity</th>\n",
              "      <th>polarity</th>\n",
              "      <th>analysis</th>\n",
              "    </tr>\n",
              "  </thead>\n",
              "  <tbody>\n",
              "    <tr>\n",
              "      <th>0</th>\n",
              "      <td>#DonaldTrump failed to denounce the far-right ...</td>\n",
              "      <td>United States of America</td>\n",
              "      <td>donaldtrump failed to denounce the far right c...</td>\n",
              "      <td>0.611905</td>\n",
              "      <td>-0.038095</td>\n",
              "      <td>negative</td>\n",
              "    </tr>\n",
              "    <tr>\n",
              "      <th>1</th>\n",
              "      <td>📣 Las #noticias del día:\\n\\n➡️ #Trump minimiza...</td>\n",
              "      <td>United States of America</td>\n",
              "      <td>las noticias del día    trump minimiza la pa...</td>\n",
              "      <td>0.000000</td>\n",
              "      <td>0.000000</td>\n",
              "      <td>neutral</td>\n",
              "    </tr>\n",
              "    <tr>\n",
              "      <th>2</th>\n",
              "      <td>Turn out #Trump aides gave #WallStreet a heads...</td>\n",
              "      <td>United States of America</td>\n",
              "      <td>turn out trump aides gave wallstreet a heads u...</td>\n",
              "      <td>0.456667</td>\n",
              "      <td>0.156667</td>\n",
              "      <td>positive</td>\n",
              "    </tr>\n",
              "    <tr>\n",
              "      <th>3</th>\n",
              "      <td>#TheSaraCarterShow: Will @JoeBiden put #Hillar...</td>\n",
              "      <td>United States of America</td>\n",
              "      <td>thesaracartershow  will  put hillaryclinton in...</td>\n",
              "      <td>0.400000</td>\n",
              "      <td>0.800000</td>\n",
              "      <td>positive</td>\n",
              "    </tr>\n",
              "    <tr>\n",
              "      <th>4</th>\n",
              "      <td>We need help from the One ☝️Creator God Almigh...</td>\n",
              "      <td>United States of America</td>\n",
              "      <td>we need help from the one   creator god almigh...</td>\n",
              "      <td>0.000000</td>\n",
              "      <td>0.000000</td>\n",
              "      <td>neutral</td>\n",
              "    </tr>\n",
              "  </tbody>\n",
              "</table>\n",
              "</div>"
            ],
            "text/plain": [
              "                                               tweet  ...  analysis\n",
              "0  #DonaldTrump failed to denounce the far-right ...  ...  negative\n",
              "1  📣 Las #noticias del día:\\n\\n➡️ #Trump minimiza...  ...   neutral\n",
              "2  Turn out #Trump aides gave #WallStreet a heads...  ...  positive\n",
              "3  #TheSaraCarterShow: Will @JoeBiden put #Hillar...  ...  positive\n",
              "4  We need help from the One ☝️Creator God Almigh...  ...   neutral\n",
              "\n",
              "[5 rows x 6 columns]"
            ]
          },
          "metadata": {
            "tags": []
          },
          "execution_count": 16
        }
      ]
    },
    {
      "cell_type": "code",
      "metadata": {
        "colab": {
          "base_uri": "https://localhost:8080/"
        },
        "id": "HBowcKpu6Mod",
        "outputId": "826977b8-a999-423c-e1eb-8638d204a3ca"
      },
      "source": [
        "%%time\n",
        "Trump_Tweets.polarity = Trump_Tweets.polarity.apply(lambda x: getAnalysis(x))"
      ],
      "execution_count": 17,
      "outputs": [
        {
          "output_type": "stream",
          "text": [
            "CPU times: user 2.4 ms, sys: 1e+03 ns, total: 2.4 ms\n",
            "Wall time: 2.31 ms\n"
          ],
          "name": "stdout"
        }
      ]
    },
    {
      "cell_type": "code",
      "metadata": {
        "colab": {
          "base_uri": "https://localhost:8080/",
          "height": 516
        },
        "id": "bqARDyHU-S8C",
        "outputId": "946c3c56-75e3-4b94-9779-879b084bf4f0"
      },
      "source": [
        "from collections import Counter\n",
        "\n",
        "target_cnt = Counter(Trump_Tweets.polarity)\n",
        "\n",
        "plt.figure(figsize=(16,8))\n",
        "plt.bar(target_cnt.keys(), target_cnt.values())\n",
        "plt.title(\"Dataset labels distribuition\")"
      ],
      "execution_count": 18,
      "outputs": [
        {
          "output_type": "execute_result",
          "data": {
            "text/plain": [
              "Text(0.5, 1.0, 'Dataset labels distribuition')"
            ]
          },
          "metadata": {
            "tags": []
          },
          "execution_count": 18
        },
        {
          "output_type": "display_data",
          "data": {
            "image/png": "[encoded data removed]",
            "text/plain": [
              "<Figure size 1152x576 with 1 Axes>"
            ]
          },
          "metadata": {
            "tags": [],
            "needs_background": "light"
          }
        }
      ]
    },
    {
      "cell_type": "code",
      "metadata": {
        "colab": {
          "base_uri": "https://localhost:8080/",
          "height": 542
        },
        "id": "VGoSaV7n-bGE",
        "outputId": "83d1e622-a2f7-44c6-b548-8c7bc2ab65f2"
      },
      "source": [
        "import plotly.graph_objects as go\n",
        "general  = Trump_Tweets.groupby('analysis').analysis.count()\n",
        "neutral  = Trump_Tweets[Trump_Tweets['analysis'] == 'neutral'].ClearTweet.count()\n",
        "positive = Trump_Tweets[Trump_Tweets['analysis'] == 'positive'].ClearTweet.count()\n",
        "negative = Trump_Tweets[Trump_Tweets['analysis'] == 'negative'].ClearTweet.count()\n",
        "\n",
        "fig = go.Figure(data = [go.Funnelarea(labels = [\"positivity\",\"negativity\",\"neutrality\"], values = [positive,negative,neutral])])\n",
        "fig.update_layout(title_text ='sentimat analysis tweets Donald Trump')\n",
        "fig.show()"
      ],
      "execution_count": 20,
      "outputs": [
        {
          "output_type": "display_data",
          "data": {
            "text/html": [
              "<html>\n",
              "<head><meta charset=\"utf-8\" /></head>\n",
              "<body>\n",
              "    <div>\n",
              "            <script src=\"https://cdnjs.cloudflare.com/ajax/libs/mathjax/2.7.5/MathJax.js?config=TeX-AMS-MML_SVG\"></script><script type=\"text/javascript\">if (window.MathJax) {MathJax.Hub.Config({SVG: {font: \"STIX-Web\"}});}</script>\n",
              "                <script type=\"text/javascript\">window.PlotlyConfig = {MathJaxConfig: 'local'};</script>\n",
              "        <script src=\"https://cdn.plot.ly/plotly-latest.min.js\"></script>    \n",
              "            <div id=\"7bbcff1f-66c5-4b74-8f0c-e624739affef\" class=\"plotly-graph-div\" style=\"height:525px; width:100%;\"></div>\n",
              "            <script type=\"text/javascript\">\n",
              "                \n",
              "                    window.PLOTLYENV=window.PLOTLYENV || {};\n",
              "                    \n",
              "                if (document.getElementById(\"7bbcff1f-66c5-4b74-8f0c-e624739affef\")) {\n",
              "                    Plotly.newPlot(\n",
              "                        '7bbcff1f-66c5-4b74-8f0c-e624739affef',\n",
              "                        [{\"labels\": [\"positivity\", \"negativity\", \"neutrality\"], \"type\": \"funnelarea\", \"values\": [379, 227, 394]}],\n",
              "                        {\"template\": {\"data\": {\"bar\": [{\"error_x\": {\"color\": \"#2a3f5f\"}, \"error_y\": {\"color\": \"#2a3f5f\"}, \"marker\": {\"line\": {\"color\": \"#E5ECF6\", \"width\": 0.5}}, \"type\": \"bar\"}], \"barpolar\": [{\"marker\": {\"line\": {\"color\": \"#E5ECF6\", \"width\": 0.5}}, \"type\": \"barpolar\"}], \"carpet\": [{\"aaxis\": {\"endlinecolor\": \"#2a3f5f\", \"gridcolor\": \"white\", \"linecolor\": \"white\", \"minorgridcolor\": \"white\", \"startlinecolor\": \"#2a3f5f\"}, \"baxis\": {\"endlinecolor\": \"#2a3f5f\", \"gridcolor\": \"white\", \"linecolor\": \"white\", \"minorgridcolor\": \"white\", \"startlinecolor\": \"#2a3f5f\"}, \"type\": \"carpet\"}], \"choropleth\": [{\"colorbar\": {\"outlinewidth\": 0, \"ticks\": \"\"}, \"type\": \"choropleth\"}], \"contour\": [{\"colorbar\": {\"outlinewidth\": 0, \"ticks\": \"\"}, \"colorscale\": [[0.0, \"#0d0887\"], [0.1111111111111111, \"#46039f\"], [0.2222222222222222, \"#7201a8\"], [0.3333333333333333, \"#9c179e\"], [0.4444444444444444, \"#bd3786\"], [0.5555555555555556, \"#d8576b\"], [0.6666666666666666, \"#ed7953\"], [0.7777777777777778, \"#fb9f3a\"], [0.8888888888888888, \"#fdca26\"], [1.0, \"#f0f921\"]], \"type\": \"contour\"}], \"contourcarpet\": [{\"colorbar\": {\"outlinewidth\": 0, \"ticks\": \"\"}, \"type\": \"contourcarpet\"}], \"heatmap\": [{\"colorbar\": {\"outlinewidth\": 0, \"ticks\": \"\"}, \"colorscale\": [[0.0, \"#0d0887\"], [0.1111111111111111, \"#46039f\"], [0.2222222222222222, \"#7201a8\"], [0.3333333333333333, \"#9c179e\"], [0.4444444444444444, \"#bd3786\"], [0.5555555555555556, \"#d8576b\"], [0.6666666666666666, \"#ed7953\"], [0.7777777777777778, \"#fb9f3a\"], [0.8888888888888888, \"#fdca26\"], [1.0, \"#f0f921\"]], \"type\": \"heatmap\"}], \"heatmapgl\": [{\"colorbar\": {\"outlinewidth\": 0, \"ticks\": \"\"}, \"colorscale\": [[0.0, \"#0d0887\"], [0.1111111111111111, \"#46039f\"], [0.2222222222222222, \"#7201a8\"], [0.3333333333333333, \"#9c179e\"], [0.4444444444444444, \"#bd3786\"], [0.5555555555555556, \"#d8576b\"], [0.6666666666666666, \"#ed7953\"], [0.7777777777777778, \"#fb9f3a\"], [0.8888888888888888, \"#fdca26\"], [1.0, \"#f0f921\"]], \"type\": \"heatmapgl\"}], \"histogram\": [{\"marker\": {\"colorbar\": {\"outlinewidth\": 0, \"ticks\": \"\"}}, \"type\": \"histogram\"}], \"histogram2d\": [{\"colorbar\": {\"outlinewidth\": 0, \"ticks\": \"\"}, \"colorscale\": [[0.0, \"#0d0887\"], [0.1111111111111111, \"#46039f\"], [0.2222222222222222, \"#7201a8\"], [0.3333333333333333, \"#9c179e\"], [0.4444444444444444, \"#bd3786\"], [0.5555555555555556, \"#d8576b\"], [0.6666666666666666, \"#ed7953\"], [0.7777777777777778, \"#fb9f3a\"], [0.8888888888888888, \"#fdca26\"], [1.0, \"#f0f921\"]], \"type\": \"histogram2d\"}], \"histogram2dcontour\": [{\"colorbar\": {\"outlinewidth\": 0, \"ticks\": \"\"}, \"colorscale\": [[0.0, \"#0d0887\"], [0.1111111111111111, \"#46039f\"], [0.2222222222222222, \"#7201a8\"], [0.3333333333333333, \"#9c179e\"], [0.4444444444444444, \"#bd3786\"], [0.5555555555555556, \"#d8576b\"], [0.6666666666666666, \"#ed7953\"], [0.7777777777777778, \"#fb9f3a\"], [0.8888888888888888, \"#fdca26\"], [1.0, \"#f0f921\"]], \"type\": \"histogram2dcontour\"}], \"mesh3d\": [{\"colorbar\": {\"outlinewidth\": 0, \"ticks\": \"\"}, \"type\": \"mesh3d\"}], \"parcoords\": [{\"line\": {\"colorbar\": {\"outlinewidth\": 0, \"ticks\": \"\"}}, \"type\": \"parcoords\"}], \"pie\": [{\"automargin\": true, \"type\": \"pie\"}], \"scatter\": [{\"marker\": {\"colorbar\": {\"outlinewidth\": 0, \"ticks\": \"\"}}, \"type\": \"scatter\"}], \"scatter3d\": [{\"line\": {\"colorbar\": {\"outlinewidth\": 0, \"ticks\": \"\"}}, \"marker\": {\"colorbar\": {\"outlinewidth\": 0, \"ticks\": \"\"}}, \"type\": \"scatter3d\"}], \"scattercarpet\": [{\"marker\": {\"colorbar\": {\"outlinewidth\": 0, \"ticks\": \"\"}}, \"type\": \"scattercarpet\"}], \"scattergeo\": [{\"marker\": {\"colorbar\": {\"outlinewidth\": 0, \"ticks\": \"\"}}, \"type\": \"scattergeo\"}], \"scattergl\": [{\"marker\": {\"colorbar\": {\"outlinewidth\": 0, \"ticks\": \"\"}}, \"type\": \"scattergl\"}], \"scattermapbox\": [{\"marker\": {\"colorbar\": {\"outlinewidth\": 0, \"ticks\": \"\"}}, \"type\": \"scattermapbox\"}], \"scatterpolar\": [{\"marker\": {\"colorbar\": {\"outlinewidth\": 0, \"ticks\": \"\"}}, \"type\": \"scatterpolar\"}], \"scatterpolargl\": [{\"marker\": {\"colorbar\": {\"outlinewidth\": 0, \"ticks\": \"\"}}, \"type\": \"scatterpolargl\"}], \"scatterternary\": [{\"marker\": {\"colorbar\": {\"outlinewidth\": 0, \"ticks\": \"\"}}, \"type\": \"scatterternary\"}], \"surface\": [{\"colorbar\": {\"outlinewidth\": 0, \"ticks\": \"\"}, \"colorscale\": [[0.0, \"#0d0887\"], [0.1111111111111111, \"#46039f\"], [0.2222222222222222, \"#7201a8\"], [0.3333333333333333, \"#9c179e\"], [0.4444444444444444, \"#bd3786\"], [0.5555555555555556, \"#d8576b\"], [0.6666666666666666, \"#ed7953\"], [0.7777777777777778, \"#fb9f3a\"], [0.8888888888888888, \"#fdca26\"], [1.0, \"#f0f921\"]], \"type\": \"surface\"}], \"table\": [{\"cells\": {\"fill\": {\"color\": \"#EBF0F8\"}, \"line\": {\"color\": \"white\"}}, \"header\": {\"fill\": {\"color\": \"#C8D4E3\"}, \"line\": {\"color\": \"white\"}}, \"type\": \"table\"}]}, \"layout\": {\"annotationdefaults\": {\"arrowcolor\": \"#2a3f5f\", \"arrowhead\": 0, \"arrowwidth\": 1}, \"coloraxis\": {\"colorbar\": {\"outlinewidth\": 0, \"ticks\": \"\"}}, \"colorscale\": {\"diverging\": [[0, \"#8e0152\"], [0.1, \"#c51b7d\"], [0.2, \"#de77ae\"], [0.3, \"#f1b6da\"], [0.4, \"#fde0ef\"], [0.5, \"#f7f7f7\"], [0.6, \"#e6f5d0\"], [0.7, \"#b8e186\"], [0.8, \"#7fbc41\"], [0.9, \"#4d9221\"], [1, \"#276419\"]], \"sequential\": [[0.0, \"#0d0887\"], [0.1111111111111111, \"#46039f\"], [0.2222222222222222, \"#7201a8\"], [0.3333333333333333, \"#9c179e\"], [0.4444444444444444, \"#bd3786\"], [0.5555555555555556, \"#d8576b\"], [0.6666666666666666, \"#ed7953\"], [0.7777777777777778, \"#fb9f3a\"], [0.8888888888888888, \"#fdca26\"], [1.0, \"#f0f921\"]], \"sequentialminus\": [[0.0, \"#0d0887\"], [0.1111111111111111, \"#46039f\"], [0.2222222222222222, \"#7201a8\"], [0.3333333333333333, \"#9c179e\"], [0.4444444444444444, \"#bd3786\"], [0.5555555555555556, \"#d8576b\"], [0.6666666666666666, \"#ed7953\"], [0.7777777777777778, \"#fb9f3a\"], [0.8888888888888888, \"#fdca26\"], [1.0, \"#f0f921\"]]}, \"colorway\": [\"#636efa\", \"#EF553B\", \"#00cc96\", \"#ab63fa\", \"#FFA15A\", \"#19d3f3\", \"#FF6692\", \"#B6E880\", \"#FF97FF\", \"#FECB52\"], \"font\": {\"color\": \"#2a3f5f\"}, \"geo\": {\"bgcolor\": \"white\", \"lakecolor\": \"white\", \"landcolor\": \"#E5ECF6\", \"showlakes\": true, \"showland\": true, \"subunitcolor\": \"white\"}, \"hoverlabel\": {\"align\": \"left\"}, \"hovermode\": \"closest\", \"mapbox\": {\"style\": \"light\"}, \"paper_bgcolor\": \"white\", \"plot_bgcolor\": \"#E5ECF6\", \"polar\": {\"angularaxis\": {\"gridcolor\": \"white\", \"linecolor\": \"white\", \"ticks\": \"\"}, \"bgcolor\": \"#E5ECF6\", \"radialaxis\": {\"gridcolor\": \"white\", \"linecolor\": \"white\", \"ticks\": \"\"}}, \"scene\": {\"xaxis\": {\"backgroundcolor\": \"#E5ECF6\", \"gridcolor\": \"white\", \"gridwidth\": 2, \"linecolor\": \"white\", \"showbackground\": true, \"ticks\": \"\", \"zerolinecolor\": \"white\"}, \"yaxis\": {\"backgroundcolor\": \"#E5ECF6\", \"gridcolor\": \"white\", \"gridwidth\": 2, \"linecolor\": \"white\", \"showbackground\": true, \"ticks\": \"\", \"zerolinecolor\": \"white\"}, \"zaxis\": {\"backgroundcolor\": \"#E5ECF6\", \"gridcolor\": \"white\", \"gridwidth\": 2, \"linecolor\": \"white\", \"showbackground\": true, \"ticks\": \"\", \"zerolinecolor\": \"white\"}}, \"shapedefaults\": {\"line\": {\"color\": \"#2a3f5f\"}}, \"ternary\": {\"aaxis\": {\"gridcolor\": \"white\", \"linecolor\": \"white\", \"ticks\": \"\"}, \"baxis\": {\"gridcolor\": \"white\", \"linecolor\": \"white\", \"ticks\": \"\"}, \"bgcolor\": \"#E5ECF6\", \"caxis\": {\"gridcolor\": \"white\", \"linecolor\": \"white\", \"ticks\": \"\"}}, \"title\": {\"x\": 0.05}, \"xaxis\": {\"automargin\": true, \"gridcolor\": \"white\", \"linecolor\": \"white\", \"ticks\": \"\", \"title\": {\"standoff\": 15}, \"zerolinecolor\": \"white\", \"zerolinewidth\": 2}, \"yaxis\": {\"automargin\": true, \"gridcolor\": \"white\", \"linecolor\": \"white\", \"ticks\": \"\", \"title\": {\"standoff\": 15}, \"zerolinecolor\": \"white\", \"zerolinewidth\": 2}}}, \"title\": {\"text\": \"sentimat analysis tweets Donald Trump\"}},\n",
              "                        {\"responsive\": true}\n",
              "                    ).then(function(){\n",
              "                            \n",
              "var gd = document.getElementById('7bbcff1f-66c5-4b74-8f0c-e624739affef');\n",
              "var x = new MutationObserver(function (mutations, observer) {{\n",
              "        var display = window.getComputedStyle(gd).display;\n",
              "        if (!display || display === 'none') {{\n",
              "            console.log([gd, 'removed!']);\n",
              "            Plotly.purge(gd);\n",
              "            observer.disconnect();\n",
              "        }}\n",
              "}});\n",
              "\n",
              "// Listen for the removal of the full notebook cells\n",
              "var notebookContainer = gd.closest('#notebook-container');\n",
              "if (notebookContainer) {{\n",
              "    x.observe(notebookContainer, {childList: true});\n",
              "}}\n",
              "\n",
              "// Listen for the clearing of the current output cell\n",
              "var outputEl = gd.closest('.output');\n",
              "if (outputEl) {{\n",
              "    x.observe(outputEl, {childList: true});\n",
              "}}\n",
              "\n",
              "                        })\n",
              "                };\n",
              "                \n",
              "            </script>\n",
              "        </div>\n",
              "</body>\n",
              "</html>"
            ]
          },
          "metadata": {
            "tags": []
          }
        }
      ]
    },
    {
      "cell_type": "code",
      "metadata": {
        "colab": {
          "base_uri": "https://localhost:8080/",
          "height": 289
        },
        "id": "RZlhgK1r-mg0",
        "outputId": "af5c4ab9-8c6c-4483-a1f8-64c117f0ae4f"
      },
      "source": [
        "Biden_Tweets = df_Mix.query('(condidat == \"Biden\")').sort_values('user_followers_count',ascending = False).drop_duplicates(['user_name'])[['tweet','country']]\n",
        "Biden_Tweets = Biden_Tweets.dropna().loc[Biden_Tweets.country == 'United States of America'][:1000]\n",
        "\n",
        "\n",
        "Biden_Tweets.reset_index(inplace = True, drop = True)\n",
        "\n",
        "Biden_Tweets['ClearTweet'] = Biden_Tweets['tweet'].apply(clean)\n",
        "\n",
        " \n",
        "Biden_Tweets['subjectivity']= Biden_Tweets['ClearTweet'].apply(getSubjectivity)\n",
        "Biden_Tweets['polarity']    = Biden_Tweets['ClearTweet'].apply(getPolarity)\n",
        "Biden_Tweets['analysis']    = Biden_Tweets['polarity'].apply(getAnalysis)\n",
        "Biden_Tweets.head()"
      ],
      "execution_count": 21,
      "outputs": [
        {
          "output_type": "execute_result",
          "data": {
            "text/html": [
              "<div>\n",
              "<style scoped>\n",
              "    .dataframe tbody tr th:only-of-type {\n",
              "        vertical-align: middle;\n",
              "    }\n",
              "\n",
              "    .dataframe tbody tr th {\n",
              "        vertical-align: top;\n",
              "    }\n",
              "\n",
              "    .dataframe thead th {\n",
              "        text-align: right;\n",
              "    }\n",
              "</style>\n",
              "<table border=\"1\" class=\"dataframe\">\n",
              "  <thead>\n",
              "    <tr style=\"text-align: right;\">\n",
              "      <th></th>\n",
              "      <th>tweet</th>\n",
              "      <th>country</th>\n",
              "      <th>ClearTweet</th>\n",
              "      <th>subjectivity</th>\n",
              "      <th>polarity</th>\n",
              "      <th>analysis</th>\n",
              "    </tr>\n",
              "  </thead>\n",
              "  <tbody>\n",
              "    <tr>\n",
              "      <th>0</th>\n",
              "      <td>#Trump y #Biden responden las preguntas de los...</td>\n",
              "      <td>United States of America</td>\n",
              "      <td>trump y biden responden las preguntas de los v...</td>\n",
              "      <td>0.000000</td>\n",
              "      <td>0.000000</td>\n",
              "      <td>neutral</td>\n",
              "    </tr>\n",
              "    <tr>\n",
              "      <th>1</th>\n",
              "      <td>Never, never, EVER listen to anything #RupertM...</td>\n",
              "      <td>United States of America</td>\n",
              "      <td>never  never  ever listen to anything rupertmu...</td>\n",
              "      <td>0.288889</td>\n",
              "      <td>-0.155556</td>\n",
              "      <td>negative</td>\n",
              "    </tr>\n",
              "    <tr>\n",
              "      <th>2</th>\n",
              "      <td>“FARRELL: Hunter Biden Revelations.” Read: htt...</td>\n",
              "      <td>United States of America</td>\n",
              "      <td>farrell  hunter biden revelations   read   ch...</td>\n",
              "      <td>0.000000</td>\n",
              "      <td>0.000000</td>\n",
              "      <td>neutral</td>\n",
              "    </tr>\n",
              "    <tr>\n",
              "      <th>3</th>\n",
              "      <td>@BradAustinGlo @realDonaldTrump Brad believe m...</td>\n",
              "      <td>United States of America</td>\n",
              "      <td>brad believe me  is our time   hispanics  wi...</td>\n",
              "      <td>0.777778</td>\n",
              "      <td>0.083333</td>\n",
              "      <td>positive</td>\n",
              "    </tr>\n",
              "    <tr>\n",
              "      <th>4</th>\n",
              "      <td>Isn't it another \"smear\" to attack this report...</td>\n",
              "      <td>United States of America</td>\n",
              "      <td>isn t it another  smear  to attack this report...</td>\n",
              "      <td>0.625000</td>\n",
              "      <td>0.125000</td>\n",
              "      <td>positive</td>\n",
              "    </tr>\n",
              "  </tbody>\n",
              "</table>\n",
              "</div>"
            ],
            "text/plain": [
              "                                               tweet  ...  analysis\n",
              "0  #Trump y #Biden responden las preguntas de los...  ...   neutral\n",
              "1  Never, never, EVER listen to anything #RupertM...  ...  negative\n",
              "2  “FARRELL: Hunter Biden Revelations.” Read: htt...  ...   neutral\n",
              "3  @BradAustinGlo @realDonaldTrump Brad believe m...  ...  positive\n",
              "4  Isn't it another \"smear\" to attack this report...  ...  positive\n",
              "\n",
              "[5 rows x 6 columns]"
            ]
          },
          "metadata": {
            "tags": []
          },
          "execution_count": 21
        }
      ]
    },
    {
      "cell_type": "code",
      "metadata": {
        "colab": {
          "base_uri": "https://localhost:8080/"
        },
        "id": "A3FEM632_R6e",
        "outputId": "9c16630e-34b4-48f3-c3e3-f476eb86d25b"
      },
      "source": [
        "%%time\n",
        "Biden_Tweets.polarity = Biden_Tweets.polarity.apply(lambda x: getAnalysis(x))"
      ],
      "execution_count": 22,
      "outputs": [
        {
          "output_type": "stream",
          "text": [
            "CPU times: user 1.63 ms, sys: 0 ns, total: 1.63 ms\n",
            "Wall time: 1.44 ms\n"
          ],
          "name": "stdout"
        }
      ]
    },
    {
      "cell_type": "code",
      "metadata": {
        "colab": {
          "base_uri": "https://localhost:8080/",
          "height": 516
        },
        "id": "u9MpGeIa_Xbv",
        "outputId": "7c18effe-c8fa-4627-a868-23f954e8f891"
      },
      "source": [
        "target_cnt = Counter(Biden_Tweets.polarity)\n",
        "\n",
        "plt.figure(figsize=(16,8))\n",
        "plt.bar(target_cnt.keys(), target_cnt.values())\n",
        "plt.title(\"Dataset labels distribuition\")"
      ],
      "execution_count": 24,
      "outputs": [
        {
          "output_type": "execute_result",
          "data": {
            "text/plain": [
              "Text(0.5, 1.0, 'Dataset labels distribuition')"
            ]
          },
          "metadata": {
            "tags": []
          },
          "execution_count": 24
        },
        {
          "output_type": "display_data",
          "data": {
            "image/png": "[encoded data removed]",
            "text/plain": [
              "<Figure size 1152x576 with 1 Axes>"
            ]
          },
          "metadata": {
            "tags": [],
            "needs_background": "light"
          }
        }
      ]
    },
    {
      "cell_type": "code",
      "metadata": {
        "colab": {
          "base_uri": "https://localhost:8080/",
          "height": 542
        },
        "id": "7DZSipU3_dN-",
        "outputId": "75e7bba7-4d72-4851-9c68-962dee144815"
      },
      "source": [
        "general  = Biden_Tweets.groupby('analysis').analysis.count()\n",
        "neutral  = Biden_Tweets[Biden_Tweets['analysis'] == 'neutral'].ClearTweet.count()\n",
        "positive = Biden_Tweets[Biden_Tweets['analysis'] == 'positive'].ClearTweet.count()\n",
        "negative = Biden_Tweets[Biden_Tweets['analysis'] == 'negative'].ClearTweet.count()\n",
        "\n",
        "fig = go.Figure(data = [go.Funnelarea(labels = [\"positivity\",\"negativity\",\"neutrality\"], values = [positive,negative,neutral])])\n",
        "fig.update_layout(title_text ='sentimat analysis tweets Joe Biden')\n",
        "fig.show()"
      ],
      "execution_count": 25,
      "outputs": [
        {
          "output_type": "display_data",
          "data": {
            "text/html": [
              "<html>\n",
              "<head><meta charset=\"utf-8\" /></head>\n",
              "<body>\n",
              "    <div>\n",
              "            <script src=\"https://cdnjs.cloudflare.com/ajax/libs/mathjax/2.7.5/MathJax.js?config=TeX-AMS-MML_SVG\"></script><script type=\"text/javascript\">if (window.MathJax) {MathJax.Hub.Config({SVG: {font: \"STIX-Web\"}});}</script>\n",
              "                <script type=\"text/javascript\">window.PlotlyConfig = {MathJaxConfig: 'local'};</script>\n",
              "        <script src=\"https://cdn.plot.ly/plotly-latest.min.js\"></script>    \n",
              "            <div id=\"1b47ad4b-9182-4b19-a032-4995ad9a9299\" class=\"plotly-graph-div\" style=\"height:525px; width:100%;\"></div>\n",
              "            <script type=\"text/javascript\">\n",
              "                \n",
              "                    window.PLOTLYENV=window.PLOTLYENV || {};\n",
              "                    \n",
              "                if (document.getElementById(\"1b47ad4b-9182-4b19-a032-4995ad9a9299\")) {\n",
              "                    Plotly.newPlot(\n",
              "                        '1b47ad4b-9182-4b19-a032-4995ad9a9299',\n",
              "                        [{\"labels\": [\"positivity\", \"negativity\", \"neutrality\"], \"type\": \"funnelarea\", \"values\": [443, 183, 374]}],\n",
              "                        {\"template\": {\"data\": {\"bar\": [{\"error_x\": {\"color\": \"#2a3f5f\"}, \"error_y\": {\"color\": \"#2a3f5f\"}, \"marker\": {\"line\": {\"color\": \"#E5ECF6\", \"width\": 0.5}}, \"type\": \"bar\"}], \"barpolar\": [{\"marker\": {\"line\": {\"color\": \"#E5ECF6\", \"width\": 0.5}}, \"type\": \"barpolar\"}], \"carpet\": [{\"aaxis\": {\"endlinecolor\": \"#2a3f5f\", \"gridcolor\": \"white\", \"linecolor\": \"white\", \"minorgridcolor\": \"white\", \"startlinecolor\": \"#2a3f5f\"}, \"baxis\": {\"endlinecolor\": \"#2a3f5f\", \"gridcolor\": \"white\", \"linecolor\": \"white\", \"minorgridcolor\": \"white\", \"startlinecolor\": \"#2a3f5f\"}, \"type\": \"carpet\"}], \"choropleth\": [{\"colorbar\": {\"outlinewidth\": 0, \"ticks\": \"\"}, \"type\": \"choropleth\"}], \"contour\": [{\"colorbar\": {\"outlinewidth\": 0, \"ticks\": \"\"}, \"colorscale\": [[0.0, \"#0d0887\"], [0.1111111111111111, \"#46039f\"], [0.2222222222222222, \"#7201a8\"], [0.3333333333333333, \"#9c179e\"], [0.4444444444444444, \"#bd3786\"], [0.5555555555555556, \"#d8576b\"], [0.6666666666666666, \"#ed7953\"], [0.7777777777777778, \"#fb9f3a\"], [0.8888888888888888, \"#fdca26\"], [1.0, \"#f0f921\"]], \"type\": \"contour\"}], \"contourcarpet\": [{\"colorbar\": {\"outlinewidth\": 0, \"ticks\": \"\"}, \"type\": \"contourcarpet\"}], \"heatmap\": [{\"colorbar\": {\"outlinewidth\": 0, \"ticks\": \"\"}, \"colorscale\": [[0.0, \"#0d0887\"], [0.1111111111111111, \"#46039f\"], [0.2222222222222222, \"#7201a8\"], [0.3333333333333333, \"#9c179e\"], [0.4444444444444444, \"#bd3786\"], [0.5555555555555556, \"#d8576b\"], [0.6666666666666666, \"#ed7953\"], [0.7777777777777778, \"#fb9f3a\"], [0.8888888888888888, \"#fdca26\"], [1.0, \"#f0f921\"]], \"type\": \"heatmap\"}], \"heatmapgl\": [{\"colorbar\": {\"outlinewidth\": 0, \"ticks\": \"\"}, \"colorscale\": [[0.0, \"#0d0887\"], [0.1111111111111111, \"#46039f\"], [0.2222222222222222, \"#7201a8\"], [0.3333333333333333, \"#9c179e\"], [0.4444444444444444, \"#bd3786\"], [0.5555555555555556, \"#d8576b\"], [0.6666666666666666, \"#ed7953\"], [0.7777777777777778, \"#fb9f3a\"], [0.8888888888888888, \"#fdca26\"], [1.0, \"#f0f921\"]], \"type\": \"heatmapgl\"}], \"histogram\": [{\"marker\": {\"colorbar\": {\"outlinewidth\": 0, \"ticks\": \"\"}}, \"type\": \"histogram\"}], \"histogram2d\": [{\"colorbar\": {\"outlinewidth\": 0, \"ticks\": \"\"}, \"colorscale\": [[0.0, \"#0d0887\"], [0.1111111111111111, \"#46039f\"], [0.2222222222222222, \"#7201a8\"], [0.3333333333333333, \"#9c179e\"], [0.4444444444444444, \"#bd3786\"], [0.5555555555555556, \"#d8576b\"], [0.6666666666666666, \"#ed7953\"], [0.7777777777777778, \"#fb9f3a\"], [0.8888888888888888, \"#fdca26\"], [1.0, \"#f0f921\"]], \"type\": \"histogram2d\"}], \"histogram2dcontour\": [{\"colorbar\": {\"outlinewidth\": 0, \"ticks\": \"\"}, \"colorscale\": [[0.0, \"#0d0887\"], [0.1111111111111111, \"#46039f\"], [0.2222222222222222, \"#7201a8\"], [0.3333333333333333, \"#9c179e\"], [0.4444444444444444, \"#bd3786\"], [0.5555555555555556, \"#d8576b\"], [0.6666666666666666, \"#ed7953\"], [0.7777777777777778, \"#fb9f3a\"], [0.8888888888888888, \"#fdca26\"], [1.0, \"#f0f921\"]], \"type\": \"histogram2dcontour\"}], \"mesh3d\": [{\"colorbar\": {\"outlinewidth\": 0, \"ticks\": \"\"}, \"type\": \"mesh3d\"}], \"parcoords\": [{\"line\": {\"colorbar\": {\"outlinewidth\": 0, \"ticks\": \"\"}}, \"type\": \"parcoords\"}], \"pie\": [{\"automargin\": true, \"type\": \"pie\"}], \"scatter\": [{\"marker\": {\"colorbar\": {\"outlinewidth\": 0, \"ticks\": \"\"}}, \"type\": \"scatter\"}], \"scatter3d\": [{\"line\": {\"colorbar\": {\"outlinewidth\": 0, \"ticks\": \"\"}}, \"marker\": {\"colorbar\": {\"outlinewidth\": 0, \"ticks\": \"\"}}, \"type\": \"scatter3d\"}], \"scattercarpet\": [{\"marker\": {\"colorbar\": {\"outlinewidth\": 0, \"ticks\": \"\"}}, \"type\": \"scattercarpet\"}], \"scattergeo\": [{\"marker\": {\"colorbar\": {\"outlinewidth\": 0, \"ticks\": \"\"}}, \"type\": \"scattergeo\"}], \"scattergl\": [{\"marker\": {\"colorbar\": {\"outlinewidth\": 0, \"ticks\": \"\"}}, \"type\": \"scattergl\"}], \"scattermapbox\": [{\"marker\": {\"colorbar\": {\"outlinewidth\": 0, \"ticks\": \"\"}}, \"type\": \"scattermapbox\"}], \"scatterpolar\": [{\"marker\": {\"colorbar\": {\"outlinewidth\": 0, \"ticks\": \"\"}}, \"type\": \"scatterpolar\"}], \"scatterpolargl\": [{\"marker\": {\"colorbar\": {\"outlinewidth\": 0, \"ticks\": \"\"}}, \"type\": \"scatterpolargl\"}], \"scatterternary\": [{\"marker\": {\"colorbar\": {\"outlinewidth\": 0, \"ticks\": \"\"}}, \"type\": \"scatterternary\"}], \"surface\": [{\"colorbar\": {\"outlinewidth\": 0, \"ticks\": \"\"}, \"colorscale\": [[0.0, \"#0d0887\"], [0.1111111111111111, \"#46039f\"], [0.2222222222222222, \"#7201a8\"], [0.3333333333333333, \"#9c179e\"], [0.4444444444444444, \"#bd3786\"], [0.5555555555555556, \"#d8576b\"], [0.6666666666666666, \"#ed7953\"], [0.7777777777777778, \"#fb9f3a\"], [0.8888888888888888, \"#fdca26\"], [1.0, \"#f0f921\"]], \"type\": \"surface\"}], \"table\": [{\"cells\": {\"fill\": {\"color\": \"#EBF0F8\"}, \"line\": {\"color\": \"white\"}}, \"header\": {\"fill\": {\"color\": \"#C8D4E3\"}, \"line\": {\"color\": \"white\"}}, \"type\": \"table\"}]}, \"layout\": {\"annotationdefaults\": {\"arrowcolor\": \"#2a3f5f\", \"arrowhead\": 0, \"arrowwidth\": 1}, \"coloraxis\": {\"colorbar\": {\"outlinewidth\": 0, \"ticks\": \"\"}}, \"colorscale\": {\"diverging\": [[0, \"#8e0152\"], [0.1, \"#c51b7d\"], [0.2, \"#de77ae\"], [0.3, \"#f1b6da\"], [0.4, \"#fde0ef\"], [0.5, \"#f7f7f7\"], [0.6, \"#e6f5d0\"], [0.7, \"#b8e186\"], [0.8, \"#7fbc41\"], [0.9, \"#4d9221\"], [1, \"#276419\"]], \"sequential\": [[0.0, \"#0d0887\"], [0.1111111111111111, \"#46039f\"], [0.2222222222222222, \"#7201a8\"], [0.3333333333333333, \"#9c179e\"], [0.4444444444444444, \"#bd3786\"], [0.5555555555555556, \"#d8576b\"], [0.6666666666666666, \"#ed7953\"], [0.7777777777777778, \"#fb9f3a\"], [0.8888888888888888, \"#fdca26\"], [1.0, \"#f0f921\"]], \"sequentialminus\": [[0.0, \"#0d0887\"], [0.1111111111111111, \"#46039f\"], [0.2222222222222222, \"#7201a8\"], [0.3333333333333333, \"#9c179e\"], [0.4444444444444444, \"#bd3786\"], [0.5555555555555556, \"#d8576b\"], [0.6666666666666666, \"#ed7953\"], [0.7777777777777778, \"#fb9f3a\"], [0.8888888888888888, \"#fdca26\"], [1.0, \"#f0f921\"]]}, \"colorway\": [\"#636efa\", \"#EF553B\", \"#00cc96\", \"#ab63fa\", \"#FFA15A\", \"#19d3f3\", \"#FF6692\", \"#B6E880\", \"#FF97FF\", \"#FECB52\"], \"font\": {\"color\": \"#2a3f5f\"}, \"geo\": {\"bgcolor\": \"white\", \"lakecolor\": \"white\", \"landcolor\": \"#E5ECF6\", \"showlakes\": true, \"showland\": true, \"subunitcolor\": \"white\"}, \"hoverlabel\": {\"align\": \"left\"}, \"hovermode\": \"closest\", \"mapbox\": {\"style\": \"light\"}, \"paper_bgcolor\": \"white\", \"plot_bgcolor\": \"#E5ECF6\", \"polar\": {\"angularaxis\": {\"gridcolor\": \"white\", \"linecolor\": \"white\", \"ticks\": \"\"}, \"bgcolor\": \"#E5ECF6\", \"radialaxis\": {\"gridcolor\": \"white\", \"linecolor\": \"white\", \"ticks\": \"\"}}, \"scene\": {\"xaxis\": {\"backgroundcolor\": \"#E5ECF6\", \"gridcolor\": \"white\", \"gridwidth\": 2, \"linecolor\": \"white\", \"showbackground\": true, \"ticks\": \"\", \"zerolinecolor\": \"white\"}, \"yaxis\": {\"backgroundcolor\": \"#E5ECF6\", \"gridcolor\": \"white\", \"gridwidth\": 2, \"linecolor\": \"white\", \"showbackground\": true, \"ticks\": \"\", \"zerolinecolor\": \"white\"}, \"zaxis\": {\"backgroundcolor\": \"#E5ECF6\", \"gridcolor\": \"white\", \"gridwidth\": 2, \"linecolor\": \"white\", \"showbackground\": true, \"ticks\": \"\", \"zerolinecolor\": \"white\"}}, \"shapedefaults\": {\"line\": {\"color\": \"#2a3f5f\"}}, \"ternary\": {\"aaxis\": {\"gridcolor\": \"white\", \"linecolor\": \"white\", \"ticks\": \"\"}, \"baxis\": {\"gridcolor\": \"white\", \"linecolor\": \"white\", \"ticks\": \"\"}, \"bgcolor\": \"#E5ECF6\", \"caxis\": {\"gridcolor\": \"white\", \"linecolor\": \"white\", \"ticks\": \"\"}}, \"title\": {\"x\": 0.05}, \"xaxis\": {\"automargin\": true, \"gridcolor\": \"white\", \"linecolor\": \"white\", \"ticks\": \"\", \"title\": {\"standoff\": 15}, \"zerolinecolor\": \"white\", \"zerolinewidth\": 2}, \"yaxis\": {\"automargin\": true, \"gridcolor\": \"white\", \"linecolor\": \"white\", \"ticks\": \"\", \"title\": {\"standoff\": 15}, \"zerolinecolor\": \"white\", \"zerolinewidth\": 2}}}, \"title\": {\"text\": \"sentimat analysis tweets Joe Biden\"}},\n",
              "                        {\"responsive\": true}\n",
              "                    ).then(function(){\n",
              "                            \n",
              "var gd = document.getElementById('1b47ad4b-9182-4b19-a032-4995ad9a9299');\n",
              "var x = new MutationObserver(function (mutations, observer) {{\n",
              "        var display = window.getComputedStyle(gd).display;\n",
              "        if (!display || display === 'none') {{\n",
              "            console.log([gd, 'removed!']);\n",
              "            Plotly.purge(gd);\n",
              "            observer.disconnect();\n",
              "        }}\n",
              "}});\n",
              "\n",
              "// Listen for the removal of the full notebook cells\n",
              "var notebookContainer = gd.closest('#notebook-container');\n",
              "if (notebookContainer) {{\n",
              "    x.observe(notebookContainer, {childList: true});\n",
              "}}\n",
              "\n",
              "// Listen for the clearing of the current output cell\n",
              "var outputEl = gd.closest('.output');\n",
              "if (outputEl) {{\n",
              "    x.observe(outputEl, {childList: true});\n",
              "}}\n",
              "\n",
              "                        })\n",
              "                };\n",
              "                \n",
              "            </script>\n",
              "        </div>\n",
              "</body>\n",
              "</html>"
            ]
          },
          "metadata": {
            "tags": []
          }
        }
      ]
    },
    {
      "cell_type": "code",
      "metadata": {
        "id": "nz28LI05_lCE"
      },
      "source": [
        ""
      ],
      "execution_count": null,
      "outputs": []
    }
  ]
}